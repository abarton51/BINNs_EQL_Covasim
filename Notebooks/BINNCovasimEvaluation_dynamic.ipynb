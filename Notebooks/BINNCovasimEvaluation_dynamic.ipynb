{
 "cells": [
  {
   "attachments": {},
   "cell_type": "markdown",
   "metadata": {},
   "source": [
    "## BINN Evaluation of Learned Parameters\n",
    "#### Uses BINNCovasim Neural Network Model"
   ]
  },
  {
   "cell_type": "code",
   "execution_count": null,
   "metadata": {},
   "outputs": [],
   "source": [
    "import numpy as np\n",
    "import pandas as pd\n",
    "\n",
    "import sys\n",
    "sys.path.append('../')\n",
    "\n",
    "from Modules.Utils.Imports import *\n",
    "from Modules.Models.BuildBINNs import BINNCovasim\n",
    "from Modules.Utils.ModelWrapper import ModelWrapper\n",
    "\n",
    "import Modules.Utils.PDESolver as PDESolver\n",
    "import Modules.Loaders.DataFormatter as DF\n",
    "from utils import get_case_name #, AIC_OLS, RSS\n",
    "\n",
    "# helper functions\n",
    "def to_torch(x):\n",
    "    return torch.from_numpy(x).float().to(device)\n",
    "def to_numpy(x):\n",
    "    return x.detach().cpu().numpy()"
   ]
  },
  {
   "cell_type": "code",
   "execution_count": null,
   "metadata": {},
   "outputs": [],
   "source": [
    "device = torch.device(GetLowestGPU(pick_from=[0,1,2,3]))\n",
    "\n",
    "# instantiate BINN model parameters and path\n",
    "path = '../Data/covasim_data/drums_data/'\n",
    "# path = '../Data/covasim_data/xin_data/'\n",
    "\n",
    "population = 50000\n",
    "test_prob = 0.1\n",
    "trace_prob = 0.3\n",
    "keep_d = True\n",
    "retrain = False\n",
    "dynamic = True\n",
    "masking = False\n",
    "multiple = True\n",
    "n_runs = 1000\n",
    "chi_type = 'piecewise'\n",
    "\n",
    "case_name = get_case_name(population, test_prob, trace_prob, keep_d, dynamic=dynamic, chi_type=chi_type)\n",
    "# yita_lb, yita_ub = 0.2, 0.4"
   ]
  },
  {
   "cell_type": "code",
   "execution_count": null,
   "metadata": {},
   "outputs": [],
   "source": [
    "if masking:\n",
    "    case_name = case_name + '_masking'\n",
    "if multiple:\n",
    "    params = DF.load_covasim_data(path, population, test_prob, trace_prob, keep_d, case_name + '_' + str(n_runs), plot=False)\n",
    "else:\n",
    "    params = DF.load_covasim_data(path, population, test_prob, trace_prob, keep_d, case_name, plot=False)"
   ]
  },
  {
   "cell_type": "code",
   "execution_count": null,
   "metadata": {},
   "outputs": [],
   "source": [
    "# split into train/val and convert to torch\n",
    "if multiple:\n",
    "    data = np.mean(params['data'], axis=0)\n",
    "    data = (data / params['population'])\n",
    "else:\n",
    "    data = params['data']\n",
    "    data = (data / params['population']).to_numpy()\n",
    "\n",
    "N = len(data)\n",
    "t_max = N - 1\n",
    "t = np.arange(N)[:,None]\n",
    "\n",
    "params.pop('data')\n",
    "\n",
    "tracing_array = params['tracing_array']"
   ]
  },
  {
   "cell_type": "code",
   "execution_count": null,
   "metadata": {},
   "outputs": [],
   "source": [
    "# mydir = '../models/covasim/2023-06-21_00-12-29' # piecewise h(t) function\n",
    "# mydir = '../models/covasim/2023-06-25_23-26-00' # constant h(t) function\n",
    "# mydir = '../models/covasim/2023-06-26_23-48-27' # constant h(t) function\n",
    "mydir = '../models/covasim/2023-07-06_23-47-16' # piecewise h(t) function, no masking"
   ]
  },
  {
   "cell_type": "code",
   "execution_count": null,
   "metadata": {},
   "outputs": [],
   "source": [
    "# instantiate BINN model\n",
    "binn = BINNCovasim(params, t_max, tracing_array, keep_d=keep_d).to(device)"
   ]
  },
  {
   "cell_type": "code",
   "execution_count": null,
   "metadata": {},
   "outputs": [],
   "source": [
    "parameters = binn.parameters()\n",
    "model = ModelWrapper(binn, None, None, save_name=os.path.join(mydir, case_name))"
   ]
  },
  {
   "cell_type": "code",
   "execution_count": null,
   "metadata": {},
   "outputs": [],
   "source": [
    "# load model weights. if retrain==True then load the retrained model\n",
    "if retrain:\n",
    "    model.save_name += '_retrain'\n",
    "model.save_name += '_best_val'\n",
    "model.load(model.save_name + '_model', device=device)\n",
    "\n",
    "# grab initial condition\n",
    "u0 = data[0, :].copy()"
   ]
  },
  {
   "cell_type": "code",
   "execution_count": null,
   "metadata": {},
   "outputs": [],
   "source": [
    "# learned surface fitter\n",
    "def surface_fitter(t):\n",
    "    res = binn.surface_fitter(t)\n",
    "    return res\n",
    "\n",
    "# learned contact_rate function\n",
    "def contact_rate(u):\n",
    "    res = binn.eta_func(to_torch(u)) # [:,[0,3,4]]\n",
    "    return to_numpy(res)\n",
    "\n",
    "# learned effective tracing rate function\n",
    "def beta(u):\n",
    "    res = binn.beta_func(to_torch(u))\n",
    "    return to_numpy(res)\n",
    "\n",
    "# learned diagnosis of quarantined rate function\n",
    "def tau(u):\n",
    "    res = binn.tau_func(to_torch(u))\n",
    "    return to_numpy(res)\n",
    "\n",
    "# do regression to figure out contact rate\n",
    "def contact_rate_regression(u):\n",
    "    s, a, y = u[:, 0][:, None], u[:, 1][:, None], u[:, 2][:, None]\n",
    "    features = [np.ones_like(a), s, s**2, a, y] #\n",
    "    features = np.concatenate(features, axis=1)\n",
    "    res = features @ regression_coefs_cr\n",
    "    # res *= 1.4\n",
    "    return res\n",
    "\n",
    "# do regression to figure out tracing rate\n",
    "def beta_regression(u):\n",
    "    a, b = u[:, 0][:, None], u[:, 1][:, None]\n",
    "    features = [np.ones_like(a), a, b] #\n",
    "    features = np.concatenate(features, axis=1)\n",
    "    res = features @ regression_coefs_qt\n",
    "    return res\n",
    "\n",
    "# do regression to figure out diagnoses rate (on quarantined folks)\n",
    "def tau_regression(u):\n",
    "    a, b = u[:, 0][:, None], u[:, 1][:, None]\n",
    "    features = [np.ones_like(a), a, b] #\n",
    "    features = np.concatenate(features, axis=1)\n",
    "    res = features @ regression_coefs_tau\n",
    "    return res\n"
   ]
  },
  {
   "cell_type": "code",
   "execution_count": null,
   "metadata": {},
   "outputs": [],
   "source": [
    "t_torch = to_torch(t)\n",
    "solutions = surface_fitter(t_torch).detach().numpy()\n",
    "eta_values = contact_rate(data[:,[0, 3, 4]])\n",
    "# beta_values = beta(np.sum(data[:,[0, 3, 4]], axis=1))\n",
    "tau_values = tau(data[:,[3, 4]])\n",
    "max_T = np.max(data[:,1])\n",
    "\n",
    "max_S_nn = np.max(solutions[:,0])\n",
    "max_T_nn = np.max(solutions[:,1])\n",
    "max_E_nn = np.max(solutions[:,2])\n",
    "max_A_nn = np.max(solutions[:,3])\n",
    "max_Y_nn = np.max(solutions[:,4])\n",
    "max_Q_nn = np.max(solutions[:,5])\n",
    "max_D_nn = np.max(solutions[:,6])\n",
    "max_R_nn = np.max(solutions[:,7])\n",
    "max_F_nn = np.max(solutions[:,8])"
   ]
  },
  {
   "cell_type": "code",
   "execution_count": null,
   "metadata": {},
   "outputs": [],
   "source": [
    "# simulate PDE. First grab the parameter values from the loaded BINN model.\n",
    "params['yita_lb'] = model.model.yita_lb\n",
    "params['yita_ub'] = model.model.yita_ub\n",
    "params['beta_lb'] = model.model.beta_lb\n",
    "params['beta_ub'] = model.model.beta_ub\n",
    "params['tau_lb'] = model.model.tau_lb\n",
    "params['tau_ub'] = model.model.tau_ub"
   ]
  },
  {
   "cell_type": "markdown",
   "metadata": {},
   "source": [
    "The following two cells are for running without sensitivity analysis, to do sensitivity analysis, skip these two and run the two after that"
   ]
  },
  {
   "cell_type": "code",
   "execution_count": null,
   "metadata": {},
   "outputs": [],
   "source": [
    "# if D is to be included in the model, otherwise use the other solver.\n",
    "if keep_d:\n",
    "    RHS = PDESolver.STEAYDQRF_RHS_dynamic\n",
    "    u_sim_NN = PDESolver.STEAYDQRF_sim(RHS, u0, t, contact_rate, beta, tau, params, chi_type, analyze_beta = False, analyze_eta = False, analyze_tau = False)\n",
    "    u_sim_NN *= population\n",
    "    \n",
    "    # commented out evaluations with regression models\n",
    "    #u_sim_regression = PDESolver.STEAYDQRF_sim(RHS, u0, t, contact_rate_regression, beta_regression, tau_regression, params, chi_type)\n",
    "    #u_sim_regression *= population"
   ]
  },
  {
   "cell_type": "code",
   "execution_count": null,
   "metadata": {},
   "outputs": [],
   "source": [
    "# rescale data values to represent number of people in state X rather than ratios\n",
    "\n",
    "data *= population\n",
    "\n",
    "plot=True\n",
    "if plot:\n",
    "    # data = params['data']\n",
    "    n = data.shape[1]\n",
    "    col_names = list('STEAYDQRF') if keep_d else list('STEAYQRF')\n",
    "    # t = np.arange(1, data.shape[0] + 1)\n",
    "    # plot compartments\n",
    "    fig = plt.figure(figsize=(15, 15))\n",
    "    for i in range(1, n + 1):\n",
    "        ax = fig.add_subplot(int(np.ceil(n / 3)), 3, i)\n",
    "        ax.plot(t, data[:, i - 1], '.k', label='Covasim Data')\n",
    "        ax.plot(t, u_sim_NN[:, i - 1], '-*r', label='ODE-NN')\n",
    "        ax.set_title(col_names[i - 1])\n",
    "        ax.legend(fontsize=8)\n",
    "        fig.subplots_adjust(left=0, right=1, bottom=0, top=1)\n",
    "        plt.tight_layout(pad=2)\n",
    "        plt.savefig(os.path.join(model.save_folder, case_name + '.png') )\n",
    "        # plt.show()"
   ]
  },
  {
   "cell_type": "markdown",
   "metadata": {},
   "source": [
    "following two cells are for sensitivity analysis "
   ]
  },
  {
   "cell_type": "code",
   "execution_count": 28,
   "metadata": {},
   "outputs": [
    {
     "name": "stderr",
     "output_type": "stream",
     "text": [
      "/Users/jordanklein22/opt/anaconda3/envs/Drums_reu_2023/lib/python3.10/site-packages/scipy/integrate/_ivp/base.py:20: ComplexWarning: Casting complex values to real discards the imaginary part\n",
      "  return np.asarray(fun(t, y), dtype=dtype)\n"
     ]
    },
    {
     "name": "stdout",
     "output_type": "stream",
     "text": [
      " \n",
      "(181,)\n",
      "(181,)\n"
     ]
    },
    {
     "data": {
      "image/png": "[encoded data removed]",
      "text/plain": [
       "<Figure size 640x480 with 1 Axes>"
      ]
     },
     "metadata": {},
     "output_type": "display_data"
    }
   ],
   "source": [
    "from scipy.integrate import solve_ivp\n",
    "\n",
    "t_span = (np.min(t), np.max(t))\n",
    "t_max = np.max(t)\n",
    "\n",
    "t_eval = np.linspace(np.min(t), np.max(t), np.max(t)-1)\n",
    "h = 1e-8\n",
    "\n",
    "# if D is to be included in the model, otherwise use the other solver.\n",
    "if keep_d:\n",
    "    RHS = PDESolver.STEAYDQRF_RHS_dynamic\n",
    "\n",
    "       \n",
    "    args_no = (contact_rate, beta, tau, params, t_span[1], chi_type, False, False, False)\n",
    "    args_beta = (contact_rate, beta, tau, params, t_span[1], chi_type, True, False, False)\n",
    "    args_eta = (contact_rate, beta, tau, params, t_span[1], chi_type, False, True, False)\n",
    "    args_tau = (contact_rate, beta, tau, params, t_span[1], chi_type, False, False, True)\n",
    "\n",
    "\n",
    "\n",
    "    #u_sim_NN = PDESolver.STEAYDQRF_sim(RHS, u0, t, contact_rate, beta, tau, params, chi_type, analyze_beta = False, analyze_eta = False, analyze_tau = False)\n",
    "    u_sim_NN = solve_ivp(RHS, t_span, u0, t_eval = t_eval, args = args_no)\n",
    "    \n",
    "\n",
    "\n",
    "\n",
    "\n",
    "    #def STEAYDQRF_RHS_dynamic(t, y, contact_rate, quarantine_test, tau_func, params, \n",
    "    #   t_max, chi_type, analyze_beta = False, analyze_eta = False, analyze_tau = False):\n",
    "\n",
    "\n",
    "\n",
    "\n",
    "    sol_beta = solve_ivp(RHS, t_span, u0, t_eval = t_eval, args = args_beta)\n",
    "\n",
    "    #sol_beta = sol_beta * population\n",
    "\n",
    "    \n",
    "    #solver.set_initial_value(u0)\n",
    "    #solver.set_f_params(args_beta)\n",
    "\n",
    "    #sol_beta = solver.integrate(t)\n",
    "    print(\" \")\n",
    "    print(np.shape(sol_beta.y[0]))\n",
    "    print(np.shape(u_sim_NN.y[0]))\n",
    "    \n",
    "    sb = sol_beta.y[0] * population\n",
    "    us = u_sim_NN.y[0] * population\n",
    "\n",
    "    my_diff = (sb - us)/h\n",
    "\n",
    "    #plt.plot(sol_beta.t, sb)\n",
    "    #plt.plot(u_sim_NN.t, us)\n",
    "\n",
    "    plt.plot(sol_beta.t, my_diff)\n",
    "\n",
    "    \n",
    "\n",
    "\n",
    "\n",
    "    # beta_sens = PDESolver.STEAYDQRF_sim(RHS, u0, t, contact_rate, beta, tau, params, chi_type, analyze_beta = True, analyze_eta = False, analyze_tau = False)\n",
    "    # tau_sens = PDESolver.STEAYDQRF_sim(RHS, u0, t, contact_rate, beta, tau, params, chi_type, analyze_beta = False, analyze_eta = False, analyze_tau = True)\n",
    "    # eta_sens = PDESolver.STEAYDQRF_sim(RHS, u0, t, contact_rate, beta, tau, params, chi_type, analyze_beta = False, analyze_eta = True, analyze_tau = False)\n",
    "\n",
    "    # eta_sens *= population\n",
    "    #beta_sens *= population\n",
    "    #tau_sens *= population\n",
    "    \n",
    "    # commented out evaluations with regression models\n",
    "    #u_sim_regression = PDESolver.STEAYDQRF_sim(RHS, u0, t, contact_rate_regression, beta_regression, tau_regression, params, chi_type)\n",
    "    #u_sim_regression *= population"
   ]
  },
  {
   "cell_type": "code",
   "execution_count": null,
   "metadata": {},
   "outputs": [],
   "source": [
    "# rescale data values to represent number of people in state X rather than ratios\n",
    "\n",
    "\n",
    "data *= population\n",
    "\n",
    "plot=True\n",
    "if plot:\n",
    "    #data = params['data']\n",
    "    n = data.shape[1]\n",
    "    col_names = list('STEAYDQRF') if keep_d else list('STEAYQRF')\n",
    "    # t = np.arange(1, data.shape[0] + 1)\n",
    "    # plot compartments\n",
    "    fig = plt.figure(figsize=(15, 15))\n",
    "    for i in range(1, n + 1):\n",
    "        ax = fig.add_subplot(int(np.ceil(n / 3)), 3, i)\n",
    "        #ax.plot(t, data[:, i - 1], '.k', label='Covasim Data')\n",
    "        ax.plot(t, eta_sens[:, i - 1], '-*r', label='eta_sens')\n",
    "        ax.set_title(col_names[i - 1])\n",
    "        ax.legend(fontsize=8)\n",
    "        fig.subplots_adjust(left=0, right=1, bottom=0, top=1)\n",
    "        plt.tight_layout(pad=2)\n",
    "        plt.savefig(os.path.join(model.save_folder, case_name + '.png') )\n",
    "        # plt.show()"
   ]
  },
  {
   "cell_type": "code",
   "execution_count": 29,
   "metadata": {},
   "outputs": [
    {
     "name": "stdout",
     "output_type": "stream",
     "text": [
      "fitted_50000_0.1_0.3_dynamic_piecewise.csv\n"
     ]
    },
    {
     "ename": "FileNotFoundError",
     "evalue": "[Errno 2] No such file or directory: '../Data/covasim_data/xin_data/fitted_50000_0.1_0.3_dynamic_piecewise.csv'",
     "output_type": "error",
     "traceback": [
      "\u001b[0;31m---------------------------------------------------------------------------\u001b[0m",
      "\u001b[0;31mFileNotFoundError\u001b[0m                         Traceback (most recent call last)",
      "Cell \u001b[0;32mIn[29], line 4\u001b[0m\n\u001b[1;32m      2\u001b[0m de_res_file \u001b[39m=\u001b[39m \u001b[39m'\u001b[39m\u001b[39mfitted_\u001b[39m\u001b[39m'\u001b[39m \u001b[39m+\u001b[39m case_name \u001b[39m+\u001b[39m \u001b[39m'\u001b[39m\u001b[39m.csv\u001b[39m\u001b[39m'\u001b[39m\n\u001b[1;32m      3\u001b[0m \u001b[39mprint\u001b[39m(de_res_file)\n\u001b[0;32m----> 4\u001b[0m ode_de_df \u001b[39m=\u001b[39m pd\u001b[39m.\u001b[39;49mread_csv(\u001b[39m'\u001b[39;49m\u001b[39m../Data/covasim_data/xin_data/\u001b[39;49m\u001b[39m'\u001b[39;49m \u001b[39m+\u001b[39;49m de_res_file, index_col\u001b[39m=\u001b[39;49m\u001b[39m0\u001b[39;49m)\n\u001b[1;32m      5\u001b[0m ode_de_array \u001b[39m=\u001b[39m ode_de_df\u001b[39m.\u001b[39mto_numpy()\n\u001b[1;32m      6\u001b[0m \u001b[39m# plot compartments\u001b[39;00m\n",
      "File \u001b[0;32m~/opt/anaconda3/envs/Drums_reu_2023/lib/python3.10/site-packages/pandas/util/_decorators.py:211\u001b[0m, in \u001b[0;36mdeprecate_kwarg.<locals>._deprecate_kwarg.<locals>.wrapper\u001b[0;34m(*args, **kwargs)\u001b[0m\n\u001b[1;32m    209\u001b[0m     \u001b[39melse\u001b[39;00m:\n\u001b[1;32m    210\u001b[0m         kwargs[new_arg_name] \u001b[39m=\u001b[39m new_arg_value\n\u001b[0;32m--> 211\u001b[0m \u001b[39mreturn\u001b[39;00m func(\u001b[39m*\u001b[39;49margs, \u001b[39m*\u001b[39;49m\u001b[39m*\u001b[39;49mkwargs)\n",
      "File \u001b[0;32m~/opt/anaconda3/envs/Drums_reu_2023/lib/python3.10/site-packages/pandas/util/_decorators.py:331\u001b[0m, in \u001b[0;36mdeprecate_nonkeyword_arguments.<locals>.decorate.<locals>.wrapper\u001b[0;34m(*args, **kwargs)\u001b[0m\n\u001b[1;32m    325\u001b[0m \u001b[39mif\u001b[39;00m \u001b[39mlen\u001b[39m(args) \u001b[39m>\u001b[39m num_allow_args:\n\u001b[1;32m    326\u001b[0m     warnings\u001b[39m.\u001b[39mwarn(\n\u001b[1;32m    327\u001b[0m         msg\u001b[39m.\u001b[39mformat(arguments\u001b[39m=\u001b[39m_format_argument_list(allow_args)),\n\u001b[1;32m    328\u001b[0m         \u001b[39mFutureWarning\u001b[39;00m,\n\u001b[1;32m    329\u001b[0m         stacklevel\u001b[39m=\u001b[39mfind_stack_level(),\n\u001b[1;32m    330\u001b[0m     )\n\u001b[0;32m--> 331\u001b[0m \u001b[39mreturn\u001b[39;00m func(\u001b[39m*\u001b[39;49margs, \u001b[39m*\u001b[39;49m\u001b[39m*\u001b[39;49mkwargs)\n",
      "File \u001b[0;32m~/opt/anaconda3/envs/Drums_reu_2023/lib/python3.10/site-packages/pandas/io/parsers/readers.py:950\u001b[0m, in \u001b[0;36mread_csv\u001b[0;34m(filepath_or_buffer, sep, delimiter, header, names, index_col, usecols, squeeze, prefix, mangle_dupe_cols, dtype, engine, converters, true_values, false_values, skipinitialspace, skiprows, skipfooter, nrows, na_values, keep_default_na, na_filter, verbose, skip_blank_lines, parse_dates, infer_datetime_format, keep_date_col, date_parser, dayfirst, cache_dates, iterator, chunksize, compression, thousands, decimal, lineterminator, quotechar, quoting, doublequote, escapechar, comment, encoding, encoding_errors, dialect, error_bad_lines, warn_bad_lines, on_bad_lines, delim_whitespace, low_memory, memory_map, float_precision, storage_options)\u001b[0m\n\u001b[1;32m    935\u001b[0m kwds_defaults \u001b[39m=\u001b[39m _refine_defaults_read(\n\u001b[1;32m    936\u001b[0m     dialect,\n\u001b[1;32m    937\u001b[0m     delimiter,\n\u001b[0;32m   (...)\u001b[0m\n\u001b[1;32m    946\u001b[0m     defaults\u001b[39m=\u001b[39m{\u001b[39m\"\u001b[39m\u001b[39mdelimiter\u001b[39m\u001b[39m\"\u001b[39m: \u001b[39m\"\u001b[39m\u001b[39m,\u001b[39m\u001b[39m\"\u001b[39m},\n\u001b[1;32m    947\u001b[0m )\n\u001b[1;32m    948\u001b[0m kwds\u001b[39m.\u001b[39mupdate(kwds_defaults)\n\u001b[0;32m--> 950\u001b[0m \u001b[39mreturn\u001b[39;00m _read(filepath_or_buffer, kwds)\n",
      "File \u001b[0;32m~/opt/anaconda3/envs/Drums_reu_2023/lib/python3.10/site-packages/pandas/io/parsers/readers.py:605\u001b[0m, in \u001b[0;36m_read\u001b[0;34m(filepath_or_buffer, kwds)\u001b[0m\n\u001b[1;32m    602\u001b[0m _validate_names(kwds\u001b[39m.\u001b[39mget(\u001b[39m\"\u001b[39m\u001b[39mnames\u001b[39m\u001b[39m\"\u001b[39m, \u001b[39mNone\u001b[39;00m))\n\u001b[1;32m    604\u001b[0m \u001b[39m# Create the parser.\u001b[39;00m\n\u001b[0;32m--> 605\u001b[0m parser \u001b[39m=\u001b[39m TextFileReader(filepath_or_buffer, \u001b[39m*\u001b[39;49m\u001b[39m*\u001b[39;49mkwds)\n\u001b[1;32m    607\u001b[0m \u001b[39mif\u001b[39;00m chunksize \u001b[39mor\u001b[39;00m iterator:\n\u001b[1;32m    608\u001b[0m     \u001b[39mreturn\u001b[39;00m parser\n",
      "File \u001b[0;32m~/opt/anaconda3/envs/Drums_reu_2023/lib/python3.10/site-packages/pandas/io/parsers/readers.py:1442\u001b[0m, in \u001b[0;36mTextFileReader.__init__\u001b[0;34m(self, f, engine, **kwds)\u001b[0m\n\u001b[1;32m   1439\u001b[0m     \u001b[39mself\u001b[39m\u001b[39m.\u001b[39moptions[\u001b[39m\"\u001b[39m\u001b[39mhas_index_names\u001b[39m\u001b[39m\"\u001b[39m] \u001b[39m=\u001b[39m kwds[\u001b[39m\"\u001b[39m\u001b[39mhas_index_names\u001b[39m\u001b[39m\"\u001b[39m]\n\u001b[1;32m   1441\u001b[0m \u001b[39mself\u001b[39m\u001b[39m.\u001b[39mhandles: IOHandles \u001b[39m|\u001b[39m \u001b[39mNone\u001b[39;00m \u001b[39m=\u001b[39m \u001b[39mNone\u001b[39;00m\n\u001b[0;32m-> 1442\u001b[0m \u001b[39mself\u001b[39m\u001b[39m.\u001b[39m_engine \u001b[39m=\u001b[39m \u001b[39mself\u001b[39;49m\u001b[39m.\u001b[39;49m_make_engine(f, \u001b[39mself\u001b[39;49m\u001b[39m.\u001b[39;49mengine)\n",
      "File \u001b[0;32m~/opt/anaconda3/envs/Drums_reu_2023/lib/python3.10/site-packages/pandas/io/parsers/readers.py:1735\u001b[0m, in \u001b[0;36mTextFileReader._make_engine\u001b[0;34m(self, f, engine)\u001b[0m\n\u001b[1;32m   1733\u001b[0m     \u001b[39mif\u001b[39;00m \u001b[39m\"\u001b[39m\u001b[39mb\u001b[39m\u001b[39m\"\u001b[39m \u001b[39mnot\u001b[39;00m \u001b[39min\u001b[39;00m mode:\n\u001b[1;32m   1734\u001b[0m         mode \u001b[39m+\u001b[39m\u001b[39m=\u001b[39m \u001b[39m\"\u001b[39m\u001b[39mb\u001b[39m\u001b[39m\"\u001b[39m\n\u001b[0;32m-> 1735\u001b[0m \u001b[39mself\u001b[39m\u001b[39m.\u001b[39mhandles \u001b[39m=\u001b[39m get_handle(\n\u001b[1;32m   1736\u001b[0m     f,\n\u001b[1;32m   1737\u001b[0m     mode,\n\u001b[1;32m   1738\u001b[0m     encoding\u001b[39m=\u001b[39;49m\u001b[39mself\u001b[39;49m\u001b[39m.\u001b[39;49moptions\u001b[39m.\u001b[39;49mget(\u001b[39m\"\u001b[39;49m\u001b[39mencoding\u001b[39;49m\u001b[39m\"\u001b[39;49m, \u001b[39mNone\u001b[39;49;00m),\n\u001b[1;32m   1739\u001b[0m     compression\u001b[39m=\u001b[39;49m\u001b[39mself\u001b[39;49m\u001b[39m.\u001b[39;49moptions\u001b[39m.\u001b[39;49mget(\u001b[39m\"\u001b[39;49m\u001b[39mcompression\u001b[39;49m\u001b[39m\"\u001b[39;49m, \u001b[39mNone\u001b[39;49;00m),\n\u001b[1;32m   1740\u001b[0m     memory_map\u001b[39m=\u001b[39;49m\u001b[39mself\u001b[39;49m\u001b[39m.\u001b[39;49moptions\u001b[39m.\u001b[39;49mget(\u001b[39m\"\u001b[39;49m\u001b[39mmemory_map\u001b[39;49m\u001b[39m\"\u001b[39;49m, \u001b[39mFalse\u001b[39;49;00m),\n\u001b[1;32m   1741\u001b[0m     is_text\u001b[39m=\u001b[39;49mis_text,\n\u001b[1;32m   1742\u001b[0m     errors\u001b[39m=\u001b[39;49m\u001b[39mself\u001b[39;49m\u001b[39m.\u001b[39;49moptions\u001b[39m.\u001b[39;49mget(\u001b[39m\"\u001b[39;49m\u001b[39mencoding_errors\u001b[39;49m\u001b[39m\"\u001b[39;49m, \u001b[39m\"\u001b[39;49m\u001b[39mstrict\u001b[39;49m\u001b[39m\"\u001b[39;49m),\n\u001b[1;32m   1743\u001b[0m     storage_options\u001b[39m=\u001b[39;49m\u001b[39mself\u001b[39;49m\u001b[39m.\u001b[39;49moptions\u001b[39m.\u001b[39;49mget(\u001b[39m\"\u001b[39;49m\u001b[39mstorage_options\u001b[39;49m\u001b[39m\"\u001b[39;49m, \u001b[39mNone\u001b[39;49;00m),\n\u001b[1;32m   1744\u001b[0m )\n\u001b[1;32m   1745\u001b[0m \u001b[39massert\u001b[39;00m \u001b[39mself\u001b[39m\u001b[39m.\u001b[39mhandles \u001b[39mis\u001b[39;00m \u001b[39mnot\u001b[39;00m \u001b[39mNone\u001b[39;00m\n\u001b[1;32m   1746\u001b[0m f \u001b[39m=\u001b[39m \u001b[39mself\u001b[39m\u001b[39m.\u001b[39mhandles\u001b[39m.\u001b[39mhandle\n",
      "File \u001b[0;32m~/opt/anaconda3/envs/Drums_reu_2023/lib/python3.10/site-packages/pandas/io/common.py:856\u001b[0m, in \u001b[0;36mget_handle\u001b[0;34m(path_or_buf, mode, encoding, compression, memory_map, is_text, errors, storage_options)\u001b[0m\n\u001b[1;32m    851\u001b[0m \u001b[39melif\u001b[39;00m \u001b[39misinstance\u001b[39m(handle, \u001b[39mstr\u001b[39m):\n\u001b[1;32m    852\u001b[0m     \u001b[39m# Check whether the filename is to be opened in binary mode.\u001b[39;00m\n\u001b[1;32m    853\u001b[0m     \u001b[39m# Binary mode does not support 'encoding' and 'newline'.\u001b[39;00m\n\u001b[1;32m    854\u001b[0m     \u001b[39mif\u001b[39;00m ioargs\u001b[39m.\u001b[39mencoding \u001b[39mand\u001b[39;00m \u001b[39m\"\u001b[39m\u001b[39mb\u001b[39m\u001b[39m\"\u001b[39m \u001b[39mnot\u001b[39;00m \u001b[39min\u001b[39;00m ioargs\u001b[39m.\u001b[39mmode:\n\u001b[1;32m    855\u001b[0m         \u001b[39m# Encoding\u001b[39;00m\n\u001b[0;32m--> 856\u001b[0m         handle \u001b[39m=\u001b[39m \u001b[39mopen\u001b[39;49m(\n\u001b[1;32m    857\u001b[0m             handle,\n\u001b[1;32m    858\u001b[0m             ioargs\u001b[39m.\u001b[39;49mmode,\n\u001b[1;32m    859\u001b[0m             encoding\u001b[39m=\u001b[39;49mioargs\u001b[39m.\u001b[39;49mencoding,\n\u001b[1;32m    860\u001b[0m             errors\u001b[39m=\u001b[39;49merrors,\n\u001b[1;32m    861\u001b[0m             newline\u001b[39m=\u001b[39;49m\u001b[39m\"\u001b[39;49m\u001b[39m\"\u001b[39;49m,\n\u001b[1;32m    862\u001b[0m         )\n\u001b[1;32m    863\u001b[0m     \u001b[39melse\u001b[39;00m:\n\u001b[1;32m    864\u001b[0m         \u001b[39m# Binary mode\u001b[39;00m\n\u001b[1;32m    865\u001b[0m         handle \u001b[39m=\u001b[39m \u001b[39mopen\u001b[39m(handle, ioargs\u001b[39m.\u001b[39mmode)\n",
      "\u001b[0;31mFileNotFoundError\u001b[0m: [Errno 2] No such file or directory: '../Data/covasim_data/xin_data/fitted_50000_0.1_0.3_dynamic_piecewise.csv'"
     ]
    }
   ],
   "source": [
    "# %% optional, add one comparison based on the results ODE-DE\n",
    "de_res_file = 'fitted_' + case_name + '.csv'\n",
    "print(de_res_file)\n",
    "ode_de_df = pd.read_csv('../Data/covasim_data/xin_data/' + de_res_file, index_col=0)\n",
    "ode_de_array = ode_de_df.to_numpy()\n",
    "# plot compartments\n",
    "plt.rcParams.update({'font.size': 12})\n",
    "fig = plt.figure(figsize=(18, 9))\n",
    "for i in range(1, n):\n",
    "    ax = fig.add_subplot(2, 4, i) # int(np.ceil(n / 4))\n",
    "    ax.plot(t, data[:, i - 1], '.k', label='Test-ABM')\n",
    "    ax.plot(t, u_sim_NN[:, i - 1], 'r.-', label='ODE-NN')\n",
    "    ax.plot(t, ode_de_array[:, i - 1], 'g.-', label='ODE-DE')\n",
    "    if i > 5:\n",
    "        ax.set_xlabel(\"Time (Days)\")\n",
    "    if i % 3 == 1:\n",
    "        ax.set_ylabel(\"Count\")\n",
    "    ax.set_title(col_names[i - 1])\n",
    "    if i == 1:\n",
    "        ax.legend(loc=\"best\")\n",
    "    fig.subplots_adjust(left=0, right=1, bottom=0, top=1)\n",
    "    plt.tight_layout(pad=2)\n",
    "    plt.savefig(os.path.join(model.save_folder, case_name + '_without_F' + '.png'), dpi=300)\n",
    "    # plt.show()"
   ]
  },
  {
   "cell_type": "code",
   "execution_count": null,
   "metadata": {},
   "outputs": [],
   "source": [
    "# %% save without R\n",
    "fig = plt.figure(figsize=(18, 9))\n",
    "for i in range(1, n + 1):\n",
    "    if i == n - 1:\n",
    "        continue\n",
    "    ax = fig.add_subplot(2, 4, i) if i < n else fig.add_subplot(2, 4, i - 1) # int(np.ceil(n / 4))\n",
    "    ax.plot(t, data[:, i - 1], '.k', label='Test-ABM')\n",
    "    ax.plot(t, u_sim_NN[:, i - 1], 'r.-', label='ODE-NN')\n",
    "    ax.plot(t, ode_de_array[:, i - 1], 'g.-', label='ODE-DE')\n",
    "    if i > 4:\n",
    "        ax.set_xlabel(\"Time (Days)\")\n",
    "    if i % 4 == 1:\n",
    "        ax.set_ylabel(\"Count\")\n",
    "    ax.set_title(col_names[i - 1])\n",
    "    if i == 1:\n",
    "        ax.legend(loc=\"best\")\n",
    "    fig.subplots_adjust(left=0, right=1, bottom=0, top=1)\n",
    "    plt.tight_layout(pad=2)\n",
    "    plt.savefig(os.path.join(model.save_folder, case_name + '_without_R' + '.png'), dpi=300)"
   ]
  },
  {
   "cell_type": "code",
   "execution_count": null,
   "metadata": {},
   "outputs": [],
   "source": [
    "#%% RMSE\n",
    "from sklearn.metrics import mean_squared_error\n",
    "rmse_NN = {}\n",
    "rmse_SR = {}\n",
    "rmse_DE = {}\n",
    "for i, col in enumerate(col_names):\n",
    "    res = mean_squared_error(data[:, i], u_sim_NN[:,i], squared=False)\n",
    "    rmse_NN[col] = res\n",
    "    rmse_SR[col] = res\n",
    "    res = mean_squared_error(data[:, i], ode_de_array[:, i], squared=False)\n",
    "    rmse_DE[col] = res\n",
    "rmse_df = pd.DataFrame([rmse_NN, rmse_SR, rmse_DE], index=['ODE-NN', 'ODE-SR', 'ODE-DE'])\n",
    "rmse_df['Mean'] = rmse_df.mean(axis=1)\n",
    "rmse_df.to_csv(os.path.join(model.save_folder, case_name + '_rmse' + '.csv'))"
   ]
  },
  {
   "cell_type": "code",
   "execution_count": null,
   "metadata": {},
   "outputs": [],
   "source": [
    "#%% NRMSE\n",
    "from sklearn.metrics import mean_squared_error\n",
    "nrmse_NN = {}\n",
    "nrmse_SR = {}\n",
    "nrmse_DE = {}\n",
    "for i, col in enumerate(col_names):\n",
    "    y_max, y_min = max(data[:, i]), min(data[:, i])\n",
    "    res = mean_squared_error(data[:, i], u_sim_NN[:,i], squared=False) / (y_max - y_min)\n",
    "    nrmse_NN[col] = res\n",
    "    nrmse_SR[col] = res\n",
    "    res = mean_squared_error(data[:, i], ode_de_array[:, i], squared=False) / (y_max - y_min)\n",
    "    nrmse_DE[col] = res\n",
    "nrmse_df = pd.DataFrame([nrmse_NN, nrmse_SR, nrmse_DE], index=['ODE-NN', 'ODE-SR', 'ODE-DE'])\n",
    "nrmse_df['Mean'] = nrmse_df.mean(axis=1)\n",
    "nrmse_df.to_csv(os.path.join(model.save_folder, case_name + '_nrmse' + '.csv'))"
   ]
  }
 ],
 "metadata": {
  "kernelspec": {
   "display_name": "reu_env",
   "language": "python",
   "name": "python3"
  },
  "language_info": {
   "codemirror_mode": {
    "name": "ipython",
    "version": 3
   },
   "file_extension": ".py",
   "mimetype": "text/x-python",
   "name": "python",
   "nbconvert_exporter": "python",
   "pygments_lexer": "ipython3",
   "version": "3.10.12"
  },
  "orig_nbformat": 4
 },
 "nbformat": 4,
 "nbformat_minor": 2
}
