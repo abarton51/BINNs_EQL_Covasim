{
 "cells": [
  {
   "attachments": {},
   "cell_type": "markdown",
   "metadata": {},
   "source": [
    "## BINN Evaluation of Learned Parameters\n",
    "#### Uses BINNCovasim Neural Network Model"
   ]
  },
  {
   "cell_type": "code",
   "execution_count": 1,
   "metadata": {},
   "outputs": [
    {
     "name": "stdout",
     "output_type": "stream",
     "text": [
      "Intel MKL WARNING: Support of Intel(R) Streaming SIMD Extensions 4.2 (Intel(R) SSE4.2) enabled only processors has been deprecated. Intel oneAPI Math Kernel Library 2025.0 will require Intel(R) Advanced Vector Extensions (Intel(R) AVX) instructions.\n",
      "Intel MKL WARNING: Support of Intel(R) Streaming SIMD Extensions 4.2 (Intel(R) SSE4.2) enabled only processors has been deprecated. Intel oneAPI Math Kernel Library 2025.0 will require Intel(R) Advanced Vector Extensions (Intel(R) AVX) instructions.\n",
      "Covasim 3.1.4 (2022-10-22) — © 2020-2022 by IDM\n"
     ]
    }
   ],
   "source": [
    "import numpy as np\n",
    "import pandas as pd\n",
    "\n",
    "import sys\n",
    "sys.path.append('../')\n",
    "\n",
    "from Modules.Utils.Imports import *\n",
    "from Modules.Models.BuildBINNs import BINNCovasim\n",
    "from Modules.Utils.ModelWrapper import ModelWrapper\n",
    "\n",
    "import Modules.Utils.PDESolver as PDESolver\n",
    "import Modules.Loaders.DataFormatter as DF\n",
    "from utils import get_case_name #, AIC_OLS, RSS\n",
    "\n",
    "# helper functions\n",
    "def to_torch(x):\n",
    "    return torch.from_numpy(x).float().to(device)\n",
    "def to_numpy(x):\n",
    "    return x.detach().cpu().numpy()"
   ]
  },
  {
   "cell_type": "code",
   "execution_count": 2,
   "metadata": {},
   "outputs": [
    {
     "name": "stdout",
     "output_type": "stream",
     "text": [
      "Device set to cpu\n"
     ]
    }
   ],
   "source": [
    "device = torch.device(GetLowestGPU(pick_from=[0,1,2,3]))\n",
    "\n",
    "# instantiate BINN model parameters and path\n",
    "path = '../Data/covasim_data/drums_data/'\n",
    "# path = '../Data/covasim_data/xin_data/'\n",
    "\n",
    "population = 50000\n",
    "test_prob = 0.1\n",
    "trace_prob = 0.3\n",
    "keep_d = True\n",
    "retrain = False\n",
    "dynamic = True\n",
    "masking = False\n",
    "multiple = True\n",
    "n_runs = 1000\n",
    "chi_type = 'piecewise'\n",
    "\n",
    "case_name = get_case_name(population, test_prob, trace_prob, keep_d, dynamic=dynamic, chi_type=chi_type)\n",
    "# yita_lb, yita_ub = 0.2, 0.4"
   ]
  },
  {
   "cell_type": "code",
   "execution_count": 3,
   "metadata": {},
   "outputs": [],
   "source": [
    "if masking:\n",
    "    case_name = case_name + '_masking'\n",
    "if multiple:\n",
    "    params = DF.load_covasim_data(path, population, test_prob, trace_prob, keep_d, case_name + '_' + str(n_runs), plot=False)\n",
    "else:\n",
    "    params = DF.load_covasim_data(path, population, test_prob, trace_prob, keep_d, case_name, plot=False)"
   ]
  },
  {
   "cell_type": "code",
   "execution_count": 4,
   "metadata": {},
   "outputs": [],
   "source": [
    "# split into train/val and convert to torch\n",
    "if multiple:\n",
    "    data = np.mean(params['data'], axis=0)\n",
    "    data = (data / params['population'])\n",
    "else:\n",
    "    data = params['data']\n",
    "    data = (data / params['population']).to_numpy()\n",
    "\n",
    "N = len(data)\n",
    "t_max = N - 1\n",
    "t = np.arange(N)[:,None]\n",
    "\n",
    "params.pop('data')\n",
    "\n",
    "tracing_array = params['tracing_array']"
   ]
  },
  {
   "cell_type": "code",
   "execution_count": 5,
   "metadata": {},
   "outputs": [],
   "source": [
    "# mydir = '../models/covasim/2023-06-21_00-12-29' # piecewise h(t) function\n",
    "# mydir = '../models/covasim/2023-06-25_23-26-00' # constant h(t) function\n",
    "# mydir = '../models/covasim/2023-06-26_23-48-27' # constant h(t) function\n",
    "mydir = '../models/covasim/2023-07-06_23-47-16' # piecewise h(t) function, no masking"
   ]
  },
  {
   "cell_type": "code",
   "execution_count": 6,
   "metadata": {},
   "outputs": [],
   "source": [
    "# instantiate BINN model\n",
    "binn = BINNCovasim(params, t_max, tracing_array, keep_d=keep_d).to(device)"
   ]
  },
  {
   "cell_type": "code",
   "execution_count": 7,
   "metadata": {},
   "outputs": [],
   "source": [
    "parameters = binn.parameters()\n",
    "model = ModelWrapper(binn, None, None, save_name=os.path.join(mydir, case_name))"
   ]
  },
  {
   "cell_type": "code",
   "execution_count": 8,
   "metadata": {},
   "outputs": [],
   "source": [
    "# load model weights. if retrain==True then load the retrained model\n",
    "if retrain:\n",
    "    model.save_name += '_retrain'\n",
    "model.save_name += '_best_val'\n",
    "model.load(model.save_name + '_model', device=device)\n",
    "\n",
    "# grab initial condition\n",
    "u0 = data[0, :].copy()"
   ]
  },
  {
   "cell_type": "code",
   "execution_count": 9,
   "metadata": {},
   "outputs": [],
   "source": [
    "# learned surface fitter\n",
    "def surface_fitter(t):\n",
    "    res = binn.surface_fitter(t)\n",
    "    return res\n",
    "\n",
    "# learned contact_rate function\n",
    "def contact_rate(u):\n",
    "    res = binn.eta_func(to_torch(u)) # [:,[0,3,4]]\n",
    "    return to_numpy(res)\n",
    "\n",
    "# learned effective tracing rate function\n",
    "def beta(u):\n",
    "    res = binn.beta_func(to_torch(u))\n",
    "    return to_numpy(res)\n",
    "\n",
    "# learned diagnosis of quarantined rate function\n",
    "def tau(u):\n",
    "    res = binn.tau_func(to_torch(u))\n",
    "    return to_numpy(res)\n",
    "\n",
    "# do regression to figure out contact rate\n",
    "def contact_rate_regression(u):\n",
    "    s, a, y = u[:, 0][:, None], u[:, 1][:, None], u[:, 2][:, None]\n",
    "    features = [np.ones_like(a), s, s**2, a, y] #\n",
    "    features = np.concatenate(features, axis=1)\n",
    "    res = features @ regression_coefs_cr\n",
    "    # res *= 1.4\n",
    "    return res\n",
    "\n",
    "# do regression to figure out tracing rate\n",
    "def beta_regression(u):\n",
    "    a, b = u[:, 0][:, None], u[:, 1][:, None]\n",
    "    features = [np.ones_like(a), a, b] #\n",
    "    features = np.concatenate(features, axis=1)\n",
    "    res = features @ regression_coefs_qt\n",
    "    return res\n",
    "\n",
    "# do regression to figure out diagnoses rate (on quarantined folks)\n",
    "def tau_regression(u):\n",
    "    a, b = u[:, 0][:, None], u[:, 1][:, None]\n",
    "    features = [np.ones_like(a), a, b] #\n",
    "    features = np.concatenate(features, axis=1)\n",
    "    res = features @ regression_coefs_tau\n",
    "    return res\n"
   ]
  },
  {
   "cell_type": "code",
   "execution_count": 10,
   "metadata": {},
   "outputs": [
    {
     "name": "stdout",
     "output_type": "stream",
     "text": [
      "Intel MKL WARNING: Support of Intel(R) Streaming SIMD Extensions 4.2 (Intel(R) SSE4.2) enabled only processors has been deprecated. Intel oneAPI Math Kernel Library 2025.0 will require Intel(R) Advanced Vector Extensions (Intel(R) AVX) instructions.\n"
     ]
    }
   ],
   "source": [
    "t_torch = to_torch(t)\n",
    "solutions = surface_fitter(t_torch).detach().numpy()\n",
    "eta_values = contact_rate(data[:,[0, 3, 4]])\n",
    "# beta_values = beta(np.sum(data[:,[0, 3, 4]], axis=1))\n",
    "tau_values = tau(data[:,[3, 4]])\n",
    "max_T = np.max(data[:,1])\n",
    "\n",
    "max_S_nn = np.max(solutions[:,0])\n",
    "max_T_nn = np.max(solutions[:,1])\n",
    "max_E_nn = np.max(solutions[:,2])\n",
    "max_A_nn = np.max(solutions[:,3])\n",
    "max_Y_nn = np.max(solutions[:,4])\n",
    "max_Q_nn = np.max(solutions[:,5])\n",
    "max_D_nn = np.max(solutions[:,6])\n",
    "max_R_nn = np.max(solutions[:,7])\n",
    "max_F_nn = np.max(solutions[:,8])"
   ]
  },
  {
   "cell_type": "code",
   "execution_count": 11,
   "metadata": {},
   "outputs": [],
   "source": [
    "# simulate PDE. First grab the parameter values from the loaded BINN model.\n",
    "params['yita_lb'] = model.model.yita_lb\n",
    "params['yita_ub'] = model.model.yita_ub\n",
    "params['beta_lb'] = model.model.beta_lb\n",
    "params['beta_ub'] = model.model.beta_ub\n",
    "params['tau_lb'] = model.model.tau_lb\n",
    "params['tau_ub'] = model.model.tau_ub"
   ]
  },
  {
   "cell_type": "code",
   "execution_count": 12,
   "metadata": {},
   "outputs": [
    {
     "name": "stderr",
     "output_type": "stream",
     "text": [
      "Traceback (most recent call last):\n",
      "capi_return is NULL\n",
      "Call-back cb_fcn_in___user__routines failed.\n",
      "Fatal Python error: F2PySwapThreadLocalCallbackPtr: F2PySwapThreadLocalCallbackPtr: PyLong_AsVoidPtr failed\n",
      "Python runtime state: initialized\n",
      "  File \"/Users/jordanklein22/Documents/GitHub/COVASIM_EQL_BINNS/Notebooks/../Modules/Utils/PDESolver.py\", line 356, in RHS_ty\n",
      "    return RHS(t, y, contact_rate, quarantine_test, tau, params, t_max, chi_type, analyze_beta, analyze_eta, analyze_tau)\n",
      "  File \"/Users/jordanklein22/Documents/GitHub/COVASIM_EQL_BINNS/Notebooks/../Modules/Utils/PDESolver.py\", line 318, in STEAYDQRF_RHS_dynamic\n",
      "    return np.array([ds, dt, de, da, dy, dd, dq, dr, df])\n",
      "ValueError: setting an array element with a sequence. The requested array has an inhomogeneous shape after 1 dimensions. The detected shape was (9,) + inhomogeneous part.\n"
     ]
    },
    {
     "ename": "",
     "evalue": "",
     "output_type": "error",
     "traceback": [
      "\u001b[1;31mCannot execute code, session has been disposed. Please try restarting the Kernel."
     ]
    },
    {
     "ename": "",
     "evalue": "",
     "output_type": "error",
     "traceback": [
      "\u001b[1;31mThe Kernel crashed while executing code in the the current cell or a previous cell. Please review the code in the cell(s) to identify a possible cause of the failure. Click <a href='https://aka.ms/vscodeJupyterKernelCrash'>here</a> for more info. View Jupyter <a href='command:jupyter.viewOutput'>log</a> for further details."
     ]
    }
   ],
   "source": [
    "# if D is to be included in the model, otherwise use the other solver.\n",
    "if keep_d:\n",
    "    RHS = PDESolver.STEAYDQRF_RHS_dynamic\n",
    "    u_sim_NN = PDESolver.STEAYDQRF_sim(RHS, u0, t, contact_rate, beta, tau, params, chi_type, analyze_beta = False, analyze_eta = False, analyze_tau = False)\n",
    "    u_sim_NN *= population\n",
    "    \n",
    "    # commented out evaluations with regression models\n",
    "    #u_sim_regression = PDESolver.STEAYDQRF_sim(RHS, u0, t, contact_rate_regression, beta_regression, tau_regression, params, chi_type)\n",
    "    #u_sim_regression *= population"
   ]
  },
  {
   "cell_type": "code",
   "execution_count": null,
   "metadata": {},
   "outputs": [],
   "source": [
    "# rescale data values to represent number of people in state X rather than ratios\n",
    "data *= population\n",
    "\n",
    "plot=True\n",
    "if plot:\n",
    "    # data = params['data']\n",
    "    n = data.shape[1]\n",
    "    col_names = list('STEAYDQRF') if keep_d else list('STEAYQRF')\n",
    "    # t = np.arange(1, data.shape[0] + 1)\n",
    "    # plot compartments\n",
    "    fig = plt.figure(figsize=(15, 15))\n",
    "    for i in range(1, n + 1):\n",
    "        ax = fig.add_subplot(int(np.ceil(n / 3)), 3, i)\n",
    "        ax.plot(t, data[:, i - 1], '.k', label='Covasim Data')\n",
    "        ax.plot(t, u_sim_NN[:, i - 1], '-*r', label='ODE-NN')\n",
    "        ax.set_title(col_names[i - 1])\n",
    "        ax.legend(fontsize=8)\n",
    "        fig.subplots_adjust(left=0, right=1, bottom=0, top=1)\n",
    "        plt.tight_layout(pad=2)\n",
    "        plt.savefig(os.path.join(model.save_folder, case_name + '.png') )\n",
    "        # plt.show()"
   ]
  },
  {
   "cell_type": "code",
   "execution_count": null,
   "metadata": {},
   "outputs": [],
   "source": [
    "# %% optional, add one comparison based on the results ODE-DE\n",
    "de_res_file = 'fitted_' + case_name + '.csv'\n",
    "ode_de_df = pd.read_csv('../Data/covasim_data/xin_data/' + de_res_file, index_col=0)\n",
    "ode_de_array = ode_de_df.to_numpy()\n",
    "# plot compartments\n",
    "plt.rcParams.update({'font.size': 12})\n",
    "fig = plt.figure(figsize=(18, 9))\n",
    "for i in range(1, n):\n",
    "    ax = fig.add_subplot(2, 4, i) # int(np.ceil(n / 4))\n",
    "    ax.plot(t, data[:, i - 1], '.k', label='Test-ABM')\n",
    "    ax.plot(t, u_sim_NN[:, i - 1], 'r.-', label='ODE-NN')\n",
    "    ax.plot(t, ode_de_array[:, i - 1], 'g.-', label='ODE-DE')\n",
    "    if i > 5:\n",
    "        ax.set_xlabel(\"Time (Days)\")\n",
    "    if i % 3 == 1:\n",
    "        ax.set_ylabel(\"Count\")\n",
    "    ax.set_title(col_names[i - 1])\n",
    "    if i == 1:\n",
    "        ax.legend(loc=\"best\")\n",
    "    fig.subplots_adjust(left=0, right=1, bottom=0, top=1)\n",
    "    plt.tight_layout(pad=2)\n",
    "    plt.savefig(os.path.join(model.save_folder, case_name + '_without_F' + '.png'), dpi=300)\n",
    "    # plt.show()"
   ]
  },
  {
   "cell_type": "code",
   "execution_count": null,
   "metadata": {},
   "outputs": [],
   "source": [
    "# %% save without R\n",
    "fig = plt.figure(figsize=(18, 9))\n",
    "for i in range(1, n + 1):\n",
    "    if i == n - 1:\n",
    "        continue\n",
    "    ax = fig.add_subplot(2, 4, i) if i < n else fig.add_subplot(2, 4, i - 1) # int(np.ceil(n / 4))\n",
    "    ax.plot(t, data[:, i - 1], '.k', label='Test-ABM')\n",
    "    ax.plot(t, u_sim_NN[:, i - 1], 'r.-', label='ODE-NN')\n",
    "    ax.plot(t, ode_de_array[:, i - 1], 'g.-', label='ODE-DE')\n",
    "    if i > 4:\n",
    "        ax.set_xlabel(\"Time (Days)\")\n",
    "    if i % 4 == 1:\n",
    "        ax.set_ylabel(\"Count\")\n",
    "    ax.set_title(col_names[i - 1])\n",
    "    if i == 1:\n",
    "        ax.legend(loc=\"best\")\n",
    "    fig.subplots_adjust(left=0, right=1, bottom=0, top=1)\n",
    "    plt.tight_layout(pad=2)\n",
    "    plt.savefig(os.path.join(model.save_folder, case_name + '_without_R' + '.png'), dpi=300)"
   ]
  },
  {
   "cell_type": "code",
   "execution_count": null,
   "metadata": {},
   "outputs": [],
   "source": [
    "#%% RMSE\n",
    "from sklearn.metrics import mean_squared_error\n",
    "rmse_NN = {}\n",
    "rmse_SR = {}\n",
    "rmse_DE = {}\n",
    "for i, col in enumerate(col_names):\n",
    "    res = mean_squared_error(data[:, i], u_sim_NN[:,i], squared=False)\n",
    "    rmse_NN[col] = res\n",
    "    rmse_SR[col] = res\n",
    "    res = mean_squared_error(data[:, i], ode_de_array[:, i], squared=False)\n",
    "    rmse_DE[col] = res\n",
    "rmse_df = pd.DataFrame([rmse_NN, rmse_SR, rmse_DE], index=['ODE-NN', 'ODE-SR', 'ODE-DE'])\n",
    "rmse_df['Mean'] = rmse_df.mean(axis=1)\n",
    "rmse_df.to_csv(os.path.join(model.save_folder, case_name + '_rmse' + '.csv'))"
   ]
  },
  {
   "cell_type": "code",
   "execution_count": null,
   "metadata": {},
   "outputs": [],
   "source": [
    "#%% NRMSE\n",
    "from sklearn.metrics import mean_squared_error\n",
    "nrmse_NN = {}\n",
    "nrmse_SR = {}\n",
    "nrmse_DE = {}\n",
    "for i, col in enumerate(col_names):\n",
    "    y_max, y_min = max(data[:, i]), min(data[:, i])\n",
    "    res = mean_squared_error(data[:, i], u_sim_NN[:,i], squared=False) / (y_max - y_min)\n",
    "    nrmse_NN[col] = res\n",
    "    nrmse_SR[col] = res\n",
    "    res = mean_squared_error(data[:, i], ode_de_array[:, i], squared=False) / (y_max - y_min)\n",
    "    nrmse_DE[col] = res\n",
    "nrmse_df = pd.DataFrame([nrmse_NN, nrmse_SR, nrmse_DE], index=['ODE-NN', 'ODE-SR', 'ODE-DE'])\n",
    "nrmse_df['Mean'] = nrmse_df.mean(axis=1)\n",
    "nrmse_df.to_csv(os.path.join(model.save_folder, case_name + '_nrmse' + '.csv'))"
   ]
  }
 ],
 "metadata": {
  "kernelspec": {
   "display_name": "reu_env",
   "language": "python",
   "name": "python3"
  },
  "language_info": {
   "codemirror_mode": {
    "name": "ipython",
    "version": 3
   },
   "file_extension": ".py",
   "mimetype": "text/x-python",
   "name": "python",
   "nbconvert_exporter": "python",
   "pygments_lexer": "ipython3",
   "version": "3.10.11"
  },
  "orig_nbformat": 4
 },
 "nbformat": 4,
 "nbformat_minor": 2
}
