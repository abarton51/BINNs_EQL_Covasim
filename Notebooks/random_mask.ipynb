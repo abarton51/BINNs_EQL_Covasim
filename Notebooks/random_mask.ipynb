{
 "cells": [
  {
   "cell_type": "code",
   "execution_count": null,
   "metadata": {},
   "outputs": [],
   "source": [
    "import covasim as cv\n",
    "import matplotlib as mpl\n",
    "import matplotlib.pyplot as plt\n",
    "import pylab as pl\n",
    "import sciris as sc\n",
    "import numpy as np\n",
    "from scipy.stats import norm"
   ]
  },
  {
   "cell_type": "code",
   "execution_count": null,
   "metadata": {},
   "outputs": [],
   "source": [
    "class norm_random_masking(cv.Intervention):\n",
    "  def __init__(self,mask_eff=None,maskprob_ub=None,maskprob_lb=None,mean=None,std=None,*args,**kwargs):\n",
    "    super().__init__(**kwargs)\n",
    "    self.mask_eff    = mask_eff\n",
    "    self.maskprob_ub = maskprob_ub\n",
    "    self.maskprob_lb = maskprob_lb\n",
    "    self.mean        = mean\n",
    "    self.std         = std\n",
    "    self.t           = []\n",
    "    self.num_masking = []\n",
    "    return\n",
    "\n",
    "  def initialize(self,sim):\n",
    "    super().initialize()\n",
    "    self.pop = len(sim.people)\n",
    "    return\n",
    "\n",
    "  def apply(self,sim):\n",
    "    ppl                = sim.people\n",
    "    ppl.rel_sus        = ppl.rel_sus\n",
    "    self.norm          = norm.rvs(loc=self.mean,scale=self.std,size=self.pop)\n",
    "    self.num_dead      = ppl.dead.sum()\n",
    "    self.num_diagnosed = (ppl.diagnosed & ppl.infectious).sum()\n",
    "    self.x             = self.num_dead + self.num_diagnosed\n",
    "    self.p             = np.exp(0.001 + (self.norm*(self.x/self.pop))-0.001*sim.t)\n",
    "    self.p             = (self.p/(1+self.p))-0.5\n",
    "    self.p             = np.clip(self.p,self.maskprob_lb,self.maskprob_ub)\n",
    "    self.masking       = np.random.binomial(1,p=self.p,size=self.pop)\n",
    "    ppl.rel_sus        = np.where(self.masking,ppl.rel_sus*self.mask_eff,ppl.rel_sus)\n",
    "    self.num_masking.append(np.sum(self.masking))\n",
    "    self.t.append(sim.t)\n",
    "    return\n",
    "\n",
    "  def plot(self):\n",
    "    plt.plot(self.t,self.num_masking)\n",
    "    plt.xlabel('Day')\n",
    "    plt.ylabel('# of Agents Masking')\n",
    "    plt.title('# of Agents Masking Over Time')\n",
    "    plt.show()\n",
    "    return\n"
   ]
  },
  {
   "cell_type": "code",
   "execution_count": null,
   "metadata": {},
   "outputs": [],
   "source": [
    "\n",
    "tp = cv.test_prob(symp_prob=0.1,asymp_prob=0.001,symp_quar_prob=0.3,asymp_quar_prob=0.3,quar_policy='daily')\n",
    "rm = norm_random_masking(mask_eff=0.6,maskprob_ub=0.75,maskprob_lb=0.00,mean=75,std=50)"
   ]
  },
  {
   "cell_type": "code",
   "execution_count": null,
   "metadata": {},
   "outputs": [],
   "source": [
    "sim = cv.Sim(n_days=90,interventions=[tp,rm],label='masking')\n",
    "sim1 = cv.Sim(interventions=tp,label='no masking',n_days=90)\n",
    "msim = cv.MultiSim([sim,sim1])\n",
    "\n",
    "msim.run()\n",
    "msim.plot()\n",
    "num_mask = msim.sims[0].get_intervention(norm_random_masking)\n",
    "num_mask.plot()"
   ]
  }
 ],
 "metadata": {
  "kernelspec": {
   "display_name": "Python 3.11.4 64-bit",
   "language": "python",
   "name": "python3"
  },
  "language_info": {
   "name": "python",
   "version": "3.11.4"
  },
  "orig_nbformat": 4,
  "vscode": {
   "interpreter": {
    "hash": "aee8b7b246df8f9039afb4144a1f6fd8d2ca17a180786b69acc140d282b71a49"
   }
  }
 },
 "nbformat": 4,
 "nbformat_minor": 2
}
