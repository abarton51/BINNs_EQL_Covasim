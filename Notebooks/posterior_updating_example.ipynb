{
 "cells": [
  {
   "cell_type": "code",
   "execution_count": 2,
   "metadata": {},
   "outputs": [],
   "source": [
    "import numpy as np\n",
    "from scipy.stats import beta, bernoulli"
   ]
  },
  {
   "attachments": {},
   "cell_type": "markdown",
   "metadata": {},
   "source": [
    "Let each agent in our simulation have a feature which we will call `blue`. In this scenario, `blue` is a binary random variable that is either 0 or 1 probability $p$. \n",
    "\n",
    "That is, $X_1, \\ldots, X_N$ is a random sample of $N$ Bernoulli random variables with parameter $p$, where $p$ is unkown. Let us assume that the prior distribution of $p$ is $p\\sim B(\\alpha_0, \\beta_0)$ with prior probability density function $\\xi$. If $x = (X_1 = x_1, \\ldots, X_N = x_N)$ and the likelihood of observing $x$ given $p$ is $f(x_1|p)\\cdots f(x_N|p) = f_N(x|p)$, then the posterior proabiity density function of $p$ after observing $x$ is\n",
    "$$\\xi(p|x) = \\frac{f_N(x|p) * \\xi(p)}{\\int_0^1 f_N(x|p)\\xi(p)dp}$$"
   ]
  },
  {
   "attachments": {},
   "cell_type": "markdown",
   "metadata": {},
   "source": [
    "We can find the updating rule for the posterior with a bit of math. Let $g_N(x) = \\int_0^1 f_N(x|p)\\xi(p)dp$ and consider, \n",
    "$$\\xi(p|x) = \\frac{f_N(x|p) * \\xi(p)}{g_N(x)}$$\n",
    "Evaluating $f_N(x|p)$ now,\n",
    "$$f_N(x|p) = \\prod_{i=1}^N p^{x_i}(1-p)^{x_i} = p^{\\sum_{i=1}^Nx_i}(1-p)^{N - \\sum_{i=1}^Nx_i} = p^y(1-p)^{N-y}$$\n",
    "where $y = \\sum_{i=1}^N x_i$. Evaluating $\\xi(p)$ now, $$ \\frac{\\Gamma(\\alpha_0 + \\beta_0)}{\\Gamma(\\alpha_0)\\Gamma(\\beta_0)}p^{\\alpha_0-1}(1-p)^{\\beta_0-1}  $$"
   ]
  },
  {
   "attachments": {},
   "cell_type": "markdown",
   "metadata": {},
   "source": []
  }
 ],
 "metadata": {
  "kernelspec": {
   "display_name": "reu_env",
   "language": "python",
   "name": "python3"
  },
  "language_info": {
   "codemirror_mode": {
    "name": "ipython",
    "version": 3
   },
   "file_extension": ".py",
   "mimetype": "text/x-python",
   "name": "python",
   "nbconvert_exporter": "python",
   "pygments_lexer": "ipython3",
   "version": "3.10.11"
  },
  "orig_nbformat": 4
 },
 "nbformat": 4,
 "nbformat_minor": 2
}
