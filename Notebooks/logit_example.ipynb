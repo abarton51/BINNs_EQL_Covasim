{
 "cells": [
  {
   "cell_type": "code",
   "execution_count": 20,
   "metadata": {},
   "outputs": [],
   "source": [
    "import numpy as np\n",
    "import pandas as pd\n",
    "import matplotlib.pyplot as plt\n",
    "from scipy.stats import beta\n",
    "\n",
    "import sys\n",
    "sys.path.append('../')\n",
    "\n",
    "import Modules.Loaders.DataFormatter as DF\n",
    "from utils import get_case_name, AIC_OLS, RSS"
   ]
  },
  {
   "attachments": {},
   "cell_type": "markdown",
   "metadata": {},
   "source": [
    "***\n",
    "### Load data"
   ]
  },
  {
   "cell_type": "code",
   "execution_count": 12,
   "metadata": {},
   "outputs": [],
   "source": [
    "# create data matrix of compartments STEAYDQRF\n",
    "# choose and get data\n",
    "path = '../Data/covasim_data/drums_data/'\n",
    "population = 200000\n",
    "test_prob = 0.1\n",
    "trace_prob = 0.3\n",
    "keep_d = True\n",
    "retrain = False\n",
    "dynamic = True\n",
    "chi_type = 'constant'\n",
    "\n",
    "case_name = get_case_name(population, test_prob, trace_prob, keep_d, dynamic=dynamic, chi_type=chi_type)\n",
    "params = DF.load_covasim_data(path, population, test_prob, trace_prob, keep_d, case_name, plot=False)"
   ]
  },
  {
   "cell_type": "code",
   "execution_count": 13,
   "metadata": {},
   "outputs": [
    {
     "data": {
      "text/html": [
       "<div>\n",
       "<style scoped>\n",
       "    .dataframe tbody tr th:only-of-type {\n",
       "        vertical-align: middle;\n",
       "    }\n",
       "\n",
       "    .dataframe tbody tr th {\n",
       "        vertical-align: top;\n",
       "    }\n",
       "\n",
       "    .dataframe thead th {\n",
       "        text-align: right;\n",
       "    }\n",
       "</style>\n",
       "<table border=\"1\" class=\"dataframe\">\n",
       "  <thead>\n",
       "    <tr style=\"text-align: right;\">\n",
       "      <th></th>\n",
       "      <th>S</th>\n",
       "      <th>T</th>\n",
       "      <th>E</th>\n",
       "      <th>A</th>\n",
       "      <th>Y</th>\n",
       "      <th>D</th>\n",
       "      <th>Q</th>\n",
       "      <th>R</th>\n",
       "      <th>F</th>\n",
       "    </tr>\n",
       "  </thead>\n",
       "  <tbody>\n",
       "    <tr>\n",
       "      <th>0</th>\n",
       "      <td>199600</td>\n",
       "      <td>0</td>\n",
       "      <td>400</td>\n",
       "      <td>0</td>\n",
       "      <td>0</td>\n",
       "      <td>0</td>\n",
       "      <td>0</td>\n",
       "      <td>0</td>\n",
       "      <td>0</td>\n",
       "    </tr>\n",
       "    <tr>\n",
       "      <th>1</th>\n",
       "      <td>199599</td>\n",
       "      <td>0</td>\n",
       "      <td>400</td>\n",
       "      <td>0</td>\n",
       "      <td>1</td>\n",
       "      <td>0</td>\n",
       "      <td>0</td>\n",
       "      <td>0</td>\n",
       "      <td>0</td>\n",
       "    </tr>\n",
       "    <tr>\n",
       "      <th>2</th>\n",
       "      <td>199593</td>\n",
       "      <td>0</td>\n",
       "      <td>389</td>\n",
       "      <td>5</td>\n",
       "      <td>13</td>\n",
       "      <td>0</td>\n",
       "      <td>0</td>\n",
       "      <td>0</td>\n",
       "      <td>0</td>\n",
       "    </tr>\n",
       "    <tr>\n",
       "      <th>3</th>\n",
       "      <td>199551</td>\n",
       "      <td>8</td>\n",
       "      <td>313</td>\n",
       "      <td>38</td>\n",
       "      <td>88</td>\n",
       "      <td>2</td>\n",
       "      <td>0</td>\n",
       "      <td>0</td>\n",
       "      <td>0</td>\n",
       "    </tr>\n",
       "    <tr>\n",
       "      <th>4</th>\n",
       "      <td>199438</td>\n",
       "      <td>42</td>\n",
       "      <td>290</td>\n",
       "      <td>69</td>\n",
       "      <td>150</td>\n",
       "      <td>11</td>\n",
       "      <td>0</td>\n",
       "      <td>0</td>\n",
       "      <td>0</td>\n",
       "    </tr>\n",
       "    <tr>\n",
       "      <th>...</th>\n",
       "      <td>...</td>\n",
       "      <td>...</td>\n",
       "      <td>...</td>\n",
       "      <td>...</td>\n",
       "      <td>...</td>\n",
       "      <td>...</td>\n",
       "      <td>...</td>\n",
       "      <td>...</td>\n",
       "      <td>...</td>\n",
       "    </tr>\n",
       "    <tr>\n",
       "      <th>178</th>\n",
       "      <td>110967</td>\n",
       "      <td>3729</td>\n",
       "      <td>1001</td>\n",
       "      <td>726</td>\n",
       "      <td>886</td>\n",
       "      <td>796</td>\n",
       "      <td>59</td>\n",
       "      <td>81436</td>\n",
       "      <td>400</td>\n",
       "    </tr>\n",
       "    <tr>\n",
       "      <th>179</th>\n",
       "      <td>110944</td>\n",
       "      <td>3607</td>\n",
       "      <td>953</td>\n",
       "      <td>723</td>\n",
       "      <td>867</td>\n",
       "      <td>790</td>\n",
       "      <td>60</td>\n",
       "      <td>81654</td>\n",
       "      <td>402</td>\n",
       "    </tr>\n",
       "    <tr>\n",
       "      <th>180</th>\n",
       "      <td>110865</td>\n",
       "      <td>3536</td>\n",
       "      <td>914</td>\n",
       "      <td>732</td>\n",
       "      <td>827</td>\n",
       "      <td>793</td>\n",
       "      <td>65</td>\n",
       "      <td>81865</td>\n",
       "      <td>403</td>\n",
       "    </tr>\n",
       "    <tr>\n",
       "      <th>181</th>\n",
       "      <td>110773</td>\n",
       "      <td>3478</td>\n",
       "      <td>910</td>\n",
       "      <td>711</td>\n",
       "      <td>842</td>\n",
       "      <td>763</td>\n",
       "      <td>59</td>\n",
       "      <td>82059</td>\n",
       "      <td>405</td>\n",
       "    </tr>\n",
       "    <tr>\n",
       "      <th>182</th>\n",
       "      <td>110713</td>\n",
       "      <td>3377</td>\n",
       "      <td>892</td>\n",
       "      <td>684</td>\n",
       "      <td>795</td>\n",
       "      <td>759</td>\n",
       "      <td>59</td>\n",
       "      <td>82316</td>\n",
       "      <td>405</td>\n",
       "    </tr>\n",
       "  </tbody>\n",
       "</table>\n",
       "<p>183 rows × 9 columns</p>\n",
       "</div>"
      ],
      "text/plain": [
       "          S     T     E    A    Y    D   Q      R    F\n",
       "0    199600     0   400    0    0    0   0      0    0\n",
       "1    199599     0   400    0    1    0   0      0    0\n",
       "2    199593     0   389    5   13    0   0      0    0\n",
       "3    199551     8   313   38   88    2   0      0    0\n",
       "4    199438    42   290   69  150   11   0      0    0\n",
       "..      ...   ...   ...  ...  ...  ...  ..    ...  ...\n",
       "178  110967  3729  1001  726  886  796  59  81436  400\n",
       "179  110944  3607   953  723  867  790  60  81654  402\n",
       "180  110865  3536   914  732  827  793  65  81865  403\n",
       "181  110773  3478   910  711  842  763  59  82059  405\n",
       "182  110713  3377   892  684  795  759  59  82316  405\n",
       "\n",
       "[183 rows x 9 columns]"
      ]
     },
     "execution_count": 13,
     "metadata": {},
     "output_type": "execute_result"
    }
   ],
   "source": [
    "data = params['data']\n",
    "data = (data / params['population']).to_numpy()\n",
    "N = len(data)\n",
    "t_max = N - 1\n",
    "t = np.arange(N)\n",
    "params.pop('data')"
   ]
  },
  {
   "attachments": {},
   "cell_type": "markdown",
   "metadata": {},
   "source": [
    "Let us consider a collection of agents that are either blue (`blue=1`), or not blue (`blue=0`). Whether or not an agent is blue is random, however, the probability of them becoming blue or not is dependent on other things around it.\n",
    "\n",
    "We may not know exactly how or why agents become `blue=1`, but if we are to create a simulation of these agents, we would like to be able to model the behavior of this `blue` attribute over the course of the simulation. In some cases, `blue` may affect other things as well.\n",
    "\n",
    "### Problem: Agents may have attributes/behaviors that are stochastic AND dynamic. How do we model this dynamic stochastic behavior?\n",
    "***"
   ]
  },
  {
   "attachments": {},
   "cell_type": "markdown",
   "metadata": {},
   "source": [
    "For this case, we would like to take advantage of the logistic function in order to model the probability of being blue or not. Let $X=(X_1, \\ldots, X_p)$ be the $p$ predictors of a single random sample. The logistic function is defined as \n",
    "$$p(X) = \\frac{e^{\\beta^TX}}{1 + e^{\\beta^T X}}$$\n",
    "which can be expressed as $$\\frac{p(X)}{1 - p(X)} = e^{\\beta^T X}$$\n",
    "The left hand side is known as the ***odds***. Taking the logarithm of both sides, we obtain\n",
    "$$\\log\\Big( \\frac{p(X)}{1 - p(X)}  \\Big) = \\beta^T X$$\n",
    "The left hand side is called the ***log odds*** or ***logit***."
   ]
  },
  {
   "attachments": {},
   "cell_type": "markdown",
   "metadata": {},
   "source": [
    "Unlike a classic supervised machine learning problem using logistic regression, we aren't trying to estimate $\\beta$ using observed data. What we would like instead is to model a behavior of our agents dynamically using states of the model. In this case, we would be modifying the probability of an agent acting on a behavior dependent on other features and states of the model.\n",
    "\n",
    "Consider a state of the model $D$. Let's assume that $D$ is an unknown nonlinear function but all of its values lie in the interval $[0, 0.5]$. Let's assume that $\\beta$ is just a fixed vector."
   ]
  },
  {
   "attachments": {},
   "cell_type": "markdown",
   "metadata": {},
   "source": [
    "Consider, \n",
    "$$p(Z) = \\frac{e^{\\beta_0 + \\beta_1 D(t) - \\beta_2 t}}{1 + e^{\\beta_0 + \\beta_1 D(t) - \\beta_2 t}}$$\n",
    "So, fixing all other things, as $D(t)$ increases, so does the $p(Z)$. And fixing all other things, as $t$ increases, then $p(Z)$ decreases."
   ]
  },
  {
   "cell_type": "code",
   "execution_count": 31,
   "metadata": {},
   "outputs": [],
   "source": [
    "def D_func(t, D_lb, D_ub):\n",
    "    res_all = D_ub * np.ones(200)\n",
    "    t_max = max(t)\n",
    "    t_scaled = t / t_max\n",
    "\n",
    "    # use pdf of beta distribution\n",
    "    a, b = 3, 3\n",
    "    res = beta.pdf(t_scaled, a, b, loc=0, scale=1)\n",
    "    max_val = np.max(res)\n",
    "    res = res * D_ub / max_val\n",
    "    res_all[:80] = res[:80]\n",
    "    res_all[-80:] = res[-80:]\n",
    "    return res_all\n",
    "    \n",
    "t = np.arange(0, 200)\n",
    "D_array = D_func(t, 0, 0.5)"
   ]
  },
  {
   "cell_type": "code",
   "execution_count": 32,
   "metadata": {},
   "outputs": [
    {
     "data": {
      "text/plain": [
       "[<matplotlib.lines.Line2D at 0x14f64b1da20>]"
      ]
     },
     "execution_count": 32,
     "metadata": {},
     "output_type": "execute_result"
    },
    {
     "data": {
      "image/png": "[encoded data removed]",
      "text/plain": [
       "<Figure size 640x480 with 1 Axes>"
      ]
     },
     "metadata": {},
     "output_type": "display_data"
    }
   ],
   "source": [
    "plt.plot(t, D_array)"
   ]
  },
  {
   "cell_type": "code",
   "execution_count": 50,
   "metadata": {},
   "outputs": [],
   "source": [
    "beta0 = 0.001\n",
    "beta1 = 1\n",
    "beta2 = 0.001\n",
    "\n",
    "def prob_z(x, betas, func):\n",
    "    result = np.exp(betas[0] + betas[1] * D_func(t, 0, 0.5) - betas[2] * t)\n",
    "    result = (result) / (1 + result)\n",
    "    return result"
   ]
  },
  {
   "cell_type": "code",
   "execution_count": 51,
   "metadata": {},
   "outputs": [
    {
     "data": {
      "text/plain": [
       "[<matplotlib.lines.Line2D at 0x14f65255f00>]"
      ]
     },
     "execution_count": 51,
     "metadata": {},
     "output_type": "execute_result"
    },
    {
     "data": {
      "image/png": "[encoded data removed]",
      "text/plain": [
       "<Figure size 640x480 with 1 Axes>"
      ]
     },
     "metadata": {},
     "output_type": "display_data"
    }
   ],
   "source": [
    "plt.plot(t, prob_z(t, [beta0, beta1, beta2], D_func))"
   ]
  }
 ],
 "metadata": {
  "kernelspec": {
   "display_name": "reu_env",
   "language": "python",
   "name": "python3"
  },
  "language_info": {
   "codemirror_mode": {
    "name": "ipython",
    "version": 3
   },
   "file_extension": ".py",
   "mimetype": "text/x-python",
   "name": "python",
   "nbconvert_exporter": "python",
   "pygments_lexer": "ipython3",
   "version": "3.10.11"
  },
  "orig_nbformat": 4
 },
 "nbformat": 4,
 "nbformat_minor": 2
}
