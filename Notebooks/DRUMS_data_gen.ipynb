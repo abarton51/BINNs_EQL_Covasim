{
 "cells": [
  {
   "attachments": {},
   "cell_type": "markdown",
   "metadata": {},
   "source": [
    "# DRUMS - COVASIM Data Generation"
   ]
  },
  {
   "cell_type": "code",
   "execution_count": 4,
   "metadata": {},
   "outputs": [],
   "source": [
    "import sys\n",
    "sys.path.append('../')\n",
    "# from drums_data_gen import *\n",
    "from drums_data_gen_multi import *"
   ]
  },
  {
   "attachments": {},
   "cell_type": "markdown",
   "metadata": {},
   "source": [
    "***"
   ]
  },
  {
   "attachments": {},
   "cell_type": "markdown",
   "metadata": {},
   "source": [
    "- `test_prob`: This is a float value that corresponds to the probability of testing given the agent is symptomatic. Currently, the values for proabbility of testing for other scenarios are `asymp_prob=0.001`, `symp_quar_prob=0.3`, and `asymp_quar_prob=0.3`. Additionally, the policy for quarantining is `quar_policy='daily'`\n",
    "- `trace_lb` and `trace_ub`: These float values correspond to the lower and upper bounds on probability of tracing. Currently, the trace probability for the layers are `h=1.0`, `s=0.5`, `w=0.5`, `c=0.3`.\n",
    "- `chi_type`: The type of the function that interacts with the tracing probability. Can choose between `constant`, `linear`, `piecewise`, and `sin`.\n",
    "- `dynamic`: Boolean value that indicates whether or not to include the interacting term/function.\n",
    "- `keep_d`: Boolean value that indicates wehter or not to include the D - diagnosed compartments.\n",
    "- `model_params:` Dictionary containing keys pointing to parameter values, the compartment model's values over the simulation, and more."
   ]
  },
  {
   "cell_type": "code",
   "execution_count": 5,
   "metadata": {},
   "outputs": [],
   "source": [
    "population = int(50e3)\n",
    "test_prob = 0.1\n",
    "trace_lb = 0.0\n",
    "trace_ub = 0.3\n",
    "chi_type = 'piecewise'\n",
    "keep_d = True\n",
    "dynamic = True\n",
    "# masking = False\n",
    "model_params = ModelParams(population, test_prob, trace_lb, trace_ub, chi_type, keep_d, dynamic)"
   ]
  },
  {
   "cell_type": "code",
   "execution_count": 6,
   "metadata": {},
   "outputs": [
    {
     "name": "stdout",
     "output_type": "stream",
     "text": [
      "Initializing sim with 50000 people for 182 days\n",
      "  Running \"Sim 0\": 2020-02-01 ( 0/182) (0.57 s)  ———————————————————— 1%\n",
      "  Running \"Sim 0\": 2020-02-11 (10/182) (0.76 s)  •——————————————————— 6%\n",
      "  Running \"Sim 0\": 2020-02-21 (20/182) (1.00 s)  ••—————————————————— 11%\n",
      "  Running \"Sim 0\": 2020-03-02 (30/182) (1.26 s)  •••————————————————— 17%\n",
      "  Running \"Sim 0\": 2020-03-12 (40/182) (1.55 s)  ••••———————————————— 22%\n",
      "  Running \"Sim 0\": 2020-03-22 (50/182) (1.85 s)  •••••——————————————— 28%\n",
      "  Running \"Sim 0\": 2020-04-01 (60/182) (2.18 s)  ••••••—————————————— 33%\n",
      "  Running \"Sim 0\": 2020-04-11 (70/182) (2.60 s)  •••••••————————————— 39%\n",
      "  Running \"Sim 0\": 2020-04-21 (80/182) (3.02 s)  ••••••••———————————— 44%\n",
      "  Running \"Sim 0\": 2020-05-01 (90/182) (3.34 s)  •••••••••——————————— 50%\n",
      "  Running \"Sim 0\": 2020-05-11 (100/182) (3.68 s)  •••••••••••————————— 55%\n",
      "  Running \"Sim 0\": 2020-05-21 (110/182) (4.03 s)  ••••••••••••———————— 61%\n",
      "  Running \"Sim 0\": 2020-05-31 (120/182) (4.34 s)  •••••••••••••——————— 66%\n",
      "  Running \"Sim 0\": 2020-06-10 (130/182) (4.65 s)  ••••••••••••••—————— 72%\n",
      "  Running \"Sim 0\": 2020-06-20 (140/182) (4.97 s)  •••••••••••••••————— 77%\n",
      "  Running \"Sim 0\": 2020-06-30 (150/182) (5.26 s)  ••••••••••••••••———— 83%\n",
      "  Running \"Sim 0\": 2020-07-10 (160/182) (5.57 s)  •••••••••••••••••——— 88%\n",
      "  Running \"Sim 0\": 2020-07-20 (170/182) (5.87 s)  ••••••••••••••••••—— 93%\n",
      "  Running \"Sim 0\": 2020-07-30 (180/182) (6.17 s)  •••••••••••••••••••— 99%\n",
      "Simulation \"Sim 0\" summary:\n",
      "       22,818 cumulative infections\n",
      "        1,766 cumulative reinfections\n",
      "       22,562 cumulative infectious\n",
      "       14,881 cumulative symptomatic cases\n",
      "        1,140 cumulative severe cases\n",
      "          336 cumulative critical cases\n",
      "       21,897 cumulative recoveries\n",
      "          116 cumulative deaths\n",
      "      134,784 cumulative tests\n",
      "       10,394 cumulative diagnoses\n",
      "           98 cumulative known deaths\n",
      "       28,641 cumulative quarantined people\n",
      "            0 cumulative vaccine doses\n",
      "            0 cumulative vaccinated people\n",
      "\n",
      "Initializing sim with 50000 people for 182 days\n",
      "  Running \"Sim 1\": 2020-02-01 ( 0/182) (0.53 s)  ———————————————————— 1%\n",
      "  Running \"Sim 1\": 2020-02-11 (10/182) (0.76 s)  •——————————————————— 6%\n",
      "  Running \"Sim 1\": 2020-02-21 (20/182) (1.01 s)  ••—————————————————— 11%\n",
      "  Running \"Sim 1\": 2020-03-02 (30/182) (1.48 s)  •••————————————————— 17%\n",
      "  Running \"Sim 1\": 2020-03-12 (40/182) (1.83 s)  ••••———————————————— 22%\n",
      "  Running \"Sim 1\": 2020-03-22 (50/182) (2.16 s)  •••••——————————————— 28%\n",
      "  Running \"Sim 1\": 2020-04-01 (60/182) (2.48 s)  ••••••—————————————— 33%\n",
      "  Running \"Sim 1\": 2020-04-11 (70/182) (2.82 s)  •••••••————————————— 39%\n",
      "  Running \"Sim 1\": 2020-04-21 (80/182) (3.18 s)  ••••••••———————————— 44%\n",
      "  Running \"Sim 1\": 2020-05-01 (90/182) (3.55 s)  •••••••••——————————— 50%\n",
      "  Running \"Sim 1\": 2020-05-11 (100/182) (4.01 s)  •••••••••••————————— 55%\n",
      "  Running \"Sim 1\": 2020-05-21 (110/182) (4.38 s)  ••••••••••••———————— 61%\n"
     ]
    },
    {
     "ename": "KeyboardInterrupt",
     "evalue": "",
     "output_type": "error",
     "traceback": [
      "\u001b[1;31m---------------------------------------------------------------------------\u001b[0m",
      "\u001b[1;31mKeyboardInterrupt\u001b[0m                         Traceback (most recent call last)",
      "Cell \u001b[1;32mIn[6], line 1\u001b[0m\n\u001b[1;32m----> 1\u001b[0m drums_data_generator_multi(model_params, \u001b[39m1000\u001b[39;49m)\n",
      "File \u001b[1;32mc:\\Users\\Teddy\\Documents\\UG Research\\DRUMS\\COVASIM_EQL_BINNS\\Notebooks\\drums_data_gen_multi.py:223\u001b[0m, in \u001b[0;36mdrums_data_generator_multi\u001b[1;34m(model_params, num_runs)\u001b[0m\n\u001b[0;32m    221\u001b[0m \u001b[39m# sim.run()\u001b[39;00m\n\u001b[0;32m    222\u001b[0m msim \u001b[39m=\u001b[39m cv\u001b[39m.\u001b[39mMultiSim(sim)\n\u001b[1;32m--> 223\u001b[0m msim\u001b[39m.\u001b[39;49mrun(n_runs\u001b[39m=\u001b[39;49mn_runs, parallel\u001b[39m=\u001b[39;49m\u001b[39mFalse\u001b[39;49;00m, keep_people\u001b[39m=\u001b[39;49m\u001b[39mTrue\u001b[39;49;00m)\n\u001b[0;32m    224\u001b[0m msim\u001b[39m.\u001b[39mmean()\n\u001b[0;32m    225\u001b[0m msim\u001b[39m.\u001b[39mplot(to_plot\u001b[39m=\u001b[39m[\u001b[39m'\u001b[39m\u001b[39mnew_infections_by_variant\u001b[39m\u001b[39m'\u001b[39m,\u001b[39m'\u001b[39m\u001b[39mnew_infections\u001b[39m\u001b[39m'\u001b[39m, \u001b[39m'\u001b[39m\u001b[39mnew_tests\u001b[39m\u001b[39m'\u001b[39m, \u001b[39m'\u001b[39m\u001b[39mnew_diagnoses\u001b[39m\u001b[39m'\u001b[39m, \u001b[39m'\u001b[39m\u001b[39mcum_diagnoses\u001b[39m\u001b[39m'\u001b[39m, \u001b[39m'\u001b[39m\u001b[39mnew_quarantined\u001b[39m\u001b[39m'\u001b[39m, \u001b[39m'\u001b[39m\u001b[39mtest_yield\u001b[39m\u001b[39m'\u001b[39m],\n\u001b[0;32m    226\u001b[0m          do_show\u001b[39m=\u001b[39m\u001b[39mFalse\u001b[39;00m)\n",
      "File \u001b[1;32mc:\\Users\\Teddy\\Documents\\UG Research\\DRUMS\\COVASIM_EQL_BINNS\\Notebooks\\..\\covasim\\covasim\\run.py:172\u001b[0m, in \u001b[0;36mMultiSim.run\u001b[1;34m(self, reduce, combine, **kwargs)\u001b[0m\n\u001b[0;32m    170\u001b[0m \u001b[39m# Run\u001b[39;00m\n\u001b[0;32m    171\u001b[0m kwargs \u001b[39m=\u001b[39m sc\u001b[39m.\u001b[39mmergedicts(\u001b[39mself\u001b[39m\u001b[39m.\u001b[39mrun_args, kwargs)\n\u001b[1;32m--> 172\u001b[0m \u001b[39mself\u001b[39m\u001b[39m.\u001b[39msims \u001b[39m=\u001b[39m multi_run(sims, \u001b[39m*\u001b[39m\u001b[39m*\u001b[39mkwargs)\n\u001b[0;32m    174\u001b[0m \u001b[39m# Reduce or combine\u001b[39;00m\n\u001b[0;32m    175\u001b[0m \u001b[39mif\u001b[39;00m reduce:\n",
      "File \u001b[1;32mc:\\Users\\Teddy\\Documents\\UG Research\\DRUMS\\COVASIM_EQL_BINNS\\Notebooks\\..\\covasim\\covasim\\run.py:1500\u001b[0m, in \u001b[0;36mmulti_run\u001b[1;34m(sim, n_runs, reseed, noise, noisepar, iterpars, combine, keep_people, run_args, sim_args, par_args, do_run, parallel, n_cpus, verbose, **kwargs)\u001b[0m\n\u001b[0;32m   1498\u001b[0m         this_iter\u001b[39m.\u001b[39mupdate(kwargs) \u001b[39m# Merge with the kwargs\u001b[39;00m\n\u001b[0;32m   1499\u001b[0m         this_iter[\u001b[39m'\u001b[39m\u001b[39msim\u001b[39m\u001b[39m'\u001b[39m] \u001b[39m=\u001b[39m this_iter[\u001b[39m'\u001b[39m\u001b[39msim\u001b[39m\u001b[39m'\u001b[39m]\u001b[39m.\u001b[39mcopy() \u001b[39m# Ensure we have a fresh sim; this happens implicitly on pickling with multiprocessing\u001b[39;00m\n\u001b[1;32m-> 1500\u001b[0m         sim \u001b[39m=\u001b[39m single_run(\u001b[39m*\u001b[39m\u001b[39m*\u001b[39mthis_iter) \u001b[39m# Run in series\u001b[39;00m\n\u001b[0;32m   1501\u001b[0m         sims\u001b[39m.\u001b[39mappend(sim)\n\u001b[0;32m   1503\u001b[0m \u001b[39mreturn\u001b[39;00m sims\n",
      "File \u001b[1;32mc:\\Users\\Teddy\\Documents\\UG Research\\DRUMS\\COVASIM_EQL_BINNS\\Notebooks\\..\\covasim\\covasim\\run.py:1397\u001b[0m, in \u001b[0;36msingle_run\u001b[1;34m(sim, ind, reseed, noise, noisepar, keep_people, run_args, sim_args, verbose, do_run, **kwargs)\u001b[0m\n\u001b[0;32m   1395\u001b[0m \u001b[39m# Run\u001b[39;00m\n\u001b[0;32m   1396\u001b[0m \u001b[39mif\u001b[39;00m do_run:\n\u001b[1;32m-> 1397\u001b[0m     sim\u001b[39m.\u001b[39mrun(\u001b[39m*\u001b[39m\u001b[39m*\u001b[39mrun_args)\n\u001b[0;32m   1399\u001b[0m \u001b[39m# Shrink the sim to save memory\u001b[39;00m\n\u001b[0;32m   1400\u001b[0m \u001b[39mif\u001b[39;00m \u001b[39mnot\u001b[39;00m keep_people:\n",
      "File \u001b[1;32mc:\\Users\\Teddy\\Documents\\UG Research\\DRUMS\\COVASIM_EQL_BINNS\\Notebooks\\..\\covasim\\covasim\\sim.py:753\u001b[0m, in \u001b[0;36mSim.run\u001b[1;34m(self, do_plot, until, restore_pars, reset_seed, verbose)\u001b[0m\n\u001b[0;32m    750\u001b[0m                 sc\u001b[39m.\u001b[39mprogressbar(\u001b[39mself\u001b[39m\u001b[39m.\u001b[39mt\u001b[39m+\u001b[39m\u001b[39m1\u001b[39m, \u001b[39mself\u001b[39m\u001b[39m.\u001b[39mnpts, label\u001b[39m=\u001b[39mstring, length\u001b[39m=\u001b[39m\u001b[39m20\u001b[39m, newline\u001b[39m=\u001b[39m\u001b[39mTrue\u001b[39;00m)\n\u001b[0;32m    752\u001b[0m     \u001b[39m# Do the heavy lifting -- actually run the model!\u001b[39;00m\n\u001b[1;32m--> 753\u001b[0m     \u001b[39mself\u001b[39;49m\u001b[39m.\u001b[39;49mstep()\n\u001b[0;32m    755\u001b[0m \u001b[39m# If simulation reached the end, finalize the results\u001b[39;00m\n\u001b[0;32m    756\u001b[0m \u001b[39mif\u001b[39;00m \u001b[39mself\u001b[39m\u001b[39m.\u001b[39mcomplete:\n",
      "File \u001b[1;32mc:\\Users\\Teddy\\Documents\\UG Research\\DRUMS\\COVASIM_EQL_BINNS\\Notebooks\\..\\covasim\\covasim\\sim.py:647\u001b[0m, in \u001b[0;36mSim.step\u001b[1;34m(self)\u001b[0m\n\u001b[0;32m    645\u001b[0m         \u001b[39mfor\u001b[39;00m p1,p2 \u001b[39min\u001b[39;00m pairs:\n\u001b[0;32m    646\u001b[0m             source_inds, target_inds \u001b[39m=\u001b[39m cvu\u001b[39m.\u001b[39mcompute_infections(beta, p1, p2, betas, rel_trans, rel_sus, legacy\u001b[39m=\u001b[39m\u001b[39mself\u001b[39m\u001b[39m.\u001b[39m_legacy_trans)  \u001b[39m# Calculate transmission!\u001b[39;00m\n\u001b[1;32m--> 647\u001b[0m             people\u001b[39m.\u001b[39;49minfect(inds\u001b[39m=\u001b[39;49mtarget_inds, hosp_max\u001b[39m=\u001b[39;49mhosp_max, icu_max\u001b[39m=\u001b[39;49micu_max, source\u001b[39m=\u001b[39;49msource_inds, layer\u001b[39m=\u001b[39;49mlkey, variant\u001b[39m=\u001b[39;49mvariant)  \u001b[39m# Actually infect people\u001b[39;00m\n\u001b[0;32m    649\u001b[0m \u001b[39m# Update counts for this time step: stocks\u001b[39;00m\n\u001b[0;32m    650\u001b[0m \u001b[39mfor\u001b[39;00m key \u001b[39min\u001b[39;00m cvd\u001b[39m.\u001b[39mresult_stocks\u001b[39m.\u001b[39mkeys():\n",
      "File \u001b[1;32mc:\\Users\\Teddy\\Documents\\UG Research\\DRUMS\\COVASIM_EQL_BINNS\\Notebooks\\..\\covasim\\covasim\\people.py:445\u001b[0m, in \u001b[0;36mPeople.infect\u001b[1;34m(self, inds, hosp_max, icu_max, source, layer, variant)\u001b[0m\n\u001b[0;32m    442\u001b[0m     \u001b[39mreturn\u001b[39;00m inds\n\u001b[0;32m    444\u001b[0m \u001b[39m# Remove duplicates\u001b[39;00m\n\u001b[1;32m--> 445\u001b[0m inds, unique \u001b[39m=\u001b[39m np\u001b[39m.\u001b[39;49munique(inds, return_index\u001b[39m=\u001b[39;49m\u001b[39mTrue\u001b[39;49;00m)\n\u001b[0;32m    446\u001b[0m \u001b[39mif\u001b[39;00m source \u001b[39mis\u001b[39;00m \u001b[39mnot\u001b[39;00m \u001b[39mNone\u001b[39;00m:\n\u001b[0;32m    447\u001b[0m     source \u001b[39m=\u001b[39m source[unique]\n",
      "File \u001b[1;32m<__array_function__ internals>:180\u001b[0m, in \u001b[0;36munique\u001b[1;34m(*args, **kwargs)\u001b[0m\n",
      "File \u001b[1;32mc:\\Users\\Teddy\\anaconda3\\envs\\reu_env\\lib\\site-packages\\numpy\\lib\\arraysetops.py:274\u001b[0m, in \u001b[0;36munique\u001b[1;34m(ar, return_index, return_inverse, return_counts, axis, equal_nan)\u001b[0m\n\u001b[0;32m    272\u001b[0m ar \u001b[39m=\u001b[39m np\u001b[39m.\u001b[39masanyarray(ar)\n\u001b[0;32m    273\u001b[0m \u001b[39mif\u001b[39;00m axis \u001b[39mis\u001b[39;00m \u001b[39mNone\u001b[39;00m:\n\u001b[1;32m--> 274\u001b[0m     ret \u001b[39m=\u001b[39m _unique1d(ar, return_index, return_inverse, return_counts, \n\u001b[0;32m    275\u001b[0m                     equal_nan\u001b[39m=\u001b[39;49mequal_nan)\n\u001b[0;32m    276\u001b[0m     \u001b[39mreturn\u001b[39;00m _unpack_tuple(ret)\n\u001b[0;32m    278\u001b[0m \u001b[39m# axis was specified and not None\u001b[39;00m\n",
      "File \u001b[1;32mc:\\Users\\Teddy\\anaconda3\\envs\\reu_env\\lib\\site-packages\\numpy\\lib\\arraysetops.py:333\u001b[0m, in \u001b[0;36m_unique1d\u001b[1;34m(ar, return_index, return_inverse, return_counts, equal_nan)\u001b[0m\n\u001b[0;32m    330\u001b[0m optional_indices \u001b[39m=\u001b[39m return_index \u001b[39mor\u001b[39;00m return_inverse\n\u001b[0;32m    332\u001b[0m \u001b[39mif\u001b[39;00m optional_indices:\n\u001b[1;32m--> 333\u001b[0m     perm \u001b[39m=\u001b[39m ar\u001b[39m.\u001b[39;49margsort(kind\u001b[39m=\u001b[39;49m\u001b[39m'\u001b[39;49m\u001b[39mmergesort\u001b[39;49m\u001b[39m'\u001b[39;49m \u001b[39mif\u001b[39;49;00m return_index \u001b[39melse\u001b[39;49;00m \u001b[39m'\u001b[39;49m\u001b[39mquicksort\u001b[39;49m\u001b[39m'\u001b[39;49m)\n\u001b[0;32m    334\u001b[0m     aux \u001b[39m=\u001b[39m ar[perm]\n\u001b[0;32m    335\u001b[0m \u001b[39melse\u001b[39;00m:\n",
      "\u001b[1;31mKeyboardInterrupt\u001b[0m: "
     ]
    }
   ],
   "source": [
    "drums_data_generator_multi(model_params, 1000)"
   ]
  },
  {
   "cell_type": "code",
   "execution_count": null,
   "metadata": {},
   "outputs": [],
   "source": [
    "population = int(200e3)\n",
    "test_prob = 0.1\n",
    "trace_lb = 0.0\n",
    "trace_ub = 0.3\n",
    "chi_type = 'piecewise'\n",
    "keep_d = True\n",
    "dynamic = True\n",
    "# masking = False\n",
    "model_params = ModelParams(population, test_prob, trace_lb, trace_ub, chi_type, keep_d, dynamic)"
   ]
  },
  {
   "cell_type": "code",
   "execution_count": null,
   "metadata": {},
   "outputs": [],
   "source": [
    "drums_data_generator_multi(model_params, 1000)"
   ]
  },
  {
   "cell_type": "code",
   "execution_count": null,
   "metadata": {},
   "outputs": [],
   "source": []
  }
 ],
 "metadata": {
  "kernelspec": {
   "display_name": "reu_env",
   "language": "python",
   "name": "python3"
  },
  "language_info": {
   "codemirror_mode": {
    "name": "ipython",
    "version": 3
   },
   "file_extension": ".py",
   "mimetype": "text/x-python",
   "name": "python",
   "nbconvert_exporter": "python",
   "pygments_lexer": "ipython3",
   "version": "3.10.11"
  },
  "orig_nbformat": 4
 },
 "nbformat": 4,
 "nbformat_minor": 2
}
