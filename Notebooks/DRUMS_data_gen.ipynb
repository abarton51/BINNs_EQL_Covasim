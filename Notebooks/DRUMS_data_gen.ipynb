{
 "cells": [
  {
   "attachments": {},
   "cell_type": "markdown",
   "metadata": {},
   "source": [
    "# DRUMS - COVASIM Data Generation"
   ]
  },
  {
   "cell_type": "code",
   "execution_count": 1,
   "metadata": {},
   "outputs": [
    {
     "name": "stdout",
     "output_type": "stream",
     "text": [
      "Covasim 3.1.3 (2022-07-19) — © 2020-2022 by IDM\n"
     ]
    }
   ],
   "source": [
    "import sys\n",
    "sys.path.append('../')\n",
    "from drums_data_gen import *"
   ]
  },
  {
   "attachments": {},
   "cell_type": "markdown",
   "metadata": {},
   "source": [
    "***"
   ]
  },
  {
   "attachments": {},
   "cell_type": "markdown",
   "metadata": {},
   "source": [
    "- `test_prob`: This is a float value that corresponds to the probability of testing given the agent is symptomatic. Currently, the values for proabbility of testing for other scenarios are `asymp_prob=0.001`, `symp_quar_prob=0.3`, and `asymp_quar_prob=0.3`. Additionally, the policy for quarantining is `quar_policy='daily'`\n",
    "- `trace_lb` and `trace_ub`: These float values correspond to the lower and upper bounds on probability of tracing. Currently, the trace probability for the layers are `h=1.0`, `s=0.5`, `w=0.5`, `c=0.3`.\n",
    "- `chi_type`: The type of the function that interacts with the tracing probability. Can choose between `constant`, `linear`, `piecewise`, and `sin`.\n",
    "- `dynamic`: Boolean value that indicates whether or not to include the interacting term/function.\n",
    "- `keep_d`: Boolean value that indicates wehter or not to include the D - diagnosed compartments.\n",
    "- `model_params:` Dictionary containing keys pointing to parameter values, the compartment model's values over the simulation, and more."
   ]
  },
  {
   "cell_type": "code",
   "execution_count": 9,
   "metadata": {},
   "outputs": [],
   "source": [
    "population = int(50e3)\n",
    "test_prob = 0.1\n",
    "trace_lb = 0.0\n",
    "trace_ub = 0.3\n",
    "chi_type = 'piecewise'\n",
    "keep_d = True\n",
    "dynamic = True\n",
    "model_params = ModelParams(population, test_prob, trace_lb, trace_ub, chi_type, keep_d, dynamic)"
   ]
  },
  {
   "cell_type": "code",
   "execution_count": 10,
   "metadata": {},
   "outputs": [
    {
     "name": "stdout",
     "output_type": "stream",
     "text": [
      "Initializing sim with 50000 people for 182 days\n",
      "  Running 2020-02-01 ( 0/182) (0.56 s)  ———————————————————— 1%\n",
      "  Running 2020-02-11 (10/182) (0.77 s)  •——————————————————— 6%\n",
      "  Running 2020-02-21 (20/182) (1.08 s)  ••—————————————————— 11%\n",
      "  Running 2020-03-02 (30/182) (1.37 s)  •••————————————————— 17%\n",
      "  Running 2020-03-12 (40/182) (1.68 s)  ••••———————————————— 22%\n",
      "  Running 2020-03-22 (50/182) (2.06 s)  •••••——————————————— 28%\n",
      "  Running 2020-04-01 (60/182) (2.42 s)  ••••••—————————————— 33%\n",
      "  Running 2020-04-11 (70/182) (2.78 s)  •••••••————————————— 39%\n",
      "  Running 2020-04-21 (80/182) (3.18 s)  ••••••••———————————— 44%\n",
      "  Running 2020-05-01 (90/182) (3.55 s)  •••••••••——————————— 50%\n",
      "  Running 2020-05-11 (100/182) (3.96 s)  •••••••••••————————— 55%\n",
      "  Running 2020-05-21 (110/182) (4.38 s)  ••••••••••••———————— 61%\n",
      "  Running 2020-05-31 (120/182) (4.75 s)  •••••••••••••——————— 66%\n",
      "  Running 2020-06-10 (130/182) (5.11 s)  ••••••••••••••—————— 72%\n",
      "  Running 2020-06-20 (140/182) (5.48 s)  •••••••••••••••————— 77%\n",
      "  Running 2020-06-30 (150/182) (5.83 s)  ••••••••••••••••———— 83%\n",
      "  Running 2020-07-10 (160/182) (6.25 s)  •••••••••••••••••——— 88%\n",
      "  Running 2020-07-20 (170/182) (6.65 s)  ••••••••••••••••••—— 93%\n",
      "  Running 2020-07-30 (180/182) (7.03 s)  •••••••••••••••••••— 99%\n",
      "Simulation summary:\n",
      "       22,818 cumulative infections\n",
      "        1,766 cumulative reinfections\n",
      "       22,562 cumulative infectious\n",
      "       14,881 cumulative symptomatic cases\n",
      "        1,140 cumulative severe cases\n",
      "          336 cumulative critical cases\n",
      "       21,897 cumulative recoveries\n",
      "          116 cumulative deaths\n",
      "      134,784 cumulative tests\n",
      "       10,394 cumulative diagnoses\n",
      "           98 cumulative known deaths\n",
      "       28,641 cumulative quarantined people\n",
      "            0 cumulative vaccine doses\n",
      "            0 cumulative vaccinated people\n",
      "\n"
     ]
    }
   ],
   "source": [
    "drums_data_generator(model_params)"
   ]
  },
  {
   "cell_type": "code",
   "execution_count": null,
   "metadata": {},
   "outputs": [],
   "source": []
  }
 ],
 "metadata": {
  "kernelspec": {
   "display_name": "reu_env",
   "language": "python",
   "name": "python3"
  },
  "language_info": {
   "codemirror_mode": {
    "name": "ipython",
    "version": 3
   },
   "file_extension": ".py",
   "mimetype": "text/x-python",
   "name": "python",
   "nbconvert_exporter": "python",
   "pygments_lexer": "ipython3",
   "version": "3.10.11"
  },
  "orig_nbformat": 4
 },
 "nbformat": 4,
 "nbformat_minor": 2
}
