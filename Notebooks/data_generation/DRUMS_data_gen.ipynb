{
 "cells": [
  {
   "attachments": {},
   "cell_type": "markdown",
   "metadata": {},
   "source": [
    "# DRUMS - COVASIM Data Generation\n",
    "***"
   ]
  },
  {
   "attachments": {},
   "cell_type": "markdown",
   "metadata": {},
   "source": [
    "#### Setup\n",
    "Comment out the file you won't be using."
   ]
  },
  {
   "cell_type": "code",
   "execution_count": 1,
   "metadata": {},
   "outputs": [
    {
     "name": "stdout",
     "output_type": "stream",
     "text": [
      "Covasim 3.1.3 (2022-07-19) — © 2020-2022 by IDM\n"
     ]
    },
    {
     "name": "stderr",
     "output_type": "stream",
     "text": [
      "c:\\Users\\Teddy\\anaconda3\\envs\\reu_env\\lib\\site-packages\\tqdm\\auto.py:21: TqdmWarning: IProgress not found. Please update jupyter and ipywidgets. See https://ipywidgets.readthedocs.io/en/stable/user_install.html\n",
      "  from .autonotebook import tqdm as notebook_tqdm\n"
     ]
    }
   ],
   "source": [
    "import sys\n",
    "import joblib\n",
    "sys.path.append('../../')\n",
    "# from drums_data_gen import *\n",
    "from drums_data_gen_multi import *\n",
    "import Modules.Loaders.DataFormatter as DF\n",
    "from Modules.Utils.Imports import *"
   ]
  },
  {
   "attachments": {},
   "cell_type": "markdown",
   "metadata": {},
   "source": [
    "- `drums_gata_gen` generates data for one simulation.\n",
    "- `drums_data_gen_multi` generates data for multiple simulations and stores each simulation in a list."
   ]
  },
  {
   "cell_type": "code",
   "execution_count": 2,
   "metadata": {},
   "outputs": [
    {
     "name": "stdout",
     "output_type": "stream",
     "text": [
      "Device set to cpu\n"
     ]
    }
   ],
   "source": [
    "def to_torch(ndarray):\n",
    "    arr = torch.tensor(ndarray, dtype=torch.float)\n",
    "    arr.requires_grad_(True)\n",
    "    arr = arr.to(device)\n",
    "    return arr\n",
    "\n",
    "def to_numpy(x):\n",
    "    return x.detach().cpu().numpy()\n",
    "\n",
    "device = torch.device(GetLowestGPU(pick_from=[0,1,2,3]))"
   ]
  },
  {
   "attachments": {},
   "cell_type": "markdown",
   "metadata": {},
   "source": [
    "***\n",
    "#### Set Parameters and generate data"
   ]
  },
  {
   "attachments": {},
   "cell_type": "markdown",
   "metadata": {},
   "source": [
    "- `population`: Integer value that corresponds to the number of agents in the simulation.\n",
    "- `test_prob`: This is a float value that corresponds to the probability of testing given the agent is symptomatic. Currently, the values for proabbility of testing for other scenarios are `asymp_prob=0.001`, `symp_quar_prob=0.3`, and `asymp_quar_prob=0.3`. Additionally, the policy for quarantining is `quar_policy='daily'`\n",
    "- `trace_lb` and `trace_ub`: These float values correspond to the lower and upper bounds on probability of tracing. Currently, the trace probability for the layers are `h=1.0`, `s=0.5`, `w=0.5`, `c=0.3`.\n",
    "- `chi_type`: The type of the function that interacts with the tracing probability. Can choose between `constant`, `linear`, `piecewise`, and `sin`.\n",
    "- `keep_d`: Boolean value that indicates wehter or not to include the D - diagnosed compartments.\n",
    "- `dynamic`: Boolean value that indicates whether or not to include the interacting term/function.\n",
    "- `masking`: Integer value that indicates the masking intervention to include.\n",
    "  - `0`: No masking\n",
    "  - `1`: Threshold masking intervention logistic function.\n",
    "  - `2`: Uniform masking with no threshold logistic function.\n",
    "  - `3`: Normally distributed $\\beta_1$ coefficient logistic function.\n",
    "- `multiple`: Boolean value that indicates whether or not to run multiple simulations.\n",
    "- `parallelb`: Boolean value indicating whether or not to run in parallel.\n",
    "- `n_runs`: Integer value indicating the number of simulations to run if `multiple==True`.\n",
    "- `model_params:` Dictionary containing keys pointing to parameter values, the compartment model's values over the simulation, and more."
   ]
  },
  {
   "cell_type": "code",
   "execution_count": 3,
   "metadata": {},
   "outputs": [],
   "source": [
    "population = int(200e3)\n",
    "test_prob = 0.1\n",
    "trace_lb = 0.0\n",
    "trace_ub = 0.3\n",
    "chi_type = 'piecewise'\n",
    "keep_d = True\n",
    "dynamic = True\n",
    "masking = 3\n",
    "multiple = True\n",
    "parallelb = False\n",
    "n_runs = 32\n",
    "model_params = ModelParams(population, test_prob, trace_lb, trace_ub, chi_type, keep_d, dynamic, masking, parallelb)"
   ]
  },
  {
   "attachments": {},
   "cell_type": "markdown",
   "metadata": {},
   "source": [
    "Choose whether to use `drums_data_generator` or `drums_data_generator_multi`"
   ]
  },
  {
   "cell_type": "code",
   "execution_count": null,
   "metadata": {},
   "outputs": [],
   "source": [
    "# drums_data_generator(model_params)\n",
    "drums_data_generator_multi(model_params, n_runs)"
   ]
  },
  {
   "cell_type": "code",
   "execution_count": 13,
   "metadata": {},
   "outputs": [],
   "source": [
    "path = '../Data/covasim_data/drums_data/'\n",
    "retrain = False\n",
    "case_name = get_case_name(population, test_prob, trace_ub, keep_d, dynamic=dynamic, chi_type=chi_type)\n",
    "\n",
    "if not masking==0:\n",
    "    if masking==1:\n",
    "        case_name = case_name + '_maskingthresh'\n",
    "    elif masking==2:\n",
    "        case_name = case_name + '_maskinguni'\n",
    "    elif masking==3:\n",
    "        case_name = case_name + '_maskingnorm'\n",
    "        \n",
    "if multiple:\n",
    "    case_name = case_name + '_' + str(n_runs)\n",
    "    params = DF.load_covasim_data(path, population, test_prob, trace_ub, keep_d, case_name, plot=True)\n",
    "else:\n",
    "    params = DF.load_covasim_data(path, population, test_prob, trace_ub, keep_d, case_name, plot=True)\n",
    "    \n",
    "# Example: \n",
    "# If the data generated has 50,000 agents, test_prob of 0.1, trace_ub of 0.3, is dynamic, includes diagnosed, chi type is piecewise, \n",
    "# includes adaptive masking, and we ran 200 simulations, \n",
    "# then the case_name variable would be equal to '50000_dynamic_piecewise_0.1_0.3_masking_200'"
   ]
  },
  {
   "cell_type": "code",
   "execution_count": 14,
   "metadata": {},
   "outputs": [],
   "source": [
    "if multiple:\n",
    "    data = np.mean(params['data'], axis=0)\n",
    "    data = (data / params['population'])\n",
    "else:\n",
    "    data = params['data']\n",
    "    data = (data / params['population']).to_numpy()\n",
    "\n",
    "params.pop('data')\n",
    "N = len(data)\n",
    "t = np.arange(N)[:,None]"
   ]
  },
  {
   "cell_type": "code",
   "execution_count": 15,
   "metadata": {},
   "outputs": [],
   "source": [
    "# rescale data values to represent number of people in state X rather than ratios\n",
    "data *= population\n",
    "\n",
    "plot=True\n",
    "if plot:\n",
    "    n = data.shape[1]\n",
    "    col_names = list('STEAYDQRF') if keep_d else list('STEAYQRF')\n",
    "    # plot compartments\n",
    "    fig = plt.figure(figsize=(15, 15))\n",
    "    \n",
    "    if multiple:\n",
    "        for i in range(1, n + 1):\n",
    "            ax = fig.add_subplot(int(np.ceil(n / 3)), 3, i)\n",
    "            ax.plot(t, data[:, i - 1], '.k', label='Covasim Data')\n",
    "            ax.set_title(col_names[i - 1])\n",
    "            ax.legend(fontsize=8)\n",
    "            fig.subplots_adjust(left=0, right=1, bottom=0, top=1)\n",
    "            plt.tight_layout(pad=2)\n",
    "            plt.savefig(os.path.join(path, case_name + '_avg' + '.png') )\n",
    "            # plt.show()\n",
    "    else:\n",
    "        for i in range(1, n + 1):\n",
    "            ax = fig.add_subplot(int(np.ceil(n / 3)), 3, i)\n",
    "            ax.plot(t, data[:, i - 1], '.k', label='Covasim Data')\n",
    "            ax.set_title(col_names[i - 1])\n",
    "            ax.legend(fontsize=8)\n",
    "            fig.subplots_adjust(left=0, right=1, bottom=0, top=1)\n",
    "            plt.tight_layout(pad=2)\n",
    "            plt.savefig(os.path.join(path, case_name + '_single' + '.png') )\n",
    "            # plt.show()"
   ]
  },
  {
   "cell_type": "markdown",
   "metadata": {},
   "source": [
    "## Running multiple simulations in parallel\n",
    "- **Note**: The `final_data` matrix is normalized before storage. Therefore, when loading data generated with the parameter `parallel=True`, you must not normalize it. When loading data generated with the parameter `parallel=False`, you must normalize it.\n",
    "- `num_batches`: Integer value indicating the number of batches of parallel simulating to run.\n",
    "- `batch_size`: Integer value indiciating the size of each batch. This is the number of runs (`n_runs=batch_size`) that covasim is runnning under the `MultiSim` object over each iteration. Must not exceed 32."
   ]
  },
  {
   "cell_type": "code",
   "execution_count": 4,
   "metadata": {},
   "outputs": [],
   "source": [
    "population = int(200e3)\n",
    "test_prob = 0.1\n",
    "trace_lb = 0.0\n",
    "trace_ub = 0.3\n",
    "chi_type = 'piecewise'\n",
    "keep_d = True\n",
    "dynamic = True\n",
    "masking = 0\n",
    "parallelb = True\n",
    "model_params = ModelParams(population, test_prob, trace_lb, trace_ub, chi_type, keep_d, dynamic, masking, parallel=parallelb)"
   ]
  },
  {
   "cell_type": "code",
   "execution_count": null,
   "metadata": {},
   "outputs": [],
   "source": [
    "num_batches = 32\n",
    "batch_size = 32\n",
    "n_runs = num_batches * batch_size\n",
    "\n",
    "for i in range(num_batches):\n",
    "    drums_data_generator_multi(model_params, batch_size)\n",
    "    \n",
    "    # initilize file name, path, and final data array if first iteration\n",
    "    if i==0:\n",
    "        path = '../../Data/covasim_data/drums_data/'\n",
    "        case_name = get_case_name(population, test_prob, trace_ub, keep_d, dynamic=dynamic, chi_type=chi_type)\n",
    "\n",
    "        if not masking==0:\n",
    "            if masking==1:\n",
    "                case_name = case_name + '_maskingthresh'\n",
    "            elif masking==2:\n",
    "                case_name = case_name + '_maskinguni'\n",
    "            elif masking==3:\n",
    "                case_name = case_name + '_maskingnorm'\n",
    "\n",
    "        batch_case_name = case_name + '_' + str(batch_size)\n",
    "        params = DF.load_covasim_data(path, population, test_prob, trace_ub, keep_d, batch_case_name, plot=False)\n",
    "    \n",
    "        data = np.mean(params['data'], axis=0) # data of shape [num_days, 9]\n",
    "        data = (data / params['population'])\n",
    "        final_data = data.copy()[:,:,None]\n",
    "        \n",
    "    else:\n",
    "        params = DF.load_covasim_data(path, population, test_prob, trace_ub, keep_d, batch_case_name, plot=False)\n",
    "        data = np.mean(params['data'], axis=0) # data of shape [num_days, 9]\n",
    "        data = (data / params['population'])\n",
    "        final_data = np.concatenate((final_data, data[:,:,None]), axis=2)\n",
    "        \n",
    "final_data = np.mean(final_data, axis=2)\n",
    "params['data'] = final_data.copy()\n",
    "\n",
    "fig_name = case_name + '_' + str(n_runs)\n",
    "file_name = 'covasim_'+ fig_name\n",
    "file_name += '.joblib'\n",
    "\n",
    "file_path = '../../Data/covasim_data/drums_data'\n",
    "\n",
    "joblib.dump(params, os.path.join(file_path, file_name), compress=True)\n",
    "\n",
    "N = final_data.shape[0]\n",
    "t = np.arange(N)[:,None]"
   ]
  },
  {
   "cell_type": "code",
   "execution_count": null,
   "metadata": {},
   "outputs": [],
   "source": [
    "# rescale data values to represent number of people in state X rather than ratios (make sure not to run more than once)\n",
    "final_data *= population\n",
    "\n",
    "plot=True\n",
    "if plot:\n",
    "    n = data.shape[1]\n",
    "    col_names = list('STEAYDQRF') if keep_d else list('STEAYQRF')\n",
    "    # plot compartments\n",
    "    fig = plt.figure(figsize=(15, 15))\n",
    "    \n",
    "    for i in range(1, n + 1):\n",
    "        ax = fig.add_subplot(int(np.ceil(n / 3)), 3, i)\n",
    "        ax.plot(t, final_data[:, i - 1], '.k', label='Covasim Data')\n",
    "        ax.set_title(col_names[i - 1])\n",
    "        ax.legend(fontsize=8)\n",
    "        fig.subplots_adjust(left=0, right=1, bottom=0, top=1)\n",
    "        plt.tight_layout(pad=2)\n",
    "        plt.savefig(os.path.join(path, case_name + '_' + str(n_runs) + '_avg' + '.png') )"
   ]
  }
 ],
 "metadata": {
  "kernelspec": {
   "display_name": "reu_env",
   "language": "python",
   "name": "python3"
  },
  "language_info": {
   "codemirror_mode": {
    "name": "ipython",
    "version": 3
   },
   "file_extension": ".py",
   "mimetype": "text/x-python",
   "name": "python",
   "nbconvert_exporter": "python",
   "pygments_lexer": "ipython3",
   "version": "3.10.11"
  },
  "orig_nbformat": 4
 },
 "nbformat": 4,
 "nbformat_minor": 2
}
