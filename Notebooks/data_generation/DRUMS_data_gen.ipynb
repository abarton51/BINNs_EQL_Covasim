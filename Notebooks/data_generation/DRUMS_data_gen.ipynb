{
 "cells": [
  {
   "cell_type": "markdown",
   "metadata": {},
   "source": [
    "# DRUMS - COVASIM Data Generation\n",
    "***"
   ]
  },
  {
   "cell_type": "markdown",
   "metadata": {},
   "source": [
    "#### Setup\n",
    "Comment out the file you won't be using."
   ]
  },
  {
   "cell_type": "code",
   "execution_count": 1,
   "metadata": {},
   "outputs": [
    {
     "name": "stdout",
     "output_type": "stream",
     "text": [
      "Covasim 3.1.3 (2022-07-19) — © 2020-2022 by IDM\n"
     ]
    },
    {
     "name": "stderr",
     "output_type": "stream",
     "text": [
      "c:\\Users\\Teddy\\anaconda3\\envs\\reu_env\\lib\\site-packages\\tqdm\\auto.py:21: TqdmWarning: IProgress not found. Please update jupyter and ipywidgets. See https://ipywidgets.readthedocs.io/en/stable/user_install.html\n",
      "  from .autonotebook import tqdm as notebook_tqdm\n"
     ]
    }
   ],
   "source": [
    "import sys\n",
    "import joblib\n",
    "sys.path.append('../../')\n",
    "# from drums_data_gen import *\n",
    "from drums_data_gen_multi import *\n",
    "import Modules.Loaders.DataFormatter as DF\n",
    "from Modules.Utils.Imports import *"
   ]
  },
  {
   "cell_type": "markdown",
   "metadata": {},
   "source": [
    "- `drums_gata_gen` generates data for one simulation.\n",
    "- `drums_data_gen_multi` generates data for multiple simulations and stores each simulation in a list."
   ]
  },
  {
   "cell_type": "code",
   "execution_count": 2,
   "metadata": {},
   "outputs": [
    {
     "name": "stdout",
     "output_type": "stream",
     "text": [
      "Device set to cpu\n"
     ]
    }
   ],
   "source": [
    "device = torch.device(GetLowestGPU(pick_from=[0,1,2,3]))\n",
    "def to_torch(ndarray):\n",
    "    arr = torch.tensor(ndarray, dtype=torch.float)\n",
    "    arr.requires_grad_(True)\n",
    "    arr = arr.to(device)\n",
    "    return arr\n",
    "\n",
    "def to_numpy(x):\n",
    "    return x.detach().cpu().numpy()"
   ]
  },
  {
   "cell_type": "markdown",
   "metadata": {},
   "source": [
    "***\n",
    "#### Set Parameters and generate data"
   ]
  },
  {
   "cell_type": "markdown",
   "metadata": {},
   "source": [
    "- `population`: Integer value that corresponds to the number of agents in the simulation.\n",
    "- `test_prob`: This is a float value that corresponds to the probability of testing given the agent is symptomatic. Currently, the values for proabbility of testing for other scenarios are `asymp_prob=0.001`, `symp_quar_prob=0.3`, and `asymp_quar_prob=0.3`. Additionally, the policy for quarantining is `quar_policy='daily'`\n",
    "- `trace_lb` and `trace_ub`: These float values correspond to the lower and upper bounds on probability of tracing. Currently, the trace probability for the layers are `h=1.0`, `s=0.5`, `w=0.5`, `c=0.3`.\n",
    "- `chi_type`: The type of the function that interacts with the tracing probability. Can choose between `constant`, `linear`, `piecewise`, and `sin`.\n",
    "- `keep_d`: Boolean value that indicates wehter or not to include the D - diagnosed compartments.\n",
    "- `dynamic`: Boolean value that indicates whether or not to include the interacting term/function.\n",
    "- `masking`: Integer value that indicates the masking intervention to include.\n",
    "  - `0`: No masking\n",
    "  - `1`: Threshold masking intervention logistic function.\n",
    "  - `2`: Uniform masking with no threshold logistic function.\n",
    "  - `3`: Normally distributed $\\beta_1$ coefficient logistic function.\n",
    "- `multiple`: Boolean value that indicates whether or not to run multiple simulations.\n",
    "- `parallelb`: Boolean value indicating whether or not to run in parallel.\n",
    "- `n_runs`: Integer value indicating the number of simulations to run if `multiple==True`.\n",
    "- `model_params:` Dictionary containing keys pointing to parameter values, the compartment model's values over the simulation, and more."
   ]
  },
  {
   "cell_type": "code",
   "execution_count": 3,
   "metadata": {},
   "outputs": [],
   "source": [
    "population = int(50e3)\n",
    "test_prob = 0.1\n",
    "trace_lb = 0.0\n",
    "trace_ub = 0.3\n",
    "chi_type = 'piecewise'\n",
    "keep_d = True\n",
    "dynamic = True\n",
    "masking = 1\n",
    "multiple = True\n",
    "parallelb = False\n",
    "n_runs = 2\n",
    "model_params = ModelParams(population=int(50e3), \n",
    "                 test_prob=test_prob, \n",
    "                 trace_lb=trace_lb, \n",
    "                 trace_ub=trace_ub, \n",
    "                 chi_type=chi_type, \n",
    "                 keep_d=keep_d, \n",
    "                 dynamic=dynamic,\n",
    "                 masking=masking,\n",
    "                 parallel=parallelb)"
   ]
  },
  {
   "cell_type": "markdown",
   "metadata": {},
   "source": [
    "Choose whether to use `drums_data_generator` or `drums_data_generator_multi`"
   ]
  },
  {
   "cell_type": "code",
   "execution_count": 4,
   "metadata": {},
   "outputs": [
    {
     "name": "stdout",
     "output_type": "stream",
     "text": [
      "Initializing sim with 50000 people for 182 days\n",
      "  Running \"Sim 0\": 2020-02-01 ( 0/182) (0.50 s)  ———————————————————— 1%\n",
      "  Running \"Sim 0\": 2020-02-11 (10/182) (3.08 s)  •——————————————————— 6%\n",
      "  Running \"Sim 0\": 2020-02-21 (20/182) (5.86 s)  ••—————————————————— 11%\n",
      "  Running \"Sim 0\": 2020-03-02 (30/182) (8.66 s)  •••————————————————— 17%\n",
      "  Running \"Sim 0\": 2020-03-12 (40/182) (11.36 s)  ••••———————————————— 22%\n",
      "  Running \"Sim 0\": 2020-03-22 (50/182) (14.23 s)  •••••——————————————— 28%\n",
      "  Running \"Sim 0\": 2020-04-01 (60/182) (17.23 s)  ••••••—————————————— 33%\n",
      "  Running \"Sim 0\": 2020-04-11 (70/182) (20.53 s)  •••••••————————————— 39%\n",
      "  Running \"Sim 0\": 2020-04-21 (80/182) (23.42 s)  ••••••••———————————— 44%\n",
      "  Running \"Sim 0\": 2020-05-01 (90/182) (26.36 s)  •••••••••——————————— 50%\n",
      "  Running \"Sim 0\": 2020-05-11 (100/182) (29.30 s)  •••••••••••————————— 55%\n",
      "  Running \"Sim 0\": 2020-05-21 (110/182) (32.14 s)  ••••••••••••———————— 61%\n",
      "  Running \"Sim 0\": 2020-05-31 (120/182) (35.00 s)  •••••••••••••——————— 66%\n",
      "  Running \"Sim 0\": 2020-06-10 (130/182) (37.85 s)  ••••••••••••••—————— 72%\n",
      "  Running \"Sim 0\": 2020-06-20 (140/182) (40.38 s)  •••••••••••••••————— 77%\n",
      "  Running \"Sim 0\": 2020-06-30 (150/182) (43.14 s)  ••••••••••••••••———— 83%\n",
      "  Running \"Sim 0\": 2020-07-10 (160/182) (45.90 s)  •••••••••••••••••——— 88%\n",
      "  Running \"Sim 0\": 2020-07-20 (170/182) (48.68 s)  ••••••••••••••••••—— 93%\n",
      "  Running \"Sim 0\": 2020-07-30 (180/182) (51.37 s)  •••••••••••••••••••— 99%\n",
      "Simulation \"Sim 0\" summary:\n",
      "        5,737 cumulative infections\n",
      "          114 cumulative reinfections\n",
      "        5,709 cumulative infectious\n",
      "        3,881 cumulative symptomatic cases\n",
      "          292 cumulative severe cases\n",
      "           84 cumulative critical cases\n",
      "        5,607 cumulative recoveries\n",
      "           35 cumulative deaths\n",
      "       41,805 cumulative tests\n",
      "        2,457 cumulative diagnoses\n",
      "           28 cumulative known deaths\n",
      "        7,528 cumulative quarantined people\n",
      "            0 cumulative vaccine doses\n",
      "            0 cumulative vaccinated people\n",
      "\n",
      "Initializing sim with 50000 people for 182 days\n",
      "  Running \"Sim 1\": 2020-02-01 ( 0/182) (0.50 s)  ———————————————————— 1%\n",
      "  Running \"Sim 1\": 2020-02-11 (10/182) (3.01 s)  •——————————————————— 6%\n",
      "  Running \"Sim 1\": 2020-02-21 (20/182) (5.67 s)  ••—————————————————— 11%\n",
      "  Running \"Sim 1\": 2020-03-02 (30/182) (8.33 s)  •••————————————————— 17%\n",
      "  Running \"Sim 1\": 2020-03-12 (40/182) (11.18 s)  ••••———————————————— 22%\n",
      "  Running \"Sim 1\": 2020-03-22 (50/182) (13.80 s)  •••••——————————————— 28%\n",
      "  Running \"Sim 1\": 2020-04-01 (60/182) (16.58 s)  ••••••—————————————— 33%\n",
      "  Running \"Sim 1\": 2020-04-11 (70/182) (19.14 s)  •••••••————————————— 39%\n",
      "  Running \"Sim 1\": 2020-04-21 (80/182) (22.06 s)  ••••••••———————————— 44%\n",
      "  Running \"Sim 1\": 2020-05-01 (90/182) (24.95 s)  •••••••••——————————— 50%\n",
      "  Running \"Sim 1\": 2020-05-11 (100/182) (27.69 s)  •••••••••••————————— 55%\n",
      "  Running \"Sim 1\": 2020-05-21 (110/182) (30.38 s)  ••••••••••••———————— 61%\n",
      "  Running \"Sim 1\": 2020-05-31 (120/182) (33.22 s)  •••••••••••••——————— 66%\n",
      "  Running \"Sim 1\": 2020-06-10 (130/182) (36.12 s)  ••••••••••••••—————— 72%\n",
      "  Running \"Sim 1\": 2020-06-20 (140/182) (38.91 s)  •••••••••••••••————— 77%\n",
      "  Running \"Sim 1\": 2020-06-30 (150/182) (41.82 s)  ••••••••••••••••———— 83%\n",
      "  Running \"Sim 1\": 2020-07-10 (160/182) (44.55 s)  •••••••••••••••••——— 88%\n",
      "  Running \"Sim 1\": 2020-07-20 (170/182) (47.39 s)  ••••••••••••••••••—— 93%\n",
      "  Running \"Sim 1\": 2020-07-30 (180/182) (50.02 s)  •••••••••••••••••••— 99%\n",
      "Simulation \"Sim 1\" summary:\n",
      "        5,500 cumulative infections\n",
      "          116 cumulative reinfections\n",
      "        5,446 cumulative infectious\n",
      "        3,655 cumulative symptomatic cases\n",
      "          253 cumulative severe cases\n",
      "           73 cumulative critical cases\n",
      "        5,320 cumulative recoveries\n",
      "           14 cumulative deaths\n",
      "       40,767 cumulative tests\n",
      "        2,283 cumulative diagnoses\n",
      "           12 cumulative known deaths\n",
      "        7,353 cumulative quarantined people\n",
      "            0 cumulative vaccine doses\n",
      "            0 cumulative vaccinated people\n",
      "\n"
     ]
    }
   ],
   "source": [
    "# drums_data_generator(model_params)\n",
    "drums_data_generator_multi(model_params, n_runs)"
   ]
  },
  {
   "cell_type": "code",
   "execution_count": null,
   "metadata": {},
   "outputs": [],
   "source": [
    "path = '../../Data/covasim_data/drums_data/'\n",
    "retrain = False\n",
    "case_name = get_case_name(population, test_prob, trace_ub, keep_d, dynamic=dynamic, chi_type=chi_type)\n",
    "\n",
    "if not masking==0:\n",
    "    if masking==1:\n",
    "        case_name = case_name + '_maskingthresh'\n",
    "    elif masking==2:\n",
    "        case_name = case_name + '_maskinguni'\n",
    "    elif masking==3:\n",
    "        case_name = case_name + '_maskingnorm'\n",
    "        \n",
    "if multiple:\n",
    "    case_name = case_name + '_' + str(n_runs)\n",
    "    params = DF.load_covasim_data(path, population, test_prob, trace_ub, keep_d, case_name, plot=False)\n",
    "else:\n",
    "    params = DF.load_covasim_data(path, population, test_prob, trace_ub, keep_d, case_name, plot=False)\n",
    "    \n",
    "# Example: \n",
    "# If the data generated has 50,000 agents, test_prob of 0.1, trace_ub of 0.3, is dynamic, includes diagnosed, chi type is piecewise, \n",
    "# includes adaptive masking, and we ran 200 simulations, \n",
    "# then the case_name variable would be equal to '50000_dynamic_piecewise_0.1_0.3_masking_200'"
   ]
  },
  {
   "cell_type": "code",
   "execution_count": null,
   "metadata": {},
   "outputs": [],
   "source": [
    "if multiple:\n",
    "    data = np.mean(params['data'], axis=0)\n",
    "    data = (data / params['population'])\n",
    "    avg_masking = np.mean(params['avg_masking'], axis=0)\n",
    "    avg_masking = (avg_masking / params['population'])\n",
    "else:\n",
    "    data = params['data']\n",
    "    data = (data / params['population']).to_numpy()\n",
    "    avg_masking = params['avg_masking']\n",
    "    avg_masking = (avg_masking / params['population'])\n",
    "\n",
    "params.pop('data')\n",
    "N = len(data)\n",
    "t = np.arange(N)[:,None]"
   ]
  },
  {
   "cell_type": "code",
   "execution_count": null,
   "metadata": {},
   "outputs": [],
   "source": [
    "# rescale data values to represent number of people in state X rather than ratios\n",
    "data *= population\n",
    "\n",
    "plot_comps=True\n",
    "plot_masks=True\n",
    "if plot_comps:\n",
    "    n = data.shape[1]\n",
    "    col_names = list('STEAYDQRF') if keep_d else list('STEAYQRF')\n",
    "    # plot compartments\n",
    "    fig = plt.figure(figsize=(15, 15))\n",
    "    \n",
    "    if multiple:\n",
    "        for i in range(1, n + 1):\n",
    "            ax = fig.add_subplot(int(np.ceil(n / 3)), 3, i)\n",
    "            ax.plot(t, data[:, i - 1], '.k', label='Covasim Data')\n",
    "            ax.set_title(col_names[i - 1])\n",
    "            ax.legend(fontsize=8)\n",
    "            fig.subplots_adjust(left=0, right=1, bottom=0, top=1)\n",
    "            plt.tight_layout(pad=2)\n",
    "            plt.savefig(os.path.join(path, case_name + '_avg' + '.png') )\n",
    "            # plt.show()\n",
    "    else:\n",
    "        for i in range(1, n + 1):\n",
    "            ax = fig.add_subplot(int(np.ceil(n / 3)), 3, i)\n",
    "            ax.plot(t, data[:, i - 1], '.k', label='Covasim Data')\n",
    "            ax.set_title(col_names[i - 1])\n",
    "            ax.legend(fontsize=8)\n",
    "            fig.subplots_adjust(left=0, right=1, bottom=0, top=1)\n",
    "            plt.tight_layout(pad=2)\n",
    "            plt.savefig(os.path.join(path, case_name + '_single' + '.png') )\n",
    "            # plt.show()\n",
    "            \n",
    "    plt.close()\n",
    "\n",
    "avg_masking *= population\n",
    "\n",
    "plot_masks=True\n",
    "if plot_masks and masking > 0:\n",
    "    fig = plt.figure(figsize=(10, 10))\n",
    "    if multiple:\n",
    "        plt.plot(t, avg_masking, '.k', label='Covasim Data')\n",
    "        plt.title('Average Number of Agents Masking over Time (days)', fontsize=16)\n",
    "        plt.legend(fontsize=14)\n",
    "        plt.tight_layout(pad=4)\n",
    "        plt.savefig(os.path.join(path, case_name + '_avgmasking' + '_avg' + '.png') )\n",
    "        plt.show()\n",
    "    else:\n",
    "        plt.plot(t, avg_masking, '.k', label='Covasim Data')\n",
    "        plt.title('Average Number of Agents Masking over Time (days)', fontsize=16)\n",
    "        plt.legend(fontsize=14)\n",
    "        plt.tight_layout(pad=4)\n",
    "        plt.savefig(os.path.join(path, case_name + '_avgmasking' + '_single' + '.png') )\n",
    "        plt.show()"
   ]
  },
  {
   "cell_type": "markdown",
   "metadata": {},
   "source": [
    "## Running multiple simulations in parallel\n",
    "- **Note**: The `final_data` matrix is normalized before storage. Therefore, when loading data generated with the parameter `parallel=True`, you must not normalize it. When loading data generated with the parameter `parallel=False`, you must normalize it.\n",
    "- `num_batches`: Integer value indicating the number of batches of parallel simulating to run.\n",
    "- `batch_size`: Integer value indiciating the size of each batch. This is the number of runs (`n_runs=batch_size`) that covasim is runnning under the `MultiSim` object over each iteration. Must not exceed 32."
   ]
  },
  {
   "cell_type": "code",
   "execution_count": 3,
   "metadata": {},
   "outputs": [],
   "source": [
    "population = int(500e3)\n",
    "test_prob = 0.1\n",
    "trace_lb = 0.0\n",
    "trace_ub = 0.3\n",
    "chi_type = 'piecewise'\n",
    "keep_d = True\n",
    "dynamic = True\n",
    "masking = 1\n",
    "parallelb = True\n",
    "num_batches = 64\n",
    "batch_size = 32\n",
    "model_params = ModelParams(population, \n",
    "                           test_prob, \n",
    "                           trace_lb, \n",
    "                           trace_ub, \n",
    "                           chi_type, \n",
    "                           keep_d, \n",
    "                           dynamic, \n",
    "                           masking, \n",
    "                           parallel=parallelb,\n",
    "                           batches=num_batches)"
   ]
  },
  {
   "cell_type": "code",
   "execution_count": 4,
   "metadata": {},
   "outputs": [],
   "source": [
    "if num_batches<=0:\n",
    "    raise Exception(f\"`batches` must be a positive integer. Instead, the number of batches passed was: {model_params.batches}\")"
   ]
  },
  {
   "cell_type": "code",
   "execution_count": null,
   "metadata": {},
   "outputs": [],
   "source": [
    "total_runs = num_batches * batch_size\n",
    "\n",
    "for i in range(num_batches):\n",
    "    drums_data_generator_multi(model_params, batch_size)\n",
    "    \n",
    "    # initilize file name, path, and final data array if first iteration\n",
    "    if i==0:\n",
    "        path = '../../Data/covasim_data/drums_data/'\n",
    "        case_name = get_case_name(population, test_prob, trace_ub, keep_d, dynamic=dynamic, chi_type=chi_type)\n",
    "\n",
    "        if not masking==0:\n",
    "            if masking==1:\n",
    "                case_name = case_name + '_maskingthresh'\n",
    "            elif masking==2:\n",
    "                case_name = case_name + '_maskinguni'\n",
    "            elif masking==3:\n",
    "                case_name = case_name + '_maskingnorm'\n",
    "\n",
    "        batch_case_name = case_name + '_' + str(batch_size)\n",
    "        params = DF.load_covasim_data(path, population, test_prob, trace_ub, keep_d, batch_case_name, plot=False)\n",
    "    \n",
    "        data = np.mean(params['data'], axis=0) # data of shape [num_days, 9]\n",
    "        data = (data / params['population'])\n",
    "        final_data = data.copy()[:,:,None]\n",
    "        avg_masking = np.mean(params['avg_masking'], axis=0)\n",
    "        avg_masking = (avg_masking / params['population'])\n",
    "        final_am = avg_masking.copy()[:,None]\n",
    "        \n",
    "    else:\n",
    "        params = DF.load_covasim_data(path, population, test_prob, trace_ub, keep_d, batch_case_name, plot=False)\n",
    "        \n",
    "        data = np.mean(params['data'], axis=0) # data of shape [num_days, 9]\n",
    "        data = (data / params['population'])\n",
    "        final_data = np.concatenate((final_data, data[:,:,None]), axis=2)\n",
    "        \n",
    "        avg_masking = np.mean(params['avg_masking'], axis=0)\n",
    "        avg_masking = (avg_masking / params['population'])\n",
    "        final_am = np.concatenate((final_am, avg_masking[:,None]), axis=1)\n",
    "        \n",
    "final_data = np.mean(final_data, axis=2)\n",
    "params['data'] = final_data.copy()\n",
    "\n",
    "final_am = np.mean(final_am, axis=1)\n",
    "params['avg_masking'] = final_am.copy()\n",
    "\n",
    "fig_name = case_name + '_' + str(total_runs)\n",
    "file_name = 'covasim_'+ fig_name\n",
    "file_name += '.joblib'\n",
    "\n",
    "file_path = '../../Data/covasim_data/drums_data'\n",
    "\n",
    "joblib.dump(params, os.path.join(file_path, file_name), compress=True)\n",
    "\n",
    "N = final_data.shape[0]\n",
    "t = np.arange(N)[:,None]"
   ]
  },
  {
   "cell_type": "code",
   "execution_count": null,
   "metadata": {},
   "outputs": [],
   "source": [
    "# rescale data values to represent number of people in state X rather than ratios (make sure not to run more than once)\n",
    "final_data *= population\n",
    "\n",
    "plot_comps=True\n",
    "plot_masks=True\n",
    "if plot_comps:\n",
    "    n = data.shape[1]\n",
    "    col_names = list('STEAYDQRF') if keep_d else list('STEAYQRF')\n",
    "    # plot compartments\n",
    "    fig = plt.figure(figsize=(15, 15))\n",
    "    for i in range(1, n + 1):\n",
    "        ax = fig.add_subplot(int(np.ceil(n / 3)), 3, i)\n",
    "        ax.plot(t, final_data[:, i - 1], '.k', label='Covasim Data')\n",
    "        ax.set_title(col_names[i - 1])\n",
    "        ax.legend(fontsize=8)\n",
    "        fig.subplots_adjust(left=0, right=1, bottom=0, top=1)\n",
    "        plt.tight_layout(pad=2)\n",
    "        plt.savefig(os.path.join(path, case_name + '_' + str(total_runs) + '_avg' + '.png') )\n",
    "    plt.close()\n",
    "\n",
    "# rescale avg_masking values to represent average number of people people masking\n",
    "avg_masking *= population\n",
    "\n",
    "if plot_masks and masking > 0:\n",
    "    fig = plt.figure(figsize=(10, 10))\n",
    "    plt.plot(t, avg_masking, '.k', label='Covasim Data')\n",
    "    plt.title('Averaged Number of Agents Masking over Time (days)', fontsize=16)\n",
    "    plt.legend(fontsize=14)\n",
    "    plt.tight_layout(pad=4)\n",
    "    plt.savefig(os.path.join(path, case_name + '_' + str(total_runs) + '_avgmasking_avg' + '.png') )\n",
    "    plt.show()"
   ]
  },
  {
   "cell_type": "code",
   "execution_count": null,
   "metadata": {},
   "outputs": [],
   "source": []
  }
 ],
 "metadata": {
  "kernelspec": {
   "display_name": "Python 3",
   "language": "python",
   "name": "python3"
  },
  "language_info": {
   "codemirror_mode": {
    "name": "ipython",
    "version": 3
   },
   "file_extension": ".py",
   "mimetype": "text/x-python",
   "name": "python",
   "nbconvert_exporter": "python",
   "pygments_lexer": "ipython3",
   "version": "3.10.11"
  }
 },
 "nbformat": 4,
 "nbformat_minor": 4
}
