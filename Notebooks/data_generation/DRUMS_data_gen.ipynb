{
 "cells": [
  {
   "attachments": {},
   "cell_type": "markdown",
   "metadata": {},
   "source": [
    "# DRUMS - COVASIM Data Generation\n",
    "***"
   ]
  },
  {
   "attachments": {},
   "cell_type": "markdown",
   "metadata": {},
   "source": [
    "#### Setup\n",
    "Comment out the file you won't be using."
   ]
  },
  {
   "cell_type": "code",
   "execution_count": 1,
   "metadata": {},
   "outputs": [
    {
     "name": "stdout",
     "output_type": "stream",
     "text": [
      "Covasim 3.1.3 (2022-07-19) — © 2020-2022 by IDM\n"
     ]
    },
    {
     "name": "stderr",
     "output_type": "stream",
     "text": [
      "c:\\Users\\Teddy\\anaconda3\\envs\\reu_env\\lib\\site-packages\\tqdm\\auto.py:21: TqdmWarning: IProgress not found. Please update jupyter and ipywidgets. See https://ipywidgets.readthedocs.io/en/stable/user_install.html\n",
      "  from .autonotebook import tqdm as notebook_tqdm\n"
     ]
    }
   ],
   "source": [
    "import sys\n",
    "sys.path.append('../../')\n",
    "# from drums_data_gen import *\n",
    "from drums_data_gen_multi import *\n",
    "import Modules.Loaders.DataFormatter as DF\n",
    "from Modules.Utils.Imports import *"
   ]
  },
  {
   "attachments": {},
   "cell_type": "markdown",
   "metadata": {},
   "source": [
    "- `drums_gata_gen` generates data for one simulation.\n",
    "- `drums_data_gen_multi` generates data for multiple simulations and stores each simulation in a list."
   ]
  },
  {
   "cell_type": "code",
   "execution_count": 2,
   "metadata": {},
   "outputs": [
    {
     "name": "stdout",
     "output_type": "stream",
     "text": [
      "Device set to cpu\n"
     ]
    }
   ],
   "source": [
    "def to_torch(ndarray):\n",
    "    arr = torch.tensor(ndarray, dtype=torch.float)\n",
    "    arr.requires_grad_(True)\n",
    "    arr = arr.to(device)\n",
    "    return arr\n",
    "\n",
    "def to_numpy(x):\n",
    "    return x.detach().cpu().numpy()\n",
    "\n",
    "device = torch.device(GetLowestGPU(pick_from=[0,1,2,3]))"
   ]
  },
  {
   "attachments": {},
   "cell_type": "markdown",
   "metadata": {},
   "source": [
    "***\n",
    "#### Set Parameters and generate data"
   ]
  },
  {
   "attachments": {},
   "cell_type": "markdown",
   "metadata": {},
   "source": [
    "- `population`: Integer value that corresponds to the number of agents in the simulation.\n",
    "- `test_prob`: This is a float value that corresponds to the probability of testing given the agent is symptomatic. Currently, the values for proabbility of testing for other scenarios are `asymp_prob=0.001`, `symp_quar_prob=0.3`, and `asymp_quar_prob=0.3`. Additionally, the policy for quarantining is `quar_policy='daily'`\n",
    "- `trace_lb` and `trace_ub`: These float values correspond to the lower and upper bounds on probability of tracing. Currently, the trace probability for the layers are `h=1.0`, `s=0.5`, `w=0.5`, `c=0.3`.\n",
    "- `chi_type`: The type of the function that interacts with the tracing probability. Can choose between `constant`, `linear`, `piecewise`, and `sin`.\n",
    "- `keep_d`: Boolean value that indicates wehter or not to include the D - diagnosed compartments.\n",
    "- `dynamic`: Boolean value that indicates whether or not to include the interacting term/function.\n",
    "- `maskb`: Boolean value that indicates whether or not the simulation includes dynamic masking behavior.\n",
    "- `multiple`: Boolean value that indicates whether or not to run multiple simulations.\n",
    "- `n_runs`: Integer value indicating the number of simulations to run if `multiple==True`.\n",
    "- `model_params:` Dictionary containing keys pointing to parameter values, the compartment model's values over the simulation, and more."
   ]
  },
  {
   "cell_type": "code",
   "execution_count": 3,
   "metadata": {},
   "outputs": [],
   "source": [
    "population = int(50e3)\n",
    "test_prob = 0.1\n",
    "trace_lb = 0.0\n",
    "trace_ub = 0.3\n",
    "chi_type = 'piecewise'\n",
    "keep_d = True\n",
    "dynamic = True\n",
    "maskb = True\n",
    "multiple = True\n",
    "n_runs = 5\n",
    "model_params = ModelParams(population, test_prob, trace_lb, trace_ub, chi_type, keep_d, dynamic, maskb)"
   ]
  },
  {
   "attachments": {},
   "cell_type": "markdown",
   "metadata": {},
   "source": [
    "Choose whether to use `drums_data_generator` or `drums_data_generator_multi`"
   ]
  },
  {
   "cell_type": "code",
   "execution_count": 4,
   "metadata": {},
   "outputs": [
    {
     "name": "stdout",
     "output_type": "stream",
     "text": [
      "Initializing sim with 50000 people for 182 days\n",
      "  Running \"Sim 0\": 2020-02-01 ( 0/182) (0.72 s)  ———————————————————— 1%\n",
      "  Running \"Sim 0\": 2020-02-11 (10/182) (0.99 s)  •——————————————————— 6%\n",
      "  Running \"Sim 0\": 2020-02-21 (20/182) (1.43 s)  ••—————————————————— 11%\n",
      "  Running \"Sim 0\": 2020-03-02 (30/182) (1.84 s)  •••————————————————— 17%\n",
      "  Running \"Sim 0\": 2020-03-12 (40/182) (2.27 s)  ••••———————————————— 22%\n",
      "  Running \"Sim 0\": 2020-03-22 (50/182) (2.69 s)  •••••——————————————— 28%\n",
      "  Running \"Sim 0\": 2020-04-01 (60/182) (3.17 s)  ••••••—————————————— 33%\n",
      "  Running \"Sim 0\": 2020-04-11 (70/182) (3.61 s)  •••••••————————————— 39%\n",
      "  Running \"Sim 0\": 2020-04-21 (80/182) (4.06 s)  ••••••••———————————— 44%\n",
      "  Running \"Sim 0\": 2020-05-01 (90/182) (4.50 s)  •••••••••——————————— 50%\n",
      "  Running \"Sim 0\": 2020-05-11 (100/182) (4.97 s)  •••••••••••————————— 55%\n",
      "  Running \"Sim 0\": 2020-05-21 (110/182) (5.37 s)  ••••••••••••———————— 61%\n",
      "  Running \"Sim 0\": 2020-05-31 (120/182) (5.76 s)  •••••••••••••——————— 66%\n",
      "  Running \"Sim 0\": 2020-06-10 (130/182) (6.09 s)  ••••••••••••••—————— 72%\n",
      "  Running \"Sim 0\": 2020-06-20 (140/182) (6.38 s)  •••••••••••••••————— 77%\n",
      "  Running \"Sim 0\": 2020-06-30 (150/182) (6.70 s)  ••••••••••••••••———— 83%\n",
      "  Running \"Sim 0\": 2020-07-10 (160/182) (6.92 s)  •••••••••••••••••——— 88%\n"
     ]
    },
    {
     "ename": "KeyboardInterrupt",
     "evalue": "",
     "output_type": "error",
     "traceback": [
      "\u001b[1;31m---------------------------------------------------------------------------\u001b[0m",
      "\u001b[1;31mKeyboardInterrupt\u001b[0m                         Traceback (most recent call last)",
      "Cell \u001b[1;32mIn[4], line 2\u001b[0m\n\u001b[0;32m      1\u001b[0m \u001b[39m# drums_data_generator(model_params)\u001b[39;00m\n\u001b[1;32m----> 2\u001b[0m drums_data_generator_multi(model_params, n_runs)\n",
      "File \u001b[1;32mc:\\Users\\Teddy\\Documents\\UG Research\\DRUMS\\COVASIM_EQL_BINNS\\Notebooks\\drums_data_gen_multi.py:288\u001b[0m, in \u001b[0;36mdrums_data_generator_multi\u001b[1;34m(model_params, num_runs)\u001b[0m\n\u001b[0;32m    285\u001b[0m     sim \u001b[39m=\u001b[39m import_new_variants(sim, variant_day, n_imports, rel_beta, wild_imm, rel_death_prob\u001b[39m=\u001b[39mrel_death_prob)\n\u001b[0;32m    287\u001b[0m msim \u001b[39m=\u001b[39m cv\u001b[39m.\u001b[39mMultiSim(sim)\n\u001b[1;32m--> 288\u001b[0m msim\u001b[39m.\u001b[39;49mrun(n_runs\u001b[39m=\u001b[39;49mn_runs, parallel\u001b[39m=\u001b[39;49m\u001b[39mFalse\u001b[39;49;00m, keep_people\u001b[39m=\u001b[39;49m\u001b[39mTrue\u001b[39;49;00m)\n\u001b[0;32m    289\u001b[0m msim\u001b[39m.\u001b[39mmean()\n\u001b[0;32m    290\u001b[0m msim\u001b[39m.\u001b[39mplot(to_plot\u001b[39m=\u001b[39m[\u001b[39m'\u001b[39m\u001b[39mnew_infections_by_variant\u001b[39m\u001b[39m'\u001b[39m,\u001b[39m'\u001b[39m\u001b[39mnew_infections\u001b[39m\u001b[39m'\u001b[39m, \u001b[39m'\u001b[39m\u001b[39mnew_tests\u001b[39m\u001b[39m'\u001b[39m, \u001b[39m'\u001b[39m\u001b[39mnew_diagnoses\u001b[39m\u001b[39m'\u001b[39m, \u001b[39m'\u001b[39m\u001b[39mcum_diagnoses\u001b[39m\u001b[39m'\u001b[39m, \u001b[39m'\u001b[39m\u001b[39mnew_quarantined\u001b[39m\u001b[39m'\u001b[39m, \u001b[39m'\u001b[39m\u001b[39mtest_yield\u001b[39m\u001b[39m'\u001b[39m],\n\u001b[0;32m    291\u001b[0m          do_show\u001b[39m=\u001b[39m\u001b[39mFalse\u001b[39;00m)\n",
      "File \u001b[1;32mc:\\Users\\Teddy\\Documents\\UG Research\\DRUMS\\COVASIM_EQL_BINNS\\Notebooks\\..\\covasim\\covasim\\run.py:172\u001b[0m, in \u001b[0;36mMultiSim.run\u001b[1;34m(self, reduce, combine, **kwargs)\u001b[0m\n\u001b[0;32m    170\u001b[0m \u001b[39m# Run\u001b[39;00m\n\u001b[0;32m    171\u001b[0m kwargs \u001b[39m=\u001b[39m sc\u001b[39m.\u001b[39mmergedicts(\u001b[39mself\u001b[39m\u001b[39m.\u001b[39mrun_args, kwargs)\n\u001b[1;32m--> 172\u001b[0m \u001b[39mself\u001b[39m\u001b[39m.\u001b[39msims \u001b[39m=\u001b[39m multi_run(sims, \u001b[39m*\u001b[39m\u001b[39m*\u001b[39mkwargs)\n\u001b[0;32m    174\u001b[0m \u001b[39m# Reduce or combine\u001b[39;00m\n\u001b[0;32m    175\u001b[0m \u001b[39mif\u001b[39;00m reduce:\n",
      "File \u001b[1;32mc:\\Users\\Teddy\\Documents\\UG Research\\DRUMS\\COVASIM_EQL_BINNS\\Notebooks\\..\\covasim\\covasim\\run.py:1500\u001b[0m, in \u001b[0;36mmulti_run\u001b[1;34m(sim, n_runs, reseed, noise, noisepar, iterpars, combine, keep_people, run_args, sim_args, par_args, do_run, parallel, n_cpus, verbose, **kwargs)\u001b[0m\n\u001b[0;32m   1498\u001b[0m         this_iter\u001b[39m.\u001b[39mupdate(kwargs) \u001b[39m# Merge with the kwargs\u001b[39;00m\n\u001b[0;32m   1499\u001b[0m         this_iter[\u001b[39m'\u001b[39m\u001b[39msim\u001b[39m\u001b[39m'\u001b[39m] \u001b[39m=\u001b[39m this_iter[\u001b[39m'\u001b[39m\u001b[39msim\u001b[39m\u001b[39m'\u001b[39m]\u001b[39m.\u001b[39mcopy() \u001b[39m# Ensure we have a fresh sim; this happens implicitly on pickling with multiprocessing\u001b[39;00m\n\u001b[1;32m-> 1500\u001b[0m         sim \u001b[39m=\u001b[39m single_run(\u001b[39m*\u001b[39m\u001b[39m*\u001b[39mthis_iter) \u001b[39m# Run in series\u001b[39;00m\n\u001b[0;32m   1501\u001b[0m         sims\u001b[39m.\u001b[39mappend(sim)\n\u001b[0;32m   1503\u001b[0m \u001b[39mreturn\u001b[39;00m sims\n",
      "File \u001b[1;32mc:\\Users\\Teddy\\Documents\\UG Research\\DRUMS\\COVASIM_EQL_BINNS\\Notebooks\\..\\covasim\\covasim\\run.py:1397\u001b[0m, in \u001b[0;36msingle_run\u001b[1;34m(sim, ind, reseed, noise, noisepar, keep_people, run_args, sim_args, verbose, do_run, **kwargs)\u001b[0m\n\u001b[0;32m   1395\u001b[0m \u001b[39m# Run\u001b[39;00m\n\u001b[0;32m   1396\u001b[0m \u001b[39mif\u001b[39;00m do_run:\n\u001b[1;32m-> 1397\u001b[0m     sim\u001b[39m.\u001b[39mrun(\u001b[39m*\u001b[39m\u001b[39m*\u001b[39mrun_args)\n\u001b[0;32m   1399\u001b[0m \u001b[39m# Shrink the sim to save memory\u001b[39;00m\n\u001b[0;32m   1400\u001b[0m \u001b[39mif\u001b[39;00m \u001b[39mnot\u001b[39;00m keep_people:\n",
      "File \u001b[1;32mc:\\Users\\Teddy\\Documents\\UG Research\\DRUMS\\COVASIM_EQL_BINNS\\Notebooks\\..\\covasim\\covasim\\sim.py:753\u001b[0m, in \u001b[0;36mSim.run\u001b[1;34m(self, do_plot, until, restore_pars, reset_seed, verbose)\u001b[0m\n\u001b[0;32m    750\u001b[0m                 sc\u001b[39m.\u001b[39mprogressbar(\u001b[39mself\u001b[39m\u001b[39m.\u001b[39mt\u001b[39m+\u001b[39m\u001b[39m1\u001b[39m, \u001b[39mself\u001b[39m\u001b[39m.\u001b[39mnpts, label\u001b[39m=\u001b[39mstring, length\u001b[39m=\u001b[39m\u001b[39m20\u001b[39m, newline\u001b[39m=\u001b[39m\u001b[39mTrue\u001b[39;00m)\n\u001b[0;32m    752\u001b[0m     \u001b[39m# Do the heavy lifting -- actually run the model!\u001b[39;00m\n\u001b[1;32m--> 753\u001b[0m     \u001b[39mself\u001b[39;49m\u001b[39m.\u001b[39;49mstep()\n\u001b[0;32m    755\u001b[0m \u001b[39m# If simulation reached the end, finalize the results\u001b[39;00m\n\u001b[0;32m    756\u001b[0m \u001b[39mif\u001b[39;00m \u001b[39mself\u001b[39m\u001b[39m.\u001b[39mcomplete:\n",
      "File \u001b[1;32mc:\\Users\\Teddy\\Documents\\UG Research\\DRUMS\\COVASIM_EQL_BINNS\\Notebooks\\..\\covasim\\covasim\\sim.py:597\u001b[0m, in \u001b[0;36mSim.step\u001b[1;34m(self)\u001b[0m\n\u001b[0;32m    595\u001b[0m \u001b[39m# Apply interventions\u001b[39;00m\n\u001b[0;32m    596\u001b[0m \u001b[39mfor\u001b[39;00m i,intervention \u001b[39min\u001b[39;00m \u001b[39menumerate\u001b[39m(\u001b[39mself\u001b[39m[\u001b[39m'\u001b[39m\u001b[39minterventions\u001b[39m\u001b[39m'\u001b[39m]):\n\u001b[1;32m--> 597\u001b[0m     intervention(\u001b[39mself\u001b[39;49m) \u001b[39m# If it's a function, call it directly\u001b[39;00m\n\u001b[0;32m    599\u001b[0m people\u001b[39m.\u001b[39mupdate_states_post() \u001b[39m# Check for state changes after interventions\u001b[39;00m\n\u001b[0;32m    601\u001b[0m \u001b[39m# Compute viral loads\u001b[39;00m\n",
      "File \u001b[1;32mc:\\Users\\Teddy\\Documents\\UG Research\\DRUMS\\COVASIM_EQL_BINNS\\Notebooks\\..\\covasim\\covasim\\interventions.py:274\u001b[0m, in \u001b[0;36mIntervention.__call__\u001b[1;34m(self, *args, **kwargs)\u001b[0m\n\u001b[0;32m    272\u001b[0m     errormsg \u001b[39m=\u001b[39m \u001b[39mf\u001b[39m\u001b[39m'\u001b[39m\u001b[39mIntervention (label=\u001b[39m\u001b[39m{\u001b[39;00m\u001b[39mself\u001b[39m\u001b[39m.\u001b[39mlabel\u001b[39m}\u001b[39;00m\u001b[39m, \u001b[39m\u001b[39m{\u001b[39;00m\u001b[39mtype\u001b[39m(\u001b[39mself\u001b[39m)\u001b[39m}\u001b[39;00m\u001b[39m) has not been initialized\u001b[39m\u001b[39m'\u001b[39m\n\u001b[0;32m    273\u001b[0m     \u001b[39mraise\u001b[39;00m \u001b[39mRuntimeError\u001b[39;00m(errormsg)\n\u001b[1;32m--> 274\u001b[0m \u001b[39mreturn\u001b[39;00m \u001b[39mself\u001b[39m\u001b[39m.\u001b[39mapply(\u001b[39m*\u001b[39margs, \u001b[39m*\u001b[39m\u001b[39m*\u001b[39mkwargs)\n",
      "File \u001b[1;32mc:\\Users\\Teddy\\Documents\\UG Research\\DRUMS\\COVASIM_EQL_BINNS\\Notebooks\\..\\covasim\\covasim\\interventions.py:959\u001b[0m, in \u001b[0;36mtest_prob.apply\u001b[1;34m(self, sim)\u001b[0m\n\u001b[0;32m    956\u001b[0m         ili_inds \u001b[39m=\u001b[39m np\u001b[39m.\u001b[39msetdiff1d(ili_inds, symp_inds)\n\u001b[0;32m    958\u001b[0m \u001b[39m# Define asymptomatics: those who neither have COVID symptoms nor ILI symptoms\u001b[39;00m\n\u001b[1;32m--> 959\u001b[0m asymp_inds \u001b[39m=\u001b[39m np\u001b[39m.\u001b[39;49msetdiff1d(np\u001b[39m.\u001b[39;49msetdiff1d(np\u001b[39m.\u001b[39;49marange(pop_size), symp_inds), ili_inds)\n\u001b[0;32m    961\u001b[0m \u001b[39m# Handle quarantine and other testing criteria\u001b[39;00m\n\u001b[0;32m    962\u001b[0m quar_test_inds \u001b[39m=\u001b[39m get_quar_inds(\u001b[39mself\u001b[39m\u001b[39m.\u001b[39mquar_policy, sim)\n",
      "File \u001b[1;32m<__array_function__ internals>:180\u001b[0m, in \u001b[0;36msetdiff1d\u001b[1;34m(*args, **kwargs)\u001b[0m\n",
      "\u001b[1;31mKeyboardInterrupt\u001b[0m: "
     ]
    }
   ],
   "source": [
    "# drums_data_generator(model_params)\n",
    "drums_data_generator_multi(model_params, n_runs)"
   ]
  },
  {
   "cell_type": "code",
   "execution_count": 13,
   "metadata": {},
   "outputs": [],
   "source": [
    "path = '../Data/covasim_data/drums_data/'\n",
    "retrain = False\n",
    "case_name = get_case_name(population, test_prob, trace_ub, keep_d, dynamic=dynamic, chi_type=chi_type)\n",
    "\n",
    "if maskb:\n",
    "    case_name = case_name + '_masking'\n",
    "\n",
    "if multiple:\n",
    "    case_name = case_name + '_' + str(n_runs)\n",
    "    params = DF.load_covasim_data(path, population, test_prob, trace_ub, keep_d, case_name, plot=True)\n",
    "else:\n",
    "    params = DF.load_covasim_data(path, population, test_prob, trace_ub, keep_d, case_name, plot=True)\n",
    "    \n",
    "# Example: \n",
    "# If the data generated has 50,000 agents, test_prob of 0.1, trace_ub of 0.3, is dynamic, includes diagnosed, chi type is piecewise, \n",
    "# includes adaptive masking, and we ran 200 simulations, \n",
    "# then the case_name variable would be equal to '50000_dynamic_piecewise_0.1_0.3_masking_200'"
   ]
  },
  {
   "cell_type": "code",
   "execution_count": 14,
   "metadata": {},
   "outputs": [],
   "source": [
    "if multiple:\n",
    "    data = np.mean(params['data'], axis=0)\n",
    "    data = (data / params['population'])\n",
    "else:\n",
    "    data = params['data']\n",
    "    data = (data / params['population']).to_numpy()\n",
    "\n",
    "params.pop('data')\n",
    "N = len(data)\n",
    "t = np.arange(N)[:,None]"
   ]
  },
  {
   "cell_type": "code",
   "execution_count": 15,
   "metadata": {},
   "outputs": [],
   "source": [
    "# rescale data values to represent number of people in state X rather than ratios\n",
    "data *= population\n",
    "\n",
    "plot=True\n",
    "if plot:\n",
    "    n = data.shape[1]\n",
    "    col_names = list('STEAYDQRF') if keep_d else list('STEAYQRF')\n",
    "    # plot compartments\n",
    "    fig = plt.figure(figsize=(15, 15))\n",
    "    \n",
    "    if multiple:\n",
    "        for i in range(1, n + 1):\n",
    "            ax = fig.add_subplot(int(np.ceil(n / 3)), 3, i)\n",
    "            ax.plot(t, data[:, i - 1], '.k', label='Covasim Data')\n",
    "            ax.set_title(col_names[i - 1])\n",
    "            ax.legend(fontsize=8)\n",
    "            fig.subplots_adjust(left=0, right=1, bottom=0, top=1)\n",
    "            plt.tight_layout(pad=2)\n",
    "            plt.savefig(os.path.join(path, case_name + '_avg' + '.png') )\n",
    "            # plt.show()\n",
    "    else:\n",
    "        for i in range(1, n + 1):\n",
    "            ax = fig.add_subplot(int(np.ceil(n / 3)), 3, i)\n",
    "            ax.plot(t, data[:, i - 1], '.k', label='Covasim Data')\n",
    "            ax.set_title(col_names[i - 1])\n",
    "            ax.legend(fontsize=8)\n",
    "            fig.subplots_adjust(left=0, right=1, bottom=0, top=1)\n",
    "            plt.tight_layout(pad=2)\n",
    "            plt.savefig(os.path.join(path, case_name + '_single' + '.png') )\n",
    "            # plt.show()"
   ]
  }
 ],
 "metadata": {
  "kernelspec": {
   "display_name": "reu_env",
   "language": "python",
   "name": "python3"
  },
  "language_info": {
   "codemirror_mode": {
    "name": "ipython",
    "version": 3
   },
   "file_extension": ".py",
   "mimetype": "text/x-python",
   "name": "python",
   "nbconvert_exporter": "python",
   "pygments_lexer": "ipython3",
   "version": "3.10.11"
  },
  "orig_nbformat": 4
 },
 "nbformat": 4,
 "nbformat_minor": 2
}
