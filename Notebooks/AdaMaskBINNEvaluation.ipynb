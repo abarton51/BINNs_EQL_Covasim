{
 "cells": [
  {
   "cell_type": "code",
   "execution_count": 13,
   "metadata": {},
   "outputs": [],
   "source": [
    "import sys\n",
    "sys.path.append('../')\n",
    "\n",
    "from Modules.Utils.Imports import *\n",
    "from Modules.Models.BuildBINNs import AdaMaskBINNCovasim\n",
    "from Modules.Utils.ModelWrapper import ModelWrapper\n",
    "\n",
    "import Modules.Utils.PDESolver as PDESolver\n",
    "import Modules.Loaders.DataFormatter as DF\n",
    "from utils import get_case_name, plot_loss_convergence"
   ]
  },
  {
   "cell_type": "code",
   "execution_count": 14,
   "metadata": {},
   "outputs": [
    {
     "name": "stdout",
     "output_type": "stream",
     "text": [
      "Device set to cpu\n"
     ]
    }
   ],
   "source": [
    "device = torch.device(GetLowestGPU(pick_from=[0,1,2,3]))\n",
    "# helper functions\n",
    "def to_torch(x):\n",
    "    return torch.from_numpy(x).float().to(device)\n",
    "def to_numpy(x):\n",
    "    return x.detach().cpu().numpy()"
   ]
  },
  {
   "cell_type": "code",
   "execution_count": 15,
   "metadata": {},
   "outputs": [],
   "source": [
    "# instantiate BINN model parameters and path\n",
    "path = '../Data/covasim_data/drums_data/'\n",
    "# path = '../Data/covasim_data/xin_data/'\n",
    "\n",
    "population = int(200e3)\n",
    "test_prob = 0.1\n",
    "trace_prob = 0.3\n",
    "keep_d = True\n",
    "retrain = False\n",
    "dynamic = True\n",
    "masking = 3\n",
    "multiple = True\n",
    "parallelb = True\n",
    "n_runs = 1024\n",
    "chi_type = 'piecewise'\n",
    "\n",
    "case_name = get_case_name(population, test_prob, trace_prob, keep_d, dynamic=dynamic, chi_type=chi_type)"
   ]
  },
  {
   "cell_type": "code",
   "execution_count": 16,
   "metadata": {},
   "outputs": [],
   "source": [
    "if not masking==0:\n",
    "    if masking==1:\n",
    "        case_name = case_name + '_maskingthresh'\n",
    "    elif masking==2:\n",
    "        case_name = case_name + '_maskinguni'\n",
    "    elif masking==3:\n",
    "        case_name = case_name + '_maskingnorm'\n",
    "\n",
    "if multiple:\n",
    "    params = DF.load_covasim_data(path, population, test_prob, trace_prob, keep_d, case_name + '_' + str(n_runs), plot=False)\n",
    "else:\n",
    "    params = DF.load_covasim_data(path, population, test_prob, trace_prob, keep_d, case_name, plot=False)"
   ]
  },
  {
   "cell_type": "code",
   "execution_count": 17,
   "metadata": {},
   "outputs": [],
   "source": [
    "# split into train/val and convert to torch\n",
    "# multiple==True and parallelb==False means that data is a list and not normalized\n",
    "if multiple and not parallelb:\n",
    "    data = np.mean(params['data'], axis=0)\n",
    "    data = (data / params['population'])\n",
    "    avg_masking = np.mean(params['avg_masking'], axis=0)\n",
    "    avg_masking = (avg_masking / params['avg_masking'])\n",
    "# multiple==True and parallelb==True means that the data is a 2d array and normalized\n",
    "elif multiple and parallelb:\n",
    "    data = params['data'] # parallel simulations store normalized data\n",
    "    avg_masking = params['avg_masking']\n",
    "# otherwise, the data is from a single simulation and is not normalized\n",
    "else:\n",
    "    data = params['data']\n",
    "    data = (data / params['population']).to_numpy()\n",
    "    avg_masking = params['avg_masking']\n",
    "    avg_masking = (avg_masking / params['avg_masking'])\n",
    "    \n",
    "params.pop('data')\n",
    "\n",
    "N = len(data)\n",
    "t_max_real = N - 1\n",
    "t = np.arange(N)[:,None]\n",
    "\n",
    "tracing_array = params['tracing_array']"
   ]
  },
  {
   "cell_type": "code",
   "execution_count": 18,
   "metadata": {},
   "outputs": [],
   "source": [
    "mydir = '../models/covasim/mask/2023-07-13_23-46-11' # norm masking, 200e3 pop, dynamic piecewise, keepd, 1024 avg., 200,000 epochs, lr=1e-4"
   ]
  },
  {
   "cell_type": "code",
   "execution_count": 19,
   "metadata": {},
   "outputs": [],
   "source": [
    "# instantiate BINN model\n",
    "binn = AdaMaskBINNCovasim(params, t_max_real, tracing_array, keep_d=keep_d).to(device)\n",
    "\n",
    "parameters = binn.parameters()\n",
    "model = ModelWrapper(binn, None, None, save_name=os.path.join(mydir, case_name))"
   ]
  },
  {
   "cell_type": "code",
   "execution_count": 20,
   "metadata": {},
   "outputs": [],
   "source": [
    "# load model weights. if retrain==True then load the retrained model\n",
    "if retrain:\n",
    "    model.save_name += '_retrain'\n",
    "model.save_name += '_best_val'\n",
    "model.load(model.save_name + '_model', device=device)\n",
    "\n",
    "# grab initial condition\n",
    "u0 = data[0, :].copy()"
   ]
  },
  {
   "cell_type": "code",
   "execution_count": 21,
   "metadata": {},
   "outputs": [],
   "source": [
    "# learned surface fitter\n",
    "def surface_fitter(t):\n",
    "    res = binn.surface_fitter(t)\n",
    "    return res\n",
    "\n",
    "# learned contact_rate function\n",
    "def contact_rate(u):\n",
    "    res = binn.eta_mask_func(to_torch(u)) # [:,[0,3,4]]\n",
    "    return to_numpy(res)\n",
    "\n",
    "# learned effective tracing rate function\n",
    "def beta(u):\n",
    "    res = binn.beta_func(to_torch(u))\n",
    "    return to_numpy(res)\n",
    "\n",
    "# learned diagnosis of quarantined rate function\n",
    "def tau(u):\n",
    "    res = binn.tau_func(to_torch(u))\n",
    "    return to_numpy(res)\n",
    "\n",
    "# do regression to figure out contact rate\n",
    "def contact_rate_regression(u):\n",
    "    s, a, y = u[:, 0][:, None], u[:, 1][:, None], u[:, 2][:, None]\n",
    "    features = [np.ones_like(a), s, s**2, a, y] #\n",
    "    features = np.concatenate(features, axis=1)\n",
    "    res = features @ regression_coefs_cr\n",
    "    # res *= 1.4\n",
    "    return res\n",
    "\n",
    "# do regression to figure out tracing rate\n",
    "def beta_regression(u):\n",
    "    a, b = u[:, 0][:, None], u[:, 1][:, None]\n",
    "    features = [np.ones_like(a), a, b] #\n",
    "    features = np.concatenate(features, axis=1)\n",
    "    res = features @ regression_coefs_qt\n",
    "    return res\n",
    "\n",
    "# do regression to figure out diagnoses rate (on quarantined folks)\n",
    "def tau_regression(u):\n",
    "    a, b = u[:, 0][:, None], u[:, 1][:, None]\n",
    "    features = [np.ones_like(a), a, b] #\n",
    "    features = np.concatenate(features, axis=1)\n",
    "    res = features @ regression_coefs_tau\n",
    "    return res"
   ]
  },
  {
   "cell_type": "code",
   "execution_count": 22,
   "metadata": {},
   "outputs": [],
   "source": [
    "cat_arr = np.concatenate((data[:,[0,3,4]], avg_masking[:,None]), axis=1)\n",
    "eta_values = contact_rate(cat_arr)"
   ]
  },
  {
   "cell_type": "code",
   "execution_count": 23,
   "metadata": {},
   "outputs": [],
   "source": [
    "# simulate PDE. First grab the parameter values from the loaded BINN model.\n",
    "params['yita_lb'] = model.model.yita_lb\n",
    "params['yita_ub'] = model.model.yita_ub\n",
    "params['beta_lb'] = model.model.beta_lb\n",
    "params['beta_ub'] = model.model.beta_ub\n",
    "params['tau_lb'] = model.model.tau_lb\n",
    "params['tau_ub'] = model.model.tau_ub"
   ]
  },
  {
   "cell_type": "code",
   "execution_count": 24,
   "metadata": {},
   "outputs": [
    {
     "ename": "IndexError",
     "evalue": "index 183 is out of bounds for axis 0 with size 183",
     "output_type": "error",
     "traceback": [
      "\u001b[1;31m---------------------------------------------------------------------------\u001b[0m",
      "\u001b[1;31mIndexError\u001b[0m                                Traceback (most recent call last)",
      "Cell \u001b[1;32mIn[24], line 4\u001b[0m\n\u001b[0;32m      2\u001b[0m \u001b[39mif\u001b[39;00m keep_d:\n\u001b[0;32m      3\u001b[0m     RHS \u001b[39m=\u001b[39m PDESolver\u001b[39m.\u001b[39mSTEAYDQRF_RHS_dynamic_masking\n\u001b[1;32m----> 4\u001b[0m     u_sim_NN \u001b[39m=\u001b[39m PDESolver\u001b[39m.\u001b[39;49mSTEAYDQRF_sim(RHS, u0, t, contact_rate, beta, tau, params, chi_type)\n\u001b[0;32m      5\u001b[0m     u_sim_NN \u001b[39m*\u001b[39m\u001b[39m=\u001b[39m population\n",
      "File \u001b[1;32mc:\\Users\\Teddy\\Documents\\UG Research\\DRUMS\\COVASIM_EQL_BINNS\\Notebooks\\..\\Modules\\Utils\\PDESolver.py:415\u001b[0m, in \u001b[0;36mSTEAYDQRF_sim\u001b[1;34m(RHS, IC, t, contact_rate, quarantine_test, tau, params, chi_type)\u001b[0m\n\u001b[0;32m    413\u001b[0m \u001b[39mif\u001b[39;00m np\u001b[39m.\u001b[39many(i \u001b[39m==\u001b[39m t_sim_write_ind):\n\u001b[0;32m    414\u001b[0m     write_count \u001b[39m+\u001b[39m\u001b[39m=\u001b[39m \u001b[39m1\u001b[39m\n\u001b[1;32m--> 415\u001b[0m     y[write_count, :] \u001b[39m=\u001b[39m r\u001b[39m.\u001b[39;49mintegrate(t_sim[i])\n\u001b[0;32m    416\u001b[0m \u001b[39melse\u001b[39;00m:\n\u001b[0;32m    417\u001b[0m     \u001b[39m# otherwise just integrate\u001b[39;00m\n\u001b[0;32m    418\u001b[0m     r\u001b[39m.\u001b[39mintegrate(t_sim[i])  \u001b[39m# get one more value, add it to the array\u001b[39;00m\n",
      "File \u001b[1;32mc:\\Users\\Teddy\\anaconda3\\envs\\reu_env\\lib\\site-packages\\scipy\\integrate\\_ode.py:431\u001b[0m, in \u001b[0;36mode.integrate\u001b[1;34m(self, t, step, relax)\u001b[0m\n\u001b[0;32m    428\u001b[0m     mth \u001b[39m=\u001b[39m \u001b[39mself\u001b[39m\u001b[39m.\u001b[39m_integrator\u001b[39m.\u001b[39mrun\n\u001b[0;32m    430\u001b[0m \u001b[39mtry\u001b[39;00m:\n\u001b[1;32m--> 431\u001b[0m     \u001b[39mself\u001b[39m\u001b[39m.\u001b[39m_y, \u001b[39mself\u001b[39m\u001b[39m.\u001b[39mt \u001b[39m=\u001b[39m mth(\u001b[39mself\u001b[39;49m\u001b[39m.\u001b[39;49mf, \u001b[39mself\u001b[39;49m\u001b[39m.\u001b[39;49mjac \u001b[39mor\u001b[39;49;00m (\u001b[39mlambda\u001b[39;49;00m: \u001b[39mNone\u001b[39;49;00m),\n\u001b[0;32m    432\u001b[0m                           \u001b[39mself\u001b[39;49m\u001b[39m.\u001b[39;49m_y, \u001b[39mself\u001b[39;49m\u001b[39m.\u001b[39;49mt, t,\n\u001b[0;32m    433\u001b[0m                           \u001b[39mself\u001b[39;49m\u001b[39m.\u001b[39;49mf_params, \u001b[39mself\u001b[39;49m\u001b[39m.\u001b[39;49mjac_params)\n\u001b[0;32m    434\u001b[0m \u001b[39mexcept\u001b[39;00m \u001b[39mSystemError\u001b[39;00m \u001b[39mas\u001b[39;00m e:\n\u001b[0;32m    435\u001b[0m     \u001b[39m# f2py issue with tuple returns, see ticket 1187.\u001b[39;00m\n\u001b[0;32m    436\u001b[0m     \u001b[39mraise\u001b[39;00m \u001b[39mValueError\u001b[39;00m(\n\u001b[0;32m    437\u001b[0m         \u001b[39m'\u001b[39m\u001b[39mFunction to integrate must not return a tuple.\u001b[39m\u001b[39m'\u001b[39m\n\u001b[0;32m    438\u001b[0m     ) \u001b[39mfrom\u001b[39;00m \u001b[39me\u001b[39;00m\n",
      "File \u001b[1;32mc:\\Users\\Teddy\\anaconda3\\envs\\reu_env\\lib\\site-packages\\scipy\\integrate\\_ode.py:1174\u001b[0m, in \u001b[0;36mdopri5.run\u001b[1;34m(self, f, jac, y0, t0, t1, f_params, jac_params)\u001b[0m\n\u001b[0;32m   1173\u001b[0m \u001b[39mdef\u001b[39;00m \u001b[39mrun\u001b[39m(\u001b[39mself\u001b[39m, f, jac, y0, t0, t1, f_params, jac_params):\n\u001b[1;32m-> 1174\u001b[0m     x, y, iwork, istate \u001b[39m=\u001b[39m \u001b[39mself\u001b[39;49m\u001b[39m.\u001b[39;49mrunner(\u001b[39m*\u001b[39;49m((f, t0, y0, t1) \u001b[39m+\u001b[39;49m\n\u001b[0;32m   1175\u001b[0m                                       \u001b[39mtuple\u001b[39;49m(\u001b[39mself\u001b[39;49m\u001b[39m.\u001b[39;49mcall_args) \u001b[39m+\u001b[39;49m (f_params,)))\n\u001b[0;32m   1176\u001b[0m     \u001b[39mself\u001b[39m\u001b[39m.\u001b[39mistate \u001b[39m=\u001b[39m istate\n\u001b[0;32m   1177\u001b[0m     \u001b[39mif\u001b[39;00m istate \u001b[39m<\u001b[39m \u001b[39m0\u001b[39m:\n",
      "File \u001b[1;32mc:\\Users\\Teddy\\Documents\\UG Research\\DRUMS\\COVASIM_EQL_BINNS\\Notebooks\\..\\Modules\\Utils\\PDESolver.py:400\u001b[0m, in \u001b[0;36mSTEAYDQRF_sim.<locals>.RHS_ty\u001b[1;34m(t, y)\u001b[0m\n\u001b[0;32m    399\u001b[0m \u001b[39mdef\u001b[39;00m \u001b[39mRHS_ty\u001b[39m(t, y):\n\u001b[1;32m--> 400\u001b[0m     \u001b[39mreturn\u001b[39;00m RHS(t, y, contact_rate, quarantine_test, tau, params, t_max, chi_type)\n",
      "File \u001b[1;32mc:\\Users\\Teddy\\Documents\\UG Research\\DRUMS\\COVASIM_EQL_BINNS\\Notebooks\\..\\Modules\\Utils\\PDESolver.py:326\u001b[0m, in \u001b[0;36mSTEAYDQRF_RHS_dynamic_masking\u001b[1;34m(t, y, contact_rate, quarantine_test, tau_func, params, t_max, chi_type)\u001b[0m\n\u001b[0;32m    324\u001b[0m \u001b[39m# get contact rates from learned MLP\u001b[39;00m\n\u001b[0;32m    325\u001b[0m array \u001b[39m=\u001b[39m y[\u001b[39mNone\u001b[39;00m, :][:, [\u001b[39m0\u001b[39m, \u001b[39m3\u001b[39m, \u001b[39m4\u001b[39m]]\u001b[39m.\u001b[39mreshape(\u001b[39m1\u001b[39m,\u001b[39m-\u001b[39m\u001b[39m1\u001b[39m)\n\u001b[1;32m--> 326\u001b[0m array \u001b[39m=\u001b[39m np\u001b[39m.\u001b[39mappend(array,avg_masking[\u001b[39mint\u001b[39;49m(t \u001b[39m*\u001b[39;49m t_max)])\n\u001b[0;32m    327\u001b[0m cr \u001b[39m=\u001b[39m contact_rate(array)\u001b[39m.\u001b[39mreshape(\u001b[39m-\u001b[39m\u001b[39m1\u001b[39m)\n\u001b[0;32m    328\u001b[0m yita \u001b[39m=\u001b[39m params[\u001b[39m'\u001b[39m\u001b[39myita_lb\u001b[39m\u001b[39m'\u001b[39m] \u001b[39m+\u001b[39m (params[\u001b[39m'\u001b[39m\u001b[39myita_ub\u001b[39m\u001b[39m'\u001b[39m] \u001b[39m-\u001b[39m params[\u001b[39m'\u001b[39m\u001b[39myita_lb\u001b[39m\u001b[39m'\u001b[39m]) \u001b[39m*\u001b[39m cr[\u001b[39m0\u001b[39m]\n",
      "\u001b[1;31mIndexError\u001b[0m: index 183 is out of bounds for axis 0 with size 183"
     ]
    }
   ],
   "source": [
    "# if D is to be included in the model, otherwise use the other solver.\n",
    "if keep_d:\n",
    "    RHS = PDESolver.STEAYDQRF_RHS_dynamic_masking\n",
    "    u_sim_NN = PDESolver.STEAYDQRF_sim(RHS, u0, t, contact_rate, beta, tau, params, chi_type)\n",
    "    u_sim_NN *= population"
   ]
  },
  {
   "cell_type": "code",
   "execution_count": null,
   "metadata": {},
   "outputs": [],
   "source": [
    "# rescale data values to represent number of people in state X rather than ratios\n",
    "data *= population\n",
    "\n",
    "plot=True\n",
    "if plot:\n",
    "    # data = params['data']\n",
    "    n = data.shape[1]\n",
    "    col_names = list('STEAYDQRF') if keep_d else list('STEAYQRF')\n",
    "    # t = np.arange(1, data.shape[0] + 1)\n",
    "    # plot compartments\n",
    "    fig = plt.figure(figsize=(15, 15))\n",
    "    for i in range(1, n + 1):\n",
    "        ax = fig.add_subplot(int(np.ceil(n / 3)), 3, i)\n",
    "        ax.plot(t, data[:, i - 1], '.k', label='Covasim Data')\n",
    "        ax.plot(t, u_sim_NN[:, i - 1], '-*r', label='ODE-NN')\n",
    "        ax.set_title(col_names[i - 1])\n",
    "        ax.legend(fontsize=8)\n",
    "        fig.subplots_adjust(left=0, right=1, bottom=0, top=1)\n",
    "        plt.tight_layout(pad=2)\n",
    "        plt.savefig(os.path.join(model.save_folder, case_name + '.png') )\n",
    "        # plt.show()"
   ]
  },
  {
   "cell_type": "code",
   "execution_count": null,
   "metadata": {},
   "outputs": [],
   "source": []
  }
 ],
 "metadata": {
  "kernelspec": {
   "display_name": "Python 3",
   "language": "python",
   "name": "python3"
  },
  "language_info": {
   "codemirror_mode": {
    "name": "ipython",
    "version": 3
   },
   "file_extension": ".py",
   "mimetype": "text/x-python",
   "name": "python",
   "nbconvert_exporter": "python",
   "pygments_lexer": "ipython3",
   "version": "3.10.11"
  }
 },
 "nbformat": 4,
 "nbformat_minor": 4
}
