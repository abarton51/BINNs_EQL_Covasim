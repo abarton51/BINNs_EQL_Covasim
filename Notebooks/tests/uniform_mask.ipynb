{
 "cells": [
  {
   "cell_type": "code",
   "execution_count": 1,
   "metadata": {},
   "outputs": [
    {
     "name": "stdout",
     "output_type": "stream",
     "text": [
      "Covasim 3.1.4 (2022-10-22) — © 2020-2022 by IDM\n"
     ]
    }
   ],
   "source": [
    "import covasim as cv\n",
    "import matplotlib as mpl\n",
    "import matplotlib.pyplot as plt\n",
    "import pylab as pl\n",
    "import sciris as sc\n",
    "import numpy as np"
   ]
  },
  {
   "cell_type": "code",
   "execution_count": 2,
   "metadata": {},
   "outputs": [],
   "source": [
    "class uniform_masking(cv.Intervention):\n",
    "  def __init__(self,mask_eff=None,maskprob_ub=None,maskprob_lb=None,*args,**kwargs):\n",
    "    super().__init__(**kwargs)\n",
    "    self.mask_eff    = mask_eff\n",
    "    self.maskprob_ub = maskprob_ub\n",
    "    self.maskprob_lb = maskprob_lb\n",
    "    self.num_masking    = []\n",
    "    self.t              = []\n",
    "    return\n",
    "\n",
    "  def initialize(self,sim):\n",
    "    super().initialize() \n",
    "    self.pop = len(sim.people)\n",
    "    return\n",
    "  \n",
    "  def apply(self,sim):\n",
    "    ppl                = sim.people\n",
    "    ppl.rel_sus        = ppl.rel_sus\n",
    "    self.t.append(sim.t) \n",
    "    self.num_dead      = ppl.dead.sum()\n",
    "    self.num_diagnosed = (ppl.diagnosed & ppl.infectious).sum()\n",
    "    self.x             = self.num_dead + self.num_diagnosed\n",
    "    self.p             = np.exp(0.001 + 100*(self.x/self.pop)-0.001*sim.t)\n",
    "    self.p             = (self.p/(1+self.p))-0.5 \n",
    "    self.p             = np.clip(self.p,self.maskprob_lb,self.maskprob_ub)\n",
    "    self.masking       = np.random.binomial(1,p=self.p,size=self.pop)\n",
    "    self.num_masking.append(np.sum(self.masking))\n",
    "    ppl.rel_sus        = np.where(self.masking,ppl.rel_sus*self.mask_eff,ppl.rel_sus)\n",
    "\n",
    "  def plot(self):\n",
    "    \n",
    "    plt.plot(self.t,self.num_masking)\n",
    "    plt.xlabel('Day')\n",
    "    plt.ylabel('# of Agents Masking')\n",
    "    plt.title('Masking Over Time')\n",
    "    plt.show()\n",
    "    return"
   ]
  },
  {
   "cell_type": "code",
   "execution_count": null,
   "metadata": {},
   "outputs": [],
   "source": [
    "tp = cv.test_prob(symp_prob=0.1,asymp_prob=0.001,symp_quar_prob=0.3,asymp_quar_prob=0.3,quar_policy='daily')\n",
    "um = uniform_masking(mask_eff=0.6,maskprob_ub=0.75,maskprob_lb=0.00)"
   ]
  },
  {
   "cell_type": "code",
   "execution_count": null,
   "metadata": {},
   "outputs": [],
   "source": [
    "sim = cv.Sim(n_days=90,interventions=[tp,um])\n",
    "sim1 = cv.Sim(interventions=tp,label='no masking',n_days=90)\n",
    "msim = cv.MultiSim([sim,sim1])\n",
    "msim.run()\n",
    "num_mask = msim.sims[0].get_intervention(uniform_masking)\n",
    "num_mask.plot()\n",
    "msim.plot()"
   ]
  }
 ],
 "metadata": {
  "kernelspec": {
   "display_name": "Python 3.11.4 64-bit",
   "language": "python",
   "name": "python3"
  },
  "language_info": {
   "codemirror_mode": {
    "name": "ipython",
    "version": 3
   },
   "file_extension": ".py",
   "mimetype": "text/x-python",
   "name": "python",
   "nbconvert_exporter": "python",
   "pygments_lexer": "ipython3",
   "version": "3.11.4"
  },
  "orig_nbformat": 4,
  "vscode": {
   "interpreter": {
    "hash": "aee8b7b246df8f9039afb4144a1f6fd8d2ca17a180786b69acc140d282b71a49"
   }
  }
 },
 "nbformat": 4,
 "nbformat_minor": 2
}
