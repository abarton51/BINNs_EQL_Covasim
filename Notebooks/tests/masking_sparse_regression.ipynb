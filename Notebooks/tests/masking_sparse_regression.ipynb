{
 "cells": [
  {
   "cell_type": "code",
   "execution_count": 1,
   "metadata": {},
   "outputs": [
    {
     "name": "stderr",
     "output_type": "stream",
     "text": [
      "c:\\Users\\Teddy\\anaconda3\\envs\\reu_env\\lib\\site-packages\\tqdm\\auto.py:21: TqdmWarning: IProgress not found. Please update jupyter and ipywidgets. See https://ipywidgets.readthedocs.io/en/stable/user_install.html\n",
      "  from .autonotebook import tqdm as notebook_tqdm\n"
     ]
    }
   ],
   "source": [
    "import sys\n",
    "sys.path.append('../../')\n",
    "\n",
    "from scipy.signal import savgol_filter\n",
    "\n",
    "from sklearn.linear_model import LinearRegression\n",
    "from sklearn.preprocessing import PolynomialFeatures\n",
    "from sklearn.metrics import r2_score\n",
    "from sklearn.metrics import mean_squared_error\n",
    "from sklearn.model_selection import cross_validate\n",
    "from sklearn.model_selection import train_test_split\n",
    "\n",
    "from Modules.Utils.Imports import *\n",
    "from Modules.Utils.DRUMS_Lasso import *\n",
    "from Modules.Utils.GetLowestGPU import *\n",
    "import Modules.Loaders.DataFormatter as DF\n",
    "\n",
    "from Notebooks.utils import get_case_name"
   ]
  },
  {
   "cell_type": "code",
   "execution_count": 2,
   "metadata": {},
   "outputs": [
    {
     "name": "stdout",
     "output_type": "stream",
     "text": [
      "Device set to cpu\n"
     ]
    }
   ],
   "source": [
    "device = torch.device(GetLowestGPU(pick_from=[0,1,2,3]))\n",
    "# helper functions\n",
    "def to_torch(x):\n",
    "    return torch.from_numpy(x).float().to(device)\n",
    "def to_numpy(x):\n",
    "    return x.detach().cpu().numpy()"
   ]
  },
  {
   "cell_type": "code",
   "execution_count": 3,
   "metadata": {},
   "outputs": [],
   "source": [
    "# instantiate BINN model parameters and path\n",
    "path = '../../Data/covasim_data/drums_data/'\n",
    "\n",
    "population = int(500e3)\n",
    "test_prob = 0.1\n",
    "trace_prob = 0.3\n",
    "keep_d = True\n",
    "retrain = False\n",
    "dynamic = True\n",
    "masking = 3\n",
    "multiple = True\n",
    "parallelb = True\n",
    "n_runs = 2048\n",
    "chi_type = 'piecewise'\n",
    "\n",
    "case_name = get_case_name(population, test_prob, trace_prob, keep_d, dynamic=dynamic, chi_type=chi_type)"
   ]
  },
  {
   "cell_type": "code",
   "execution_count": 4,
   "metadata": {},
   "outputs": [],
   "source": [
    "if not masking==0:\n",
    "    if masking==1:\n",
    "        case_name = case_name + '_maskingthresh'\n",
    "    elif masking==2:\n",
    "        case_name = case_name + '_maskinguni'\n",
    "    elif masking==3:\n",
    "        case_name = case_name + '_maskingnorm'\n",
    "\n",
    "if multiple:\n",
    "    params = DF.load_covasim_data(path, population, test_prob, trace_prob, keep_d, case_name + '_' + str(n_runs), plot=False)\n",
    "else:\n",
    "    params = DF.load_covasim_data(path, population, test_prob, trace_prob, keep_d, case_name, plot=False)"
   ]
  },
  {
   "cell_type": "code",
   "execution_count": 5,
   "metadata": {},
   "outputs": [],
   "source": [
    "# multiple==True and parallelb==False means that data is a list and not normalized\n",
    "if multiple and not parallelb:\n",
    "    data = np.mean(params['data'], axis=0)\n",
    "    data = (data / params['population'])\n",
    "    avg_masking = np.mean(params['avg_masking'], axis=0)\n",
    "    avg_masking = (avg_masking / params['avg_masking'])\n",
    "# multiple==True and parallelb==True means that the data is a 2d array and normalized\n",
    "elif multiple and parallelb:\n",
    "    data = params['data'] # parallel simulations store normalized data\n",
    "    avg_masking = params['avg_masking']\n",
    "# otherwise, the data is from a single simulation and is not normalized\n",
    "else:\n",
    "    data = params['data']\n",
    "    data = (data / params['population']).to_numpy()\n",
    "    avg_masking = params['avg_masking']\n",
    "    avg_masking = (avg_masking / params['avg_masking'])\n",
    "    \n",
    "params.pop('data')\n",
    "\n",
    "N = len(data)\n",
    "t_max = N - 1\n",
    "t = np.arange(N)[:,None]\n",
    "\n",
    "tracing_array = params['tracing_array']"
   ]
  },
  {
   "cell_type": "code",
   "execution_count": 6,
   "metadata": {},
   "outputs": [],
   "source": [
    "#plt.plot(t, avg_masking)"
   ]
  },
  {
   "cell_type": "code",
   "execution_count": 7,
   "metadata": {},
   "outputs": [],
   "source": [
    "x_train, x_test, y_train, y_test = train_test_split(t, avg_masking)\n",
    "\n",
    "degree = 12\n",
    "training_error = []\n",
    "cross_validation_error = []\n",
    "\n",
    "best_error = int(1e6)\n",
    "\n",
    "for d in range(1,degree):\n",
    "    x_poly_train=PolynomialFeatures(degree=d).fit_transform(x_train) # generate polynomial features up to degree d\n",
    "    x_poly_test=PolynomialFeatures(degree=d).fit_transform(x_test)\n",
    "    \n",
    "    lr=LinearRegression(fit_intercept=False) # instantiate the linear regression object/model\n",
    "    model=lr.fit(x_poly_train,y_train) # fit the model\n",
    "    \n",
    "    y_train_pred=model.predict(x_poly_train) # save the predicted values of the model for given inputs x_poly_train\n",
    "    \n",
    "    mse_train=mean_squared_error(y_train,y_train_pred)\n",
    "    cve=cross_validate(lr, x_poly_train, y_train, scoring='neg_mean_squared_error', cv=10, return_train_score=True)\n",
    "    \n",
    "    training_error.append(mse_train) # save MSE from training\n",
    "    cross_validation_error.append(np.mean(np.absolute(cve['test_score']))) # save the CV error\n",
    "    \n",
    "    if cross_validation_error[d - 1] < best_error:\n",
    "        best_degree = d\n",
    "        best_model = model\n",
    "        best_error = cross_validation_error[d - 1]\n",
    "    \n",
    "fig,ax=plt.subplots(figsize=(6,6))\n",
    "ax.plot(range(1,degree),cross_validation_error)\n",
    "ax.set_xlabel('Degree',fontsize=20)\n",
    "ax.set_ylabel('MSE',fontsize=20)\n",
    "ax.set_title('MSE VS Degree',fontsize=25)\n",
    "plt.close()"
   ]
  },
  {
   "cell_type": "code",
   "execution_count": 8,
   "metadata": {},
   "outputs": [],
   "source": [
    "t_poly=PolynomialFeatures(degree=best_degree).fit_transform(t)\n",
    "#plt.plot(t, best_model.predict(t_poly))"
   ]
  },
  {
   "cell_type": "code",
   "execution_count": 9,
   "metadata": {},
   "outputs": [],
   "source": [
    "window_size = 15\n",
    "degree = 3\n",
    "mt = to_torch(savgol_filter(avg_masking, window_size, degree, deriv=1, axis=0))\n",
    "\n",
    "#plt.plot(t, mt)"
   ]
  },
  {
   "cell_type": "code",
   "execution_count": 10,
   "metadata": {},
   "outputs": [],
   "source": [
    "comps = list('STEAYDQRF')\n",
    "X_dict = {key : value for key, value in zip(comps, data.T)}"
   ]
  },
  {
   "cell_type": "code",
   "execution_count": 41,
   "metadata": {},
   "outputs": [
    {
     "name": "stderr",
     "output_type": "stream",
     "text": [
      "c:\\Users\\Teddy\\anaconda3\\envs\\reu_env\\lib\\site-packages\\sklearn\\linear_model\\_coordinate_descent.py:620: ConvergenceWarning: Objective did not converge. You might want to increase the number of iterations. Duality gap: 1.2726168672860655e-05, tolerance: 1.3036572885806797e-08\n",
      "  model = cd_fast.enet_coordinate_descent_gram(\n",
      "c:\\Users\\Teddy\\anaconda3\\envs\\reu_env\\lib\\site-packages\\sklearn\\linear_model\\_coordinate_descent.py:620: ConvergenceWarning: Objective did not converge. You might want to increase the number of iterations. Duality gap: 2.9343798746710083e-08, tolerance: 1.3292083389568165e-08\n",
      "  model = cd_fast.enet_coordinate_descent_gram(\n",
      "c:\\Users\\Teddy\\anaconda3\\envs\\reu_env\\lib\\site-packages\\sklearn\\linear_model\\_coordinate_descent.py:620: ConvergenceWarning: Objective did not converge. You might want to increase the number of iterations. Duality gap: 3.7061153163768035e-06, tolerance: 1.818371050870683e-08\n",
      "  model = cd_fast.enet_coordinate_descent_gram(\n",
      "c:\\Users\\Teddy\\anaconda3\\envs\\reu_env\\lib\\site-packages\\sklearn\\linear_model\\_coordinate_descent.py:620: ConvergenceWarning: Objective did not converge. You might want to increase the number of iterations. Duality gap: 3.6142824535452224e-06, tolerance: 1.8183716234388877e-08\n",
      "  model = cd_fast.enet_coordinate_descent_gram(\n",
      "c:\\Users\\Teddy\\anaconda3\\envs\\reu_env\\lib\\site-packages\\sklearn\\linear_model\\_coordinate_descent.py:620: ConvergenceWarning: Objective did not converge. You might want to increase the number of iterations. Duality gap: 1.287288689036402e-05, tolerance: 1.3036572885806797e-08\n",
      "  model = cd_fast.enet_coordinate_descent_gram(\n",
      "c:\\Users\\Teddy\\anaconda3\\envs\\reu_env\\lib\\site-packages\\sklearn\\linear_model\\_coordinate_descent.py:620: ConvergenceWarning: Objective did not converge. You might want to increase the number of iterations. Duality gap: 2.9373597320962323e-06, tolerance: 1.818371050870683e-08\n",
      "  model = cd_fast.enet_coordinate_descent_gram(\n",
      "c:\\Users\\Teddy\\anaconda3\\envs\\reu_env\\lib\\site-packages\\sklearn\\linear_model\\_coordinate_descent.py:620: ConvergenceWarning: Objective did not converge. You might want to increase the number of iterations. Duality gap: 2.8469661531667405e-06, tolerance: 1.8183716234388877e-08\n",
      "  model = cd_fast.enet_coordinate_descent_gram(\n",
      "c:\\Users\\Teddy\\anaconda3\\envs\\reu_env\\lib\\site-packages\\sklearn\\linear_model\\_coordinate_descent.py:620: ConvergenceWarning: Objective did not converge. You might want to increase the number of iterations. Duality gap: 1.301741325532318e-05, tolerance: 1.3036572885806797e-08\n",
      "  model = cd_fast.enet_coordinate_descent_gram(\n",
      "c:\\Users\\Teddy\\anaconda3\\envs\\reu_env\\lib\\site-packages\\sklearn\\linear_model\\_coordinate_descent.py:620: ConvergenceWarning: Objective did not converge. You might want to increase the number of iterations. Duality gap: 2.2138025377747074e-06, tolerance: 1.818371050870683e-08\n",
      "  model = cd_fast.enet_coordinate_descent_gram(\n",
      "c:\\Users\\Teddy\\anaconda3\\envs\\reu_env\\lib\\site-packages\\sklearn\\linear_model\\_coordinate_descent.py:620: ConvergenceWarning: Objective did not converge. You might want to increase the number of iterations. Duality gap: 2.126428097830202e-06, tolerance: 1.8183716234388877e-08\n",
      "  model = cd_fast.enet_coordinate_descent_gram(\n",
      "c:\\Users\\Teddy\\anaconda3\\envs\\reu_env\\lib\\site-packages\\sklearn\\linear_model\\_coordinate_descent.py:620: ConvergenceWarning: Objective did not converge. You might want to increase the number of iterations. Duality gap: 1.3159837104863977e-05, tolerance: 1.3036572885806797e-08\n",
      "  model = cd_fast.enet_coordinate_descent_gram(\n",
      "c:\\Users\\Teddy\\anaconda3\\envs\\reu_env\\lib\\site-packages\\sklearn\\linear_model\\_coordinate_descent.py:620: ConvergenceWarning: Objective did not converge. You might want to increase the number of iterations. Duality gap: 1.5458722513988078e-06, tolerance: 1.818371050870683e-08\n",
      "  model = cd_fast.enet_coordinate_descent_gram(\n",
      "c:\\Users\\Teddy\\anaconda3\\envs\\reu_env\\lib\\site-packages\\sklearn\\linear_model\\_coordinate_descent.py:620: ConvergenceWarning: Objective did not converge. You might want to increase the number of iterations. Duality gap: 1.4636623651227882e-06, tolerance: 1.8183716234388877e-08\n",
      "  model = cd_fast.enet_coordinate_descent_gram(\n",
      "c:\\Users\\Teddy\\anaconda3\\envs\\reu_env\\lib\\site-packages\\sklearn\\linear_model\\_coordinate_descent.py:620: ConvergenceWarning: Objective did not converge. You might want to increase the number of iterations. Duality gap: 1.3300319788490645e-05, tolerance: 1.3036572885806797e-08\n",
      "  model = cd_fast.enet_coordinate_descent_gram(\n",
      "c:\\Users\\Teddy\\anaconda3\\envs\\reu_env\\lib\\site-packages\\sklearn\\linear_model\\_coordinate_descent.py:620: ConvergenceWarning: Objective did not converge. You might want to increase the number of iterations. Duality gap: 9.442268500499715e-07, tolerance: 1.818371050870683e-08\n",
      "  model = cd_fast.enet_coordinate_descent_gram(\n",
      "c:\\Users\\Teddy\\anaconda3\\envs\\reu_env\\lib\\site-packages\\sklearn\\linear_model\\_coordinate_descent.py:620: ConvergenceWarning: Objective did not converge. You might want to increase the number of iterations. Duality gap: 8.695910720504839e-07, tolerance: 1.8183716234388877e-08\n",
      "  model = cd_fast.enet_coordinate_descent_gram(\n",
      "c:\\Users\\Teddy\\anaconda3\\envs\\reu_env\\lib\\site-packages\\sklearn\\linear_model\\_coordinate_descent.py:620: ConvergenceWarning: Objective did not converge. You might want to increase the number of iterations. Duality gap: 1.3439266640690047e-05, tolerance: 1.3036572885806797e-08\n",
      "  model = cd_fast.enet_coordinate_descent_gram(\n",
      "c:\\Users\\Teddy\\anaconda3\\envs\\reu_env\\lib\\site-packages\\sklearn\\linear_model\\_coordinate_descent.py:620: ConvergenceWarning: Objective did not converge. You might want to increase the number of iterations. Duality gap: 4.209538634662805e-07, tolerance: 1.818371050870683e-08\n",
      "  model = cd_fast.enet_coordinate_descent_gram(\n",
      "c:\\Users\\Teddy\\anaconda3\\envs\\reu_env\\lib\\site-packages\\sklearn\\linear_model\\_coordinate_descent.py:620: ConvergenceWarning: Objective did not converge. You might want to increase the number of iterations. Duality gap: 3.5670278484223816e-07, tolerance: 1.8183716234388877e-08\n",
      "  model = cd_fast.enet_coordinate_descent_gram(\n",
      "c:\\Users\\Teddy\\anaconda3\\envs\\reu_env\\lib\\site-packages\\sklearn\\linear_model\\_coordinate_descent.py:620: ConvergenceWarning: Objective did not converge. You might want to increase the number of iterations. Duality gap: 1.3576021339904528e-05, tolerance: 1.3036572885806797e-08\n",
      "  model = cd_fast.enet_coordinate_descent_gram(\n",
      "c:\\Users\\Teddy\\anaconda3\\envs\\reu_env\\lib\\site-packages\\sklearn\\linear_model\\_coordinate_descent.py:620: ConvergenceWarning: Objective did not converge. You might want to increase the number of iterations. Duality gap: 1.371066170102169e-05, tolerance: 1.3036572885806797e-08\n",
      "  model = cd_fast.enet_coordinate_descent_gram(\n",
      "c:\\Users\\Teddy\\anaconda3\\envs\\reu_env\\lib\\site-packages\\sklearn\\linear_model\\_coordinate_descent.py:620: ConvergenceWarning: Objective did not converge. You might want to increase the number of iterations. Duality gap: 1.3843096990036478e-05, tolerance: 1.3036572885806797e-08\n",
      "  model = cd_fast.enet_coordinate_descent_gram(\n",
      "c:\\Users\\Teddy\\anaconda3\\envs\\reu_env\\lib\\site-packages\\sklearn\\linear_model\\_coordinate_descent.py:620: ConvergenceWarning: Objective did not converge. You might want to increase the number of iterations. Duality gap: 1.3973409604950154e-05, tolerance: 1.3036572885806797e-08\n",
      "  model = cd_fast.enet_coordinate_descent_gram(\n",
      "c:\\Users\\Teddy\\anaconda3\\envs\\reu_env\\lib\\site-packages\\sklearn\\linear_model\\_coordinate_descent.py:620: ConvergenceWarning: Objective did not converge. You might want to increase the number of iterations. Duality gap: 1.4101597798309399e-05, tolerance: 1.3036572885806797e-08\n",
      "  model = cd_fast.enet_coordinate_descent_gram(\n",
      "c:\\Users\\Teddy\\anaconda3\\envs\\reu_env\\lib\\site-packages\\sklearn\\linear_model\\_coordinate_descent.py:620: ConvergenceWarning: Objective did not converge. You might want to increase the number of iterations. Duality gap: 1.4227564566909144e-05, tolerance: 1.3036572885806797e-08\n",
      "  model = cd_fast.enet_coordinate_descent_gram(\n",
      "c:\\Users\\Teddy\\anaconda3\\envs\\reu_env\\lib\\site-packages\\sklearn\\linear_model\\_coordinate_descent.py:620: ConvergenceWarning: Objective did not converge. You might want to increase the number of iterations. Duality gap: 1.4351399310375105e-05, tolerance: 1.3036572885806797e-08\n",
      "  model = cd_fast.enet_coordinate_descent_gram(\n",
      "c:\\Users\\Teddy\\anaconda3\\envs\\reu_env\\lib\\site-packages\\sklearn\\linear_model\\_coordinate_descent.py:620: ConvergenceWarning: Objective did not converge. You might want to increase the number of iterations. Duality gap: 1.4473100665194044e-05, tolerance: 1.3036572885806797e-08\n",
      "  model = cd_fast.enet_coordinate_descent_gram(\n",
      "c:\\Users\\Teddy\\anaconda3\\envs\\reu_env\\lib\\site-packages\\sklearn\\linear_model\\_coordinate_descent.py:620: ConvergenceWarning: Objective did not converge. You might want to increase the number of iterations. Duality gap: 1.459266739937991e-05, tolerance: 1.3036572885806797e-08\n",
      "  model = cd_fast.enet_coordinate_descent_gram(\n",
      "c:\\Users\\Teddy\\anaconda3\\envs\\reu_env\\lib\\site-packages\\sklearn\\linear_model\\_coordinate_descent.py:620: ConvergenceWarning: Objective did not converge. You might want to increase the number of iterations. Duality gap: 1.4709993623029559e-05, tolerance: 1.3036572885806797e-08\n",
      "  model = cd_fast.enet_coordinate_descent_gram(\n",
      "c:\\Users\\Teddy\\anaconda3\\envs\\reu_env\\lib\\site-packages\\sklearn\\linear_model\\_coordinate_descent.py:620: ConvergenceWarning: Objective did not converge. You might want to increase the number of iterations. Duality gap: 9.757579720583314e-07, tolerance: 1.3036572885806797e-08\n",
      "  model = cd_fast.enet_coordinate_descent_gram(\n",
      "c:\\Users\\Teddy\\anaconda3\\envs\\reu_env\\lib\\site-packages\\sklearn\\linear_model\\_coordinate_descent.py:620: ConvergenceWarning: Objective did not converge. You might want to increase the number of iterations. Duality gap: 3.924411836829828e-07, tolerance: 1.3036572885806797e-08\n",
      "  model = cd_fast.enet_coordinate_descent_gram(\n",
      "c:\\Users\\Teddy\\anaconda3\\envs\\reu_env\\lib\\site-packages\\sklearn\\linear_model\\_coordinate_descent.py:620: ConvergenceWarning: Objective did not converge. You might want to increase the number of iterations. Duality gap: 1.382611494984539e-07, tolerance: 1.3036572885806797e-08\n",
      "  model = cd_fast.enet_coordinate_descent_gram(\n",
      "c:\\Users\\Teddy\\anaconda3\\envs\\reu_env\\lib\\site-packages\\sklearn\\linear_model\\_coordinate_descent.py:620: ConvergenceWarning: Objective did not converge. You might want to increase the number of iterations. Duality gap: 2.4620629070086134e-07, tolerance: 1.3036572885806797e-08\n",
      "  model = cd_fast.enet_coordinate_descent_gram(\n",
      "c:\\Users\\Teddy\\anaconda3\\envs\\reu_env\\lib\\site-packages\\sklearn\\linear_model\\_coordinate_descent.py:620: ConvergenceWarning: Objective did not converge. You might want to increase the number of iterations. Duality gap: 3.04560871495829e-07, tolerance: 1.3036572885806797e-08\n",
      "  model = cd_fast.enet_coordinate_descent_gram(\n",
      "c:\\Users\\Teddy\\anaconda3\\envs\\reu_env\\lib\\site-packages\\sklearn\\linear_model\\_coordinate_descent.py:620: ConvergenceWarning: Objective did not converge. You might want to increase the number of iterations. Duality gap: 3.365963898496941e-07, tolerance: 1.3036572885806797e-08\n",
      "  model = cd_fast.enet_coordinate_descent_gram(\n",
      "c:\\Users\\Teddy\\anaconda3\\envs\\reu_env\\lib\\site-packages\\sklearn\\linear_model\\_coordinate_descent.py:620: ConvergenceWarning: Objective did not converge. You might want to increase the number of iterations. Duality gap: 3.544754015783403e-07, tolerance: 1.3036572885806797e-08\n",
      "  model = cd_fast.enet_coordinate_descent_gram(\n",
      "c:\\Users\\Teddy\\anaconda3\\envs\\reu_env\\lib\\site-packages\\sklearn\\linear_model\\_coordinate_descent.py:620: ConvergenceWarning: Objective did not converge. You might want to increase the number of iterations. Duality gap: 3.645534383621334e-07, tolerance: 1.3036572885806797e-08\n",
      "  model = cd_fast.enet_coordinate_descent_gram(\n",
      "c:\\Users\\Teddy\\anaconda3\\envs\\reu_env\\lib\\site-packages\\sklearn\\linear_model\\_coordinate_descent.py:620: ConvergenceWarning: Objective did not converge. You might want to increase the number of iterations. Duality gap: 3.7032245862608315e-07, tolerance: 1.3036572885806797e-08\n",
      "  model = cd_fast.enet_coordinate_descent_gram(\n",
      "c:\\Users\\Teddy\\anaconda3\\envs\\reu_env\\lib\\site-packages\\sklearn\\linear_model\\_coordinate_descent.py:620: ConvergenceWarning: Objective did not converge. You might want to increase the number of iterations. Duality gap: 3.736448755107028e-07, tolerance: 1.3036572885806797e-08\n",
      "  model = cd_fast.enet_coordinate_descent_gram(\n",
      "c:\\Users\\Teddy\\anaconda3\\envs\\reu_env\\lib\\site-packages\\sklearn\\linear_model\\_coordinate_descent.py:620: ConvergenceWarning: Objective did not converge. You might want to increase the number of iterations. Duality gap: 3.754604363399432e-07, tolerance: 1.3036572885806797e-08\n",
      "  model = cd_fast.enet_coordinate_descent_gram(\n",
      "c:\\Users\\Teddy\\anaconda3\\envs\\reu_env\\lib\\site-packages\\sklearn\\linear_model\\_coordinate_descent.py:620: ConvergenceWarning: Objective did not converge. You might want to increase the number of iterations. Duality gap: 3.7648549811947763e-07, tolerance: 1.3036572885806797e-08\n",
      "  model = cd_fast.enet_coordinate_descent_gram(\n",
      "c:\\Users\\Teddy\\anaconda3\\envs\\reu_env\\lib\\site-packages\\sklearn\\linear_model\\_coordinate_descent.py:620: ConvergenceWarning: Objective did not converge. You might want to increase the number of iterations. Duality gap: 3.770223877484679e-07, tolerance: 1.3036572885806797e-08\n",
      "  model = cd_fast.enet_coordinate_descent_gram(\n",
      "c:\\Users\\Teddy\\anaconda3\\envs\\reu_env\\lib\\site-packages\\sklearn\\linear_model\\_coordinate_descent.py:620: ConvergenceWarning: Objective did not converge. You might want to increase the number of iterations. Duality gap: 3.7727974852179896e-07, tolerance: 1.3036572885806797e-08\n",
      "  model = cd_fast.enet_coordinate_descent_gram(\n",
      "c:\\Users\\Teddy\\anaconda3\\envs\\reu_env\\lib\\site-packages\\sklearn\\linear_model\\_coordinate_descent.py:620: ConvergenceWarning: Objective did not converge. You might want to increase the number of iterations. Duality gap: 3.772868339443119e-07, tolerance: 1.3036572885806797e-08\n",
      "  model = cd_fast.enet_coordinate_descent_gram(\n",
      "c:\\Users\\Teddy\\anaconda3\\envs\\reu_env\\lib\\site-packages\\sklearn\\linear_model\\_coordinate_descent.py:620: ConvergenceWarning: Objective did not converge. You might want to increase the number of iterations. Duality gap: 3.7714379315020445e-07, tolerance: 1.3036572885806797e-08\n",
      "  model = cd_fast.enet_coordinate_descent_gram(\n",
      "c:\\Users\\Teddy\\anaconda3\\envs\\reu_env\\lib\\site-packages\\sklearn\\linear_model\\_coordinate_descent.py:620: ConvergenceWarning: Objective did not converge. You might want to increase the number of iterations. Duality gap: 3.768874384656878e-07, tolerance: 1.3036572885806797e-08\n",
      "  model = cd_fast.enet_coordinate_descent_gram(\n",
      "c:\\Users\\Teddy\\anaconda3\\envs\\reu_env\\lib\\site-packages\\sklearn\\linear_model\\_coordinate_descent.py:620: ConvergenceWarning: Objective did not converge. You might want to increase the number of iterations. Duality gap: 3.764957981307657e-07, tolerance: 1.3036572885806797e-08\n",
      "  model = cd_fast.enet_coordinate_descent_gram(\n",
      "c:\\Users\\Teddy\\anaconda3\\envs\\reu_env\\lib\\site-packages\\sklearn\\linear_model\\_coordinate_descent.py:620: ConvergenceWarning: Objective did not converge. You might want to increase the number of iterations. Duality gap: 3.760690295606027e-07, tolerance: 1.3036572885806797e-08\n",
      "  model = cd_fast.enet_coordinate_descent_gram(\n",
      "c:\\Users\\Teddy\\anaconda3\\envs\\reu_env\\lib\\site-packages\\sklearn\\linear_model\\_coordinate_descent.py:620: ConvergenceWarning: Objective did not converge. You might want to increase the number of iterations. Duality gap: 3.755266852541075e-07, tolerance: 1.3036572885806797e-08\n",
      "  model = cd_fast.enet_coordinate_descent_gram(\n",
      "c:\\Users\\Teddy\\anaconda3\\envs\\reu_env\\lib\\site-packages\\sklearn\\linear_model\\_coordinate_descent.py:620: ConvergenceWarning: Objective did not converge. You might want to increase the number of iterations. Duality gap: 3.7496398477142214e-07, tolerance: 1.3036572885806797e-08\n",
      "  model = cd_fast.enet_coordinate_descent_gram(\n",
      "c:\\Users\\Teddy\\anaconda3\\envs\\reu_env\\lib\\site-packages\\sklearn\\linear_model\\_coordinate_descent.py:620: ConvergenceWarning: Objective did not converge. You might want to increase the number of iterations. Duality gap: 3.7429228387170704e-07, tolerance: 1.3036572885806797e-08\n",
      "  model = cd_fast.enet_coordinate_descent_gram(\n",
      "c:\\Users\\Teddy\\anaconda3\\envs\\reu_env\\lib\\site-packages\\sklearn\\linear_model\\_coordinate_descent.py:620: ConvergenceWarning: Objective did not converge. You might want to increase the number of iterations. Duality gap: 3.735590860628915e-07, tolerance: 1.3036572885806797e-08\n",
      "  model = cd_fast.enet_coordinate_descent_gram(\n",
      "c:\\Users\\Teddy\\anaconda3\\envs\\reu_env\\lib\\site-packages\\sklearn\\linear_model\\_coordinate_descent.py:620: ConvergenceWarning: Objective did not converge. You might want to increase the number of iterations. Duality gap: 3.727656918881651e-07, tolerance: 1.3036572885806797e-08\n",
      "  model = cd_fast.enet_coordinate_descent_gram(\n",
      "c:\\Users\\Teddy\\anaconda3\\envs\\reu_env\\lib\\site-packages\\sklearn\\linear_model\\_coordinate_descent.py:620: ConvergenceWarning: Objective did not converge. You might want to increase the number of iterations. Duality gap: 3.719129568099098e-07, tolerance: 1.3036572885806797e-08\n",
      "  model = cd_fast.enet_coordinate_descent_gram(\n",
      "c:\\Users\\Teddy\\anaconda3\\envs\\reu_env\\lib\\site-packages\\sklearn\\linear_model\\_coordinate_descent.py:620: ConvergenceWarning: Objective did not converge. You might want to increase the number of iterations. Duality gap: 3.710014631526517e-07, tolerance: 1.3036572885806797e-08\n",
      "  model = cd_fast.enet_coordinate_descent_gram(\n",
      "c:\\Users\\Teddy\\anaconda3\\envs\\reu_env\\lib\\site-packages\\sklearn\\linear_model\\_coordinate_descent.py:620: ConvergenceWarning: Objective did not converge. You might want to increase the number of iterations. Duality gap: 3.700316180915253e-07, tolerance: 1.3036572885806797e-08\n",
      "  model = cd_fast.enet_coordinate_descent_gram(\n",
      "c:\\Users\\Teddy\\anaconda3\\envs\\reu_env\\lib\\site-packages\\sklearn\\linear_model\\_coordinate_descent.py:620: ConvergenceWarning: Objective did not converge. You might want to increase the number of iterations. Duality gap: 3.6895194978661097e-07, tolerance: 1.3036572885806797e-08\n",
      "  model = cd_fast.enet_coordinate_descent_gram(\n",
      "c:\\Users\\Teddy\\anaconda3\\envs\\reu_env\\lib\\site-packages\\sklearn\\linear_model\\_coordinate_descent.py:620: ConvergenceWarning: Objective did not converge. You might want to increase the number of iterations. Duality gap: 3.678654221896723e-07, tolerance: 1.3036572885806797e-08\n",
      "  model = cd_fast.enet_coordinate_descent_gram(\n",
      "c:\\Users\\Teddy\\anaconda3\\envs\\reu_env\\lib\\site-packages\\sklearn\\linear_model\\_coordinate_descent.py:620: ConvergenceWarning: Objective did not converge. You might want to increase the number of iterations. Duality gap: 3.6666786680361184e-07, tolerance: 1.3036572885806797e-08\n",
      "  model = cd_fast.enet_coordinate_descent_gram(\n",
      "c:\\Users\\Teddy\\anaconda3\\envs\\reu_env\\lib\\site-packages\\sklearn\\linear_model\\_coordinate_descent.py:620: ConvergenceWarning: Objective did not converge. You might want to increase the number of iterations. Duality gap: 3.6541118471957465e-07, tolerance: 1.3036572885806797e-08\n",
      "  model = cd_fast.enet_coordinate_descent_gram(\n",
      "c:\\Users\\Teddy\\anaconda3\\envs\\reu_env\\lib\\site-packages\\sklearn\\linear_model\\_coordinate_descent.py:620: ConvergenceWarning: Objective did not converge. You might want to increase the number of iterations. Duality gap: 3.6415048378801327e-07, tolerance: 1.3036572885806797e-08\n",
      "  model = cd_fast.enet_coordinate_descent_gram(\n",
      "c:\\Users\\Teddy\\anaconda3\\envs\\reu_env\\lib\\site-packages\\sklearn\\linear_model\\_coordinate_descent.py:620: ConvergenceWarning: Objective did not converge. You might want to increase the number of iterations. Duality gap: 3.6277668976824e-07, tolerance: 1.3036572885806797e-08\n",
      "  model = cd_fast.enet_coordinate_descent_gram(\n",
      "c:\\Users\\Teddy\\anaconda3\\envs\\reu_env\\lib\\site-packages\\sklearn\\linear_model\\_coordinate_descent.py:620: ConvergenceWarning: Objective did not converge. You might want to increase the number of iterations. Duality gap: 3.6134407201468674e-07, tolerance: 1.3036572885806797e-08\n",
      "  model = cd_fast.enet_coordinate_descent_gram(\n",
      "c:\\Users\\Teddy\\anaconda3\\envs\\reu_env\\lib\\site-packages\\sklearn\\linear_model\\_coordinate_descent.py:620: ConvergenceWarning: Objective did not converge. You might want to increase the number of iterations. Duality gap: 3.598527114314547e-07, tolerance: 1.3036572885806797e-08\n",
      "  model = cd_fast.enet_coordinate_descent_gram(\n",
      "c:\\Users\\Teddy\\anaconda3\\envs\\reu_env\\lib\\site-packages\\sklearn\\linear_model\\_coordinate_descent.py:620: ConvergenceWarning: Objective did not converge. You might want to increase the number of iterations. Duality gap: 3.583026840098404e-07, tolerance: 1.3036572885806797e-08\n",
      "  model = cd_fast.enet_coordinate_descent_gram(\n",
      "c:\\Users\\Teddy\\anaconda3\\envs\\reu_env\\lib\\site-packages\\sklearn\\linear_model\\_coordinate_descent.py:620: ConvergenceWarning: Objective did not converge. You might want to increase the number of iterations. Duality gap: 3.566940605448848e-07, tolerance: 1.3036572885806797e-08\n",
      "  model = cd_fast.enet_coordinate_descent_gram(\n",
      "c:\\Users\\Teddy\\anaconda3\\envs\\reu_env\\lib\\site-packages\\sklearn\\linear_model\\_coordinate_descent.py:620: ConvergenceWarning: Objective did not converge. You might want to increase the number of iterations. Duality gap: 3.549748767248687e-07, tolerance: 1.3036572885806797e-08\n",
      "  model = cd_fast.enet_coordinate_descent_gram(\n",
      "c:\\Users\\Teddy\\anaconda3\\envs\\reu_env\\lib\\site-packages\\sklearn\\linear_model\\_coordinate_descent.py:620: ConvergenceWarning: Objective did not converge. You might want to increase the number of iterations. Duality gap: 3.5324046454904474e-07, tolerance: 1.3036572885806797e-08\n",
      "  model = cd_fast.enet_coordinate_descent_gram(\n",
      "c:\\Users\\Teddy\\anaconda3\\envs\\reu_env\\lib\\site-packages\\sklearn\\linear_model\\_coordinate_descent.py:620: ConvergenceWarning: Objective did not converge. You might want to increase the number of iterations. Duality gap: 3.514555934939584e-07, tolerance: 1.3036572885806797e-08\n",
      "  model = cd_fast.enet_coordinate_descent_gram(\n",
      "c:\\Users\\Teddy\\anaconda3\\envs\\reu_env\\lib\\site-packages\\sklearn\\linear_model\\_coordinate_descent.py:620: ConvergenceWarning: Objective did not converge. You might want to increase the number of iterations. Duality gap: 3.4944314972347977e-07, tolerance: 1.3036572885806797e-08\n",
      "  model = cd_fast.enet_coordinate_descent_gram(\n",
      "c:\\Users\\Teddy\\anaconda3\\envs\\reu_env\\lib\\site-packages\\sklearn\\linear_model\\_coordinate_descent.py:620: ConvergenceWarning: Objective did not converge. You might want to increase the number of iterations. Duality gap: 3.473327753241375e-07, tolerance: 1.3036572885806797e-08\n",
      "  model = cd_fast.enet_coordinate_descent_gram(\n",
      "c:\\Users\\Teddy\\anaconda3\\envs\\reu_env\\lib\\site-packages\\sklearn\\linear_model\\_coordinate_descent.py:620: ConvergenceWarning: Objective did not converge. You might want to increase the number of iterations. Duality gap: 3.453470352902862e-07, tolerance: 1.3036572885806797e-08\n",
      "  model = cd_fast.enet_coordinate_descent_gram(\n",
      "c:\\Users\\Teddy\\anaconda3\\envs\\reu_env\\lib\\site-packages\\sklearn\\linear_model\\_coordinate_descent.py:620: ConvergenceWarning: Objective did not converge. You might want to increase the number of iterations. Duality gap: 3.4325777202568234e-07, tolerance: 1.3036572885806797e-08\n",
      "  model = cd_fast.enet_coordinate_descent_gram(\n",
      "c:\\Users\\Teddy\\anaconda3\\envs\\reu_env\\lib\\site-packages\\sklearn\\linear_model\\_coordinate_descent.py:620: ConvergenceWarning: Objective did not converge. You might want to increase the number of iterations. Duality gap: 3.411579460968844e-07, tolerance: 1.3036572885806797e-08\n",
      "  model = cd_fast.enet_coordinate_descent_gram(\n",
      "c:\\Users\\Teddy\\anaconda3\\envs\\reu_env\\lib\\site-packages\\sklearn\\linear_model\\_coordinate_descent.py:620: ConvergenceWarning: Objective did not converge. You might want to increase the number of iterations. Duality gap: 3.3896626915516626e-07, tolerance: 1.3036572885806797e-08\n",
      "  model = cd_fast.enet_coordinate_descent_gram(\n",
      "c:\\Users\\Teddy\\anaconda3\\envs\\reu_env\\lib\\site-packages\\sklearn\\linear_model\\_coordinate_descent.py:620: ConvergenceWarning: Objective did not converge. You might want to increase the number of iterations. Duality gap: 3.366981584873734e-07, tolerance: 1.3036572885806797e-08\n",
      "  model = cd_fast.enet_coordinate_descent_gram(\n",
      "c:\\Users\\Teddy\\anaconda3\\envs\\reu_env\\lib\\site-packages\\sklearn\\linear_model\\_coordinate_descent.py:620: ConvergenceWarning: Objective did not converge. You might want to increase the number of iterations. Duality gap: 3.343701897644429e-07, tolerance: 1.3036572885806797e-08\n",
      "  model = cd_fast.enet_coordinate_descent_gram(\n",
      "c:\\Users\\Teddy\\anaconda3\\envs\\reu_env\\lib\\site-packages\\sklearn\\linear_model\\_coordinate_descent.py:620: ConvergenceWarning: Objective did not converge. You might want to increase the number of iterations. Duality gap: 3.319611170919266e-07, tolerance: 1.3036572885806797e-08\n",
      "  model = cd_fast.enet_coordinate_descent_gram(\n",
      "c:\\Users\\Teddy\\anaconda3\\envs\\reu_env\\lib\\site-packages\\sklearn\\linear_model\\_coordinate_descent.py:620: ConvergenceWarning: Objective did not converge. You might want to increase the number of iterations. Duality gap: 3.2947862109735483e-07, tolerance: 1.3036572885806797e-08\n",
      "  model = cd_fast.enet_coordinate_descent_gram(\n",
      "c:\\Users\\Teddy\\anaconda3\\envs\\reu_env\\lib\\site-packages\\sklearn\\linear_model\\_coordinate_descent.py:620: ConvergenceWarning: Objective did not converge. You might want to increase the number of iterations. Duality gap: 3.2693580439701627e-07, tolerance: 1.3036572885806797e-08\n",
      "  model = cd_fast.enet_coordinate_descent_gram(\n",
      "c:\\Users\\Teddy\\anaconda3\\envs\\reu_env\\lib\\site-packages\\sklearn\\linear_model\\_coordinate_descent.py:620: ConvergenceWarning: Objective did not converge. You might want to increase the number of iterations. Duality gap: 3.2433264141722444e-07, tolerance: 1.3036572885806797e-08\n",
      "  model = cd_fast.enet_coordinate_descent_gram(\n",
      "c:\\Users\\Teddy\\anaconda3\\envs\\reu_env\\lib\\site-packages\\sklearn\\linear_model\\_coordinate_descent.py:620: ConvergenceWarning: Objective did not converge. You might want to increase the number of iterations. Duality gap: 3.2166909007284243e-07, tolerance: 1.3036572885806797e-08\n",
      "  model = cd_fast.enet_coordinate_descent_gram(\n",
      "c:\\Users\\Teddy\\anaconda3\\envs\\reu_env\\lib\\site-packages\\sklearn\\linear_model\\_coordinate_descent.py:620: ConvergenceWarning: Objective did not converge. You might want to increase the number of iterations. Duality gap: 3.189450884548013e-07, tolerance: 1.3036572885806797e-08\n",
      "  model = cd_fast.enet_coordinate_descent_gram(\n",
      "c:\\Users\\Teddy\\anaconda3\\envs\\reu_env\\lib\\site-packages\\sklearn\\linear_model\\_coordinate_descent.py:620: ConvergenceWarning: Objective did not converge. You might want to increase the number of iterations. Duality gap: 3.1616055074879055e-07, tolerance: 1.3036572885806797e-08\n",
      "  model = cd_fast.enet_coordinate_descent_gram(\n",
      "c:\\Users\\Teddy\\anaconda3\\envs\\reu_env\\lib\\site-packages\\sklearn\\linear_model\\_coordinate_descent.py:620: ConvergenceWarning: Objective did not converge. You might want to increase the number of iterations. Duality gap: 3.133153624782531e-07, tolerance: 1.3036572885806797e-08\n",
      "  model = cd_fast.enet_coordinate_descent_gram(\n",
      "c:\\Users\\Teddy\\anaconda3\\envs\\reu_env\\lib\\site-packages\\sklearn\\linear_model\\_coordinate_descent.py:620: ConvergenceWarning: Objective did not converge. You might want to increase the number of iterations. Duality gap: 3.104093747747564e-07, tolerance: 1.3036572885806797e-08\n",
      "  model = cd_fast.enet_coordinate_descent_gram(\n",
      "c:\\Users\\Teddy\\anaconda3\\envs\\reu_env\\lib\\site-packages\\sklearn\\linear_model\\_coordinate_descent.py:620: ConvergenceWarning: Objective did not converge. You might want to increase the number of iterations. Duality gap: 3.0736707876232036e-07, tolerance: 1.3036572885806797e-08\n",
      "  model = cd_fast.enet_coordinate_descent_gram(\n",
      "c:\\Users\\Teddy\\anaconda3\\envs\\reu_env\\lib\\site-packages\\sklearn\\linear_model\\_coordinate_descent.py:620: ConvergenceWarning: Objective did not converge. You might want to increase the number of iterations. Duality gap: 3.0433852355884425e-07, tolerance: 1.3036572885806797e-08\n",
      "  model = cd_fast.enet_coordinate_descent_gram(\n",
      "c:\\Users\\Teddy\\anaconda3\\envs\\reu_env\\lib\\site-packages\\sklearn\\linear_model\\_coordinate_descent.py:620: ConvergenceWarning: Objective did not converge. You might want to increase the number of iterations. Duality gap: 2.2736151437912483e-07, tolerance: 1.3036572885806797e-08\n",
      "  model = cd_fast.enet_coordinate_descent_gram(\n",
      "c:\\Users\\Teddy\\anaconda3\\envs\\reu_env\\lib\\site-packages\\sklearn\\linear_model\\_coordinate_descent.py:620: ConvergenceWarning: Objective did not converge. You might want to increase the number of iterations. Duality gap: 1.203948807264305e-07, tolerance: 1.3036572885806797e-08\n",
      "  model = cd_fast.enet_coordinate_descent_gram(\n",
      "c:\\Users\\Teddy\\anaconda3\\envs\\reu_env\\lib\\site-packages\\sklearn\\linear_model\\_coordinate_descent.py:620: ConvergenceWarning: Objective did not converge. You might want to increase the number of iterations. Duality gap: 6.57104380742755e-08, tolerance: 1.3036572885806797e-08\n",
      "  model = cd_fast.enet_coordinate_descent_gram(\n",
      "c:\\Users\\Teddy\\anaconda3\\envs\\reu_env\\lib\\site-packages\\sklearn\\linear_model\\_coordinate_descent.py:620: ConvergenceWarning: Objective did not converge. You might want to increase the number of iterations. Duality gap: 3.7038106299148933e-08, tolerance: 1.3036572885806797e-08\n",
      "  model = cd_fast.enet_coordinate_descent_gram(\n",
      "c:\\Users\\Teddy\\anaconda3\\envs\\reu_env\\lib\\site-packages\\sklearn\\linear_model\\_coordinate_descent.py:620: ConvergenceWarning: Objective did not converge. You might want to increase the number of iterations. Duality gap: 2.0641565967096656e-08, tolerance: 1.3036572885806797e-08\n",
      "  model = cd_fast.enet_coordinate_descent_gram(\n"
     ]
    }
   ],
   "source": [
    "best_mse = int(1e6)\n",
    "best_dict = {}\n",
    "best_alpha = -1\n",
    "\n",
    "mse_list = []\n",
    "equation_set = set()\n",
    "alphas_list = np.linspace(float(1e-6), float(1e-4), num=5000)\n",
    "\n",
    "for i in alphas_list:\n",
    "    lasso_dict = DRUMS_Lasso(X_dict, mt, intercept=False, alphas=np.array([i]))\n",
    "    if lasso_dict['MSE'] < best_mse:\n",
    "        best_dict = lasso_dict\n",
    "        best_mse = lasso_dict['MSE']\n",
    "        best_alpha = i\n",
    "    mse_list.append(lasso_dict['MSE'])\n",
    "    \n",
    "    if not lasso_dict['Equation'] in equation_set:\n",
    "        equation_set.add(lasso_dict['Equation'])"
   ]
  },
  {
   "cell_type": "code",
   "execution_count": 42,
   "metadata": {},
   "outputs": [
    {
     "name": "stdout",
     "output_type": "stream",
     "text": [
      "f = -0.03827*T + -0.01819*R + 0.00132*S^2 + 0.00000\n",
      "4.6584778687588884e-07\n",
      "1e-06\n"
     ]
    }
   ],
   "source": [
    "print(best_dict['Equation'])\n",
    "print(best_dict['MSE'])\n",
    "print(best_alpha)"
   ]
  },
  {
   "cell_type": "code",
   "execution_count": 43,
   "metadata": {},
   "outputs": [
    {
     "data": {
      "text/plain": [
       "1.9803960792158524e-08"
      ]
     },
     "execution_count": 43,
     "metadata": {},
     "output_type": "execute_result"
    }
   ],
   "source": [
    "np.abs(alphas_list[1] - alphas_list[0])"
   ]
  },
  {
   "cell_type": "code",
   "execution_count": 46,
   "metadata": {},
   "outputs": [
    {
     "data": {
      "text/plain": [
       "array([ 0.        , -0.03826626,  0.        ,  0.        ,  0.        ,\n",
       "        0.        ,  0.        , -0.01818799, -0.        ,  0.0013249 ,\n",
       "       -0.        ,  0.        ,  0.        ,  0.        ,  0.        ,\n",
       "        0.        , -0.        , -0.        , -0.        ,  0.        ,\n",
       "        0.        ,  0.        , -0.        ,  0.        , -0.        ,\n",
       "       -0.        ,  0.        ,  0.        ,  0.        ,  0.        ,\n",
       "        0.        ,  0.        , -0.        ,  0.        ,  0.        ,\n",
       "        0.        ,  0.        , -0.        , -0.        ,  0.        ,\n",
       "        0.        ,  0.        , -0.        , -0.        ,  0.        ,\n",
       "        0.        , -0.        , -0.        ,  0.        , -0.        ,\n",
       "       -0.        , -0.        , -0.        ,  0.        ])"
      ]
     },
     "execution_count": 46,
     "metadata": {},
     "output_type": "execute_result"
    }
   ],
   "source": [
    "best_dict[\"Lasso\"].coef_"
   ]
  },
  {
   "cell_type": "code",
   "execution_count": null,
   "metadata": {},
   "outputs": [],
   "source": []
  }
 ],
 "metadata": {
  "kernelspec": {
   "display_name": "reu_env",
   "language": "python",
   "name": "python3"
  },
  "language_info": {
   "codemirror_mode": {
    "name": "ipython",
    "version": 3
   },
   "file_extension": ".py",
   "mimetype": "text/x-python",
   "name": "python",
   "nbconvert_exporter": "python",
   "pygments_lexer": "ipython3",
   "version": "3.10.11"
  },
  "orig_nbformat": 4
 },
 "nbformat": 4,
 "nbformat_minor": 2
}
