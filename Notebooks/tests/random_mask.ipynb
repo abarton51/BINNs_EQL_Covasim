{
 "cells": [
  {
   "cell_type": "code",
   "execution_count": 1,
   "metadata": {},
   "outputs": [
    {
     "name": "stdout",
     "output_type": "stream",
     "text": [
      "Covasim 3.1.3 (2022-07-19) — © 2020-2022 by IDM\n"
     ]
    }
   ],
   "source": [
    "import sys\n",
    "sys.path.append('../')\n",
    "\n",
    "import joblib\n",
    "import pandas as pd\n",
    "from scipy.stats import norm\n",
    "\n",
    "import covasim.covasim as cv\n",
    "import covasim.covasim.utils as cvu\n",
    "import matplotlib as mpl\n",
    "import matplotlib.pyplot as plt\n",
    "import pylab as pl\n",
    "import sciris as sc\n",
    "import numpy as np"
   ]
  },
  {
   "cell_type": "code",
   "execution_count": 2,
   "metadata": {},
   "outputs": [],
   "source": [
    "class norm_random_masking(cv.Intervention):\n",
    "  def __init__(self,mask_eff=None,maskprob_ub=None,maskprob_lb=None,mean=None,std=None,*args,**kwargs):\n",
    "    super().__init__(**kwargs)\n",
    "    self.mask_eff     = mask_eff\n",
    "    self.maskprob_ub  = maskprob_ub\n",
    "    self.maskprob_lb  = maskprob_lb\n",
    "    self.mean         = mean\n",
    "    self.std          = std\n",
    "    self.t            = []\n",
    "    self.num_masking  = []\n",
    "    self.mask_avg_lst = []\n",
    "    return\n",
    "\n",
    "  def initialize(self,sim):\n",
    "    super().initialize()\n",
    "    self.pop = len(sim.people)\n",
    "    self.pop        = len(sim.people)\n",
    "    self.child      = np.logical_and(sim.people.age > 2, sim.people.age <= 9)\n",
    "    self.adolescent = np.logical_and(sim.people.age > 9, sim.people.age <= 19)\n",
    "    self.adult      = np.logical_and(sim.people.age > 19, sim.people.age <= 69)\n",
    "    self.senior     = np.logical_and(sim.people.age > 69, sim.people.age <= 79 )\n",
    "    self.supsenior  = sim.people.age > 79\n",
    "    return\n",
    "\n",
    "  def apply(self,sim):\n",
    "    ppl                = sim.people\n",
    "    ppl.rel_sus[self.child]        = 0.34\n",
    "    ppl.rel_sus[self.adolescent]   = 0.67\n",
    "    ppl.rel_sus[self.adult]        = 1.00\n",
    "    ppl.rel_sus[self.senior]       = 1.24\n",
    "    ppl.rel_sus[self.supsenior]    = 1.47\n",
    "    self.norm          = norm.rvs(loc=self.mean,scale=self.std,size=self.pop)\n",
    "    self.num_dead      = ppl.dead.sum()\n",
    "    self.num_diagnosed = (ppl.diagnosed & ppl.infectious).sum()\n",
    "    self.x             = self.num_dead + self.num_diagnosed\n",
    "    self.p             = np.exp(0.001 + (self.norm*(self.x/self.pop))-0.001*sim.t)\n",
    "    self.p             = (self.p/(1+self.p))-0.5\n",
    "    self.p             = np.clip(self.p,self.maskprob_lb,self.maskprob_ub)\n",
    "    self.masking       = np.random.binomial(1,p=self.p,size=self.pop)\n",
    "    ppl.rel_sus        = np.where(self.masking,ppl.rel_sus*self.mask_eff,ppl.rel_sus)\n",
    "    self.num_masking.append(np.sum(self.masking))\n",
    "    self.t.append(sim.t)\n",
    "    self.total_t = self.t[-1]\n",
    "    self.total_masked  = sum(self.num_masking)\n",
    "    self.mask_avg      = self.total_masked/self.total_t+1\n",
    "    self.mask_avg_lst.append(self.mask_avg)\n",
    "    self.final_mask_avg = self.mask_avg_lst[-1]\n",
    "    return\n",
    "\n",
    "  def get_mask_avg(self,sim): # when sim finishes it'll print the average number of people masking over the entire sim \n",
    "    if len(self.t) > sim.pars['n_days']:\n",
    "      print(self.final_mask_avg)\n",
    "    else:\n",
    "      None\n",
    "    return \n",
    "\n",
    "\n",
    "  def plot(self):\n",
    "    plt.plot(self.t,self.num_masking)\n",
    "    plt.xlabel('Day')\n",
    "    plt.ylabel('# of Agents Masking')\n",
    "    plt.title('# of Agents Masking Over Time')\n",
    "    plt.show()\n",
    "    return\n"
   ]
  },
  {
   "cell_type": "code",
   "execution_count": 3,
   "metadata": {},
   "outputs": [],
   "source": [
    "tp = cv.test_prob(symp_prob=0.1,asymp_prob=0.001,symp_quar_prob=0.3,asymp_quar_prob=0.3,quar_policy='daily')\n",
    "rm = norm_random_masking(mask_eff=0.6,maskprob_ub=0.75,maskprob_lb=0.00,mean=75,std=50)"
   ]
  },
  {
   "cell_type": "code",
   "execution_count": null,
   "metadata": {},
   "outputs": [],
   "source": [
    "sim = cv.Sim(n_days=90,interventions=[tp,rm],label='masking')\n",
    "n_runs = 5\n",
    "msim = cv.MultiSim(sim,n_runs=n_runs)\n",
    "\n",
    "msim.run()\n",
    "for i in range(n_runs): \n",
    "  mask_avg = msim.sims[i].get_intervention(norm_random_masking)\n",
    "  mask_avg.get_mask_avg(sim)\n"
   ]
  },
  {
   "cell_type": "code",
   "execution_count": 4,
   "metadata": {},
   "outputs": [
    {
     "ename": "NameError",
     "evalue": "Task 0 failed: set die=False to keep going instead; see above for error details",
     "output_type": "error",
     "traceback": [
      "\u001b[1;31m---------------------------------------------------------------------------\u001b[0m",
      "\u001b[1;31mRemoteTraceback\u001b[0m                           Traceback (most recent call last)",
      "\u001b[1;31mRemoteTraceback\u001b[0m: \n\"\"\"\nTraceback (most recent call last):\n  File \"c:\\Users\\Teddy\\anaconda3\\envs\\reu_env\\lib\\site-packages\\sciris\\sc_parallel.py\", line 803, in _task\n    result = func(*args, **kwargs) # Call the function!\n  File \"c:\\Users\\Teddy\\Documents\\UG Research\\DRUMS\\COVASIM_EQL_BINNS\\Notebooks\\..\\covasim\\covasim\\run.py\", line 1397, in single_run\n    sim.run(**run_args)\n  File \"c:\\Users\\Teddy\\Documents\\UG Research\\DRUMS\\COVASIM_EQL_BINNS\\Notebooks\\..\\covasim\\covasim\\sim.py\", line 753, in run\n    self.step()\n  File \"c:\\Users\\Teddy\\Documents\\UG Research\\DRUMS\\COVASIM_EQL_BINNS\\Notebooks\\..\\covasim\\covasim\\sim.py\", line 597, in step\n    intervention(self) # If it's a function, call it directly\n  File \"c:\\Users\\Teddy\\Documents\\UG Research\\DRUMS\\COVASIM_EQL_BINNS\\Notebooks\\..\\covasim\\covasim\\interventions.py\", line 274, in __call__\n    return self.apply(*args, **kwargs)\n  File \"C:\\Users\\Teddy\\AppData\\Local\\Temp\\ipykernel_9488\\1768805855.py\", line 21, in apply\nNameError: name 'norm' is not defined\n\nThe above exception was the direct cause of the following exception:\n\nTraceback (most recent call last):\n  File \"c:\\Users\\Teddy\\anaconda3\\envs\\reu_env\\lib\\site-packages\\multiprocess\\pool.py\", line 125, in worker\n    result = (True, func(*args, **kwds))\n  File \"c:\\Users\\Teddy\\anaconda3\\envs\\reu_env\\lib\\site-packages\\multiprocess\\pool.py\", line 48, in mapstar\n    return list(map(*args))\n  File \"c:\\Users\\Teddy\\anaconda3\\envs\\reu_env\\lib\\site-packages\\sciris\\sc_parallel.py\", line 810, in _task\n    raise exc(errormsg) from E\nNameError: Task 0 failed: set die=False to keep going instead; see above for error details\n\"\"\"",
      "\nThe above exception was the direct cause of the following exception:\n",
      "\u001b[1;31mNameError\u001b[0m                                 Traceback (most recent call last)",
      "Cell \u001b[1;32mIn[4], line 5\u001b[0m\n\u001b[0;32m      2\u001b[0m sim1 \u001b[39m=\u001b[39m cv\u001b[39m.\u001b[39mSim(interventions\u001b[39m=\u001b[39mtp,label\u001b[39m=\u001b[39m\u001b[39m'\u001b[39m\u001b[39mno masking\u001b[39m\u001b[39m'\u001b[39m,n_days\u001b[39m=\u001b[39m\u001b[39m90\u001b[39m)\n\u001b[0;32m      3\u001b[0m msim \u001b[39m=\u001b[39m cv\u001b[39m.\u001b[39mMultiSim([sim,sim1])\n\u001b[1;32m----> 5\u001b[0m msim\u001b[39m.\u001b[39;49mrun()\n\u001b[0;32m      6\u001b[0m msim\u001b[39m.\u001b[39mplot()\n\u001b[0;32m      7\u001b[0m num_mask \u001b[39m=\u001b[39m msim\u001b[39m.\u001b[39msims[\u001b[39m0\u001b[39m]\u001b[39m.\u001b[39mget_intervention(norm_random_masking)\n",
      "File \u001b[1;32mc:\\Users\\Teddy\\Documents\\UG Research\\DRUMS\\COVASIM_EQL_BINNS\\Notebooks\\..\\covasim\\covasim\\run.py:172\u001b[0m, in \u001b[0;36mMultiSim.run\u001b[1;34m(self, reduce, combine, **kwargs)\u001b[0m\n\u001b[0;32m    170\u001b[0m \u001b[39m# Run\u001b[39;00m\n\u001b[0;32m    171\u001b[0m kwargs \u001b[39m=\u001b[39m sc\u001b[39m.\u001b[39mmergedicts(\u001b[39mself\u001b[39m\u001b[39m.\u001b[39mrun_args, kwargs)\n\u001b[1;32m--> 172\u001b[0m \u001b[39mself\u001b[39m\u001b[39m.\u001b[39msims \u001b[39m=\u001b[39m multi_run(sims, \u001b[39m*\u001b[39m\u001b[39m*\u001b[39mkwargs)\n\u001b[0;32m    174\u001b[0m \u001b[39m# Reduce or combine\u001b[39;00m\n\u001b[0;32m    175\u001b[0m \u001b[39mif\u001b[39;00m reduce:\n",
      "File \u001b[1;32mc:\\Users\\Teddy\\Documents\\UG Research\\DRUMS\\COVASIM_EQL_BINNS\\Notebooks\\..\\covasim\\covasim\\run.py:1473\u001b[0m, in \u001b[0;36mmulti_run\u001b[1;34m(sim, n_runs, reseed, noise, noisepar, iterpars, combine, keep_people, run_args, sim_args, par_args, do_run, parallel, n_cpus, verbose, **kwargs)\u001b[0m\n\u001b[0;32m   1471\u001b[0m \u001b[39mif\u001b[39;00m parallel:\n\u001b[0;32m   1472\u001b[0m     \u001b[39mtry\u001b[39;00m:\n\u001b[1;32m-> 1473\u001b[0m         sims \u001b[39m=\u001b[39m sc\u001b[39m.\u001b[39mparallelize(single_run, iterkwargs\u001b[39m=\u001b[39miterkwargs, kwargs\u001b[39m=\u001b[39mkwargs, \u001b[39m*\u001b[39m\u001b[39m*\u001b[39mpar_args) \u001b[39m# Run in parallel\u001b[39;00m\n\u001b[0;32m   1474\u001b[0m     \u001b[39mexcept\u001b[39;00m \u001b[39mRuntimeError\u001b[39;00m \u001b[39mas\u001b[39;00m E: \u001b[39m# Handle if run outside of __main__ on Windows\u001b[39;00m\n\u001b[0;32m   1475\u001b[0m         \u001b[39mif\u001b[39;00m \u001b[39m'\u001b[39m\u001b[39mfreeze_support\u001b[39m\u001b[39m'\u001b[39m \u001b[39min\u001b[39;00m E\u001b[39m.\u001b[39margs[\u001b[39m0\u001b[39m]: \u001b[39m# For this error, add additional information\u001b[39;00m\n",
      "File \u001b[1;32mc:\\Users\\Teddy\\anaconda3\\envs\\reu_env\\lib\\site-packages\\sciris\\sc_parallel.py:731\u001b[0m, in \u001b[0;36mparallelize\u001b[1;34m(func, iterarg, iterkwargs, args, kwargs, ncpus, maxcpu, maxmem, interval, parallelizer, serial, progress, callback, die, **func_kwargs)\u001b[0m\n\u001b[0;32m    725\u001b[0m P \u001b[39m=\u001b[39m Parallel(func, iterarg\u001b[39m=\u001b[39miterarg, iterkwargs\u001b[39m=\u001b[39miterkwargs, args\u001b[39m=\u001b[39margs, kwargs\u001b[39m=\u001b[39mkwargs, \n\u001b[0;32m    726\u001b[0m              ncpus\u001b[39m=\u001b[39mncpus, maxcpu\u001b[39m=\u001b[39mmaxcpu, maxmem\u001b[39m=\u001b[39mmaxmem, interval\u001b[39m=\u001b[39minterval, \n\u001b[0;32m    727\u001b[0m              parallelizer\u001b[39m=\u001b[39mparallelizer, serial\u001b[39m=\u001b[39mserial, progress\u001b[39m=\u001b[39mprogress, \n\u001b[0;32m    728\u001b[0m              callback\u001b[39m=\u001b[39mcallback, die\u001b[39m=\u001b[39mdie, \u001b[39m*\u001b[39m\u001b[39m*\u001b[39mfunc_kwargs)\n\u001b[0;32m    730\u001b[0m \u001b[39m# Run it\u001b[39;00m\n\u001b[1;32m--> 731\u001b[0m P\u001b[39m.\u001b[39;49mrun()\n\u001b[0;32m    732\u001b[0m \u001b[39mreturn\u001b[39;00m P\u001b[39m.\u001b[39mresults\n",
      "File \u001b[1;32mc:\\Users\\Teddy\\anaconda3\\envs\\reu_env\\lib\\site-packages\\sciris\\sc_parallel.py:555\u001b[0m, in \u001b[0;36mParallel.run\u001b[1;34m(self)\u001b[0m\n\u001b[0;32m    553\u001b[0m \u001b[39m\u001b[39m\u001b[39m''' Actually run the parallelization '''\u001b[39;00m\n\u001b[0;32m    554\u001b[0m \u001b[39mtry\u001b[39;00m:\n\u001b[1;32m--> 555\u001b[0m     \u001b[39mself\u001b[39;49m\u001b[39m.\u001b[39;49mrun_async()\n\u001b[0;32m    556\u001b[0m     \u001b[39mself\u001b[39m\u001b[39m.\u001b[39mfinalize()\n\u001b[0;32m    558\u001b[0m \u001b[39m# Handle if run outside of __main__ on Windows\u001b[39;00m\n",
      "File \u001b[1;32mc:\\Users\\Teddy\\anaconda3\\envs\\reu_env\\lib\\site-packages\\sciris\\sc_parallel.py:442\u001b[0m, in \u001b[0;36mParallel.run_async\u001b[1;34m(self)\u001b[0m\n\u001b[0;32m    440\u001b[0m \u001b[39m# Run it!\u001b[39;00m\n\u001b[0;32m    441\u001b[0m \u001b[39mself\u001b[39m\u001b[39m.\u001b[39mtimes\u001b[39m.\u001b[39mstarted \u001b[39m=\u001b[39m scd\u001b[39m.\u001b[39mnow()\n\u001b[1;32m--> 442\u001b[0m output \u001b[39m=\u001b[39m \u001b[39mself\u001b[39;49m\u001b[39m.\u001b[39;49mmap_func(_task, argslist)\n\u001b[0;32m    444\u001b[0m \u001b[39m# Store the pool; do not store the output list here\u001b[39;00m\n\u001b[0;32m    445\u001b[0m \u001b[39mif\u001b[39;00m \u001b[39mself\u001b[39m\u001b[39m.\u001b[39mis_async:\n",
      "File \u001b[1;32mc:\\Users\\Teddy\\anaconda3\\envs\\reu_env\\lib\\site-packages\\multiprocess\\pool.py:367\u001b[0m, in \u001b[0;36mPool.map\u001b[1;34m(self, func, iterable, chunksize)\u001b[0m\n\u001b[0;32m    362\u001b[0m \u001b[39mdef\u001b[39;00m \u001b[39mmap\u001b[39m(\u001b[39mself\u001b[39m, func, iterable, chunksize\u001b[39m=\u001b[39m\u001b[39mNone\u001b[39;00m):\n\u001b[0;32m    363\u001b[0m \u001b[39m    \u001b[39m\u001b[39m'''\u001b[39;00m\n\u001b[0;32m    364\u001b[0m \u001b[39m    Apply `func` to each element in `iterable`, collecting the results\u001b[39;00m\n\u001b[0;32m    365\u001b[0m \u001b[39m    in a list that is returned.\u001b[39;00m\n\u001b[0;32m    366\u001b[0m \u001b[39m    '''\u001b[39;00m\n\u001b[1;32m--> 367\u001b[0m     \u001b[39mreturn\u001b[39;00m \u001b[39mself\u001b[39;49m\u001b[39m.\u001b[39;49m_map_async(func, iterable, mapstar, chunksize)\u001b[39m.\u001b[39;49mget()\n",
      "File \u001b[1;32mc:\\Users\\Teddy\\anaconda3\\envs\\reu_env\\lib\\site-packages\\multiprocess\\pool.py:774\u001b[0m, in \u001b[0;36mApplyResult.get\u001b[1;34m(self, timeout)\u001b[0m\n\u001b[0;32m    772\u001b[0m     \u001b[39mreturn\u001b[39;00m \u001b[39mself\u001b[39m\u001b[39m.\u001b[39m_value\n\u001b[0;32m    773\u001b[0m \u001b[39melse\u001b[39;00m:\n\u001b[1;32m--> 774\u001b[0m     \u001b[39mraise\u001b[39;00m \u001b[39mself\u001b[39m\u001b[39m.\u001b[39m_value\n",
      "\u001b[1;31mNameError\u001b[0m: Task 0 failed: set die=False to keep going instead; see above for error details"
     ]
    }
   ],
   "source": [
    "sim = cv.Sim(n_days=90,interventions=[tp,rm],label='masking')\n",
    "sim1 = cv.Sim(interventions=tp,label='no masking',n_days=90)\n",
    "msim = cv.MultiSim([sim,sim1])\n",
    "\n",
    "msim.run()\n",
    "msim.plot()\n",
    "num_mask = msim.sims[0].get_intervention(norm_random_masking)\n",
    "num_mask.plot()"
   ]
  },
  {
   "cell_type": "code",
   "execution_count": null,
   "metadata": {},
   "outputs": [],
   "source": []
  }
 ],
 "metadata": {
  "kernelspec": {
   "display_name": "Python 3.11.4 64-bit",
   "language": "python",
   "name": "python3"
  },
  "language_info": {
   "codemirror_mode": {
    "name": "ipython",
    "version": 3
   },
   "file_extension": ".py",
   "mimetype": "text/x-python",
   "name": "python",
   "nbconvert_exporter": "python",
   "pygments_lexer": "ipython3",
   "version": "3.11.4"
  },
  "orig_nbformat": 4,
  "vscode": {
   "interpreter": {
    "hash": "aee8b7b246df8f9039afb4144a1f6fd8d2ca17a180786b69acc140d282b71a49"
   }
  }
 },
 "nbformat": 4,
 "nbformat_minor": 2
}
