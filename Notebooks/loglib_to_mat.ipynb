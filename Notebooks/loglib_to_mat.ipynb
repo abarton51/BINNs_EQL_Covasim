{
 "cells": [
  {
   "cell_type": "code",
   "execution_count": null,
   "metadata": {},
   "outputs": [],
   "source": [
    "# pip install --upgrade pandas"
   ]
  },
  {
   "cell_type": "code",
   "execution_count": 2,
   "metadata": {},
   "outputs": [
    {
     "name": "stderr",
     "output_type": "stream",
     "text": [
      "c:\\Users\\Teddy\\anaconda3\\envs\\reu_env\\lib\\site-packages\\tqdm\\auto.py:21: TqdmWarning: IProgress not found. Please update jupyter and ipywidgets. See https://ipywidgets.readthedocs.io/en/stable/user_install.html\n",
      "  from .autonotebook import tqdm as notebook_tqdm\n"
     ]
    }
   ],
   "source": [
    "import numpy as np\n",
    "import pandas as pd\n",
    "# print(pd.show_versions())\n",
    "\n",
    "import sys\n",
    "sys.path.append('../../')\n",
    "sys.path.append('../')\n",
    "\n",
    "from Modules.Utils.Imports import *\n",
    "\n",
    "import Modules.Loaders.DataFormatter as DF\n",
    "from utils import get_case_name\n",
    "# helper functions\n",
    "def to_torch(x):\n",
    "    return torch.from_numpy(x).float().to(device)\n",
    "def to_numpy(x):\n",
    "    return x.detach().cpu().numpy()"
   ]
  },
  {
   "cell_type": "code",
   "execution_count": 3,
   "metadata": {},
   "outputs": [
    {
     "name": "stdout",
     "output_type": "stream",
     "text": [
      "Device set to cpu\n"
     ]
    },
    {
     "ename": "FileNotFoundError",
     "evalue": "[Errno 2] No such file or directory: '../Data/covasim_data/drums_datacovasim_200000_0.1_0.3_dynamic_piecewise.joblib'",
     "output_type": "error",
     "traceback": [
      "\u001b[1;31m---------------------------------------------------------------------------\u001b[0m",
      "\u001b[1;31mFileNotFoundError\u001b[0m                         Traceback (most recent call last)",
      "Cell \u001b[1;32mIn[3], line 13\u001b[0m\n\u001b[0;32m     11\u001b[0m keep_d \u001b[39m=\u001b[39m \u001b[39mTrue\u001b[39;00m\n\u001b[0;32m     12\u001b[0m case_name \u001b[39m=\u001b[39m get_case_name(population, test_prob, trace_prob, keep_d, dynamic\u001b[39m=\u001b[39mdynamic, chi_type\u001b[39m=\u001b[39mchi_type)\n\u001b[1;32m---> 13\u001b[0m params \u001b[39m=\u001b[39m DF\u001b[39m.\u001b[39;49mload_covasim_data(path, population, test_prob, trace_prob, keep_d, case_name)\n",
      "File \u001b[1;32mc:\\Users\\Teddy\\Documents\\UG Research\\DRUMS\\COVASIM_EQL_BINNS\\Notebooks\\..\\Modules\\Loaders\\DataFormatter.py:70\u001b[0m, in \u001b[0;36mload_covasim_data\u001b[1;34m(file_path, population, test_prob, trace_prob, keep_d, case_name, plot)\u001b[0m\n\u001b[0;32m     62\u001b[0m \u001b[39mdef\u001b[39;00m \u001b[39mload_covasim_data\u001b[39m(file_path, population, test_prob, trace_prob, keep_d, case_name, plot\u001b[39m=\u001b[39m\u001b[39mTrue\u001b[39;00m):\n\u001b[0;32m     63\u001b[0m \n\u001b[0;32m     64\u001b[0m     \u001b[39m# file_name = '_'.join(['covasim', str(population), str(test_prob), str(trace_prob)])\u001b[39;00m\n\u001b[1;32m   (...)\u001b[0m\n\u001b[0;32m     67\u001b[0m     \u001b[39m# if dynamic:\u001b[39;00m\n\u001b[0;32m     68\u001b[0m     \u001b[39m#     file_name += '_' + 'dynamic'\u001b[39;00m\n\u001b[0;32m     69\u001b[0m     file_name \u001b[39m=\u001b[39m \u001b[39m'\u001b[39m\u001b[39mcovasim_\u001b[39m\u001b[39m'\u001b[39m \u001b[39m+\u001b[39m \u001b[39mstr\u001b[39m(case_name)\n\u001b[1;32m---> 70\u001b[0m     params \u001b[39m=\u001b[39m joblib\u001b[39m.\u001b[39;49mload(file_path \u001b[39m+\u001b[39;49m file_name \u001b[39m+\u001b[39;49m \u001b[39m'\u001b[39;49m\u001b[39m.joblib\u001b[39;49m\u001b[39m'\u001b[39;49m)\n\u001b[0;32m     72\u001b[0m     \u001b[39mif\u001b[39;00m plot \u001b[39mand\u001b[39;00m \u001b[39misinstance\u001b[39m(params[\u001b[39m'\u001b[39m\u001b[39mdata\u001b[39m\u001b[39m'\u001b[39m], pd\u001b[39m.\u001b[39mDataFrame):\n\u001b[0;32m     73\u001b[0m         data \u001b[39m=\u001b[39m params[\u001b[39m'\u001b[39m\u001b[39mdata\u001b[39m\u001b[39m'\u001b[39m]\n",
      "File \u001b[1;32mc:\\Users\\Teddy\\anaconda3\\envs\\reu_env\\lib\\site-packages\\joblib\\numpy_pickle.py:650\u001b[0m, in \u001b[0;36mload\u001b[1;34m(filename, mmap_mode)\u001b[0m\n\u001b[0;32m    648\u001b[0m         obj \u001b[39m=\u001b[39m _unpickle(fobj)\n\u001b[0;32m    649\u001b[0m \u001b[39melse\u001b[39;00m:\n\u001b[1;32m--> 650\u001b[0m     \u001b[39mwith\u001b[39;00m \u001b[39mopen\u001b[39;49m(filename, \u001b[39m'\u001b[39;49m\u001b[39mrb\u001b[39;49m\u001b[39m'\u001b[39;49m) \u001b[39mas\u001b[39;00m f:\n\u001b[0;32m    651\u001b[0m         \u001b[39mwith\u001b[39;00m _read_fileobject(f, filename, mmap_mode) \u001b[39mas\u001b[39;00m fobj:\n\u001b[0;32m    652\u001b[0m             \u001b[39mif\u001b[39;00m \u001b[39misinstance\u001b[39m(fobj, \u001b[39mstr\u001b[39m):\n\u001b[0;32m    653\u001b[0m                 \u001b[39m# if the returned file object is a string, this means we\u001b[39;00m\n\u001b[0;32m    654\u001b[0m                 \u001b[39m# try to load a pickle file generated with an version of\u001b[39;00m\n\u001b[0;32m    655\u001b[0m                 \u001b[39m# Joblib so we load it with joblib compatibility function.\u001b[39;00m\n",
      "\u001b[1;31mFileNotFoundError\u001b[0m: [Errno 2] No such file or directory: '../Data/covasim_data/drums_datacovasim_200000_0.1_0.3_dynamic_piecewise.joblib'"
     ]
    }
   ],
   "source": [
    "device = torch.device(GetLowestGPU(pick_from=[0]))\n",
    "# instantiate BINN\n",
    "path = '../Data/covasim_data/drums_data/'\n",
    "population = 200000\n",
    "test_prob = 0.1\n",
    "trace_prob = 0.3\n",
    "keep_d = True\n",
    "retrain = False\n",
    "dynamic = True\n",
    "chi_type = 'piecewise'\n",
    "keep_d = True\n",
    "case_name = get_case_name(population, test_prob, trace_prob, keep_d, dynamic=dynamic, chi_type=chi_type)\n",
    "params = DF.load_covasim_data(path, population, test_prob, trace_prob, keep_d, case_name)"
   ]
  },
  {
   "cell_type": "code",
   "execution_count": 5,
   "metadata": {},
   "outputs": [],
   "source": [
    "S = params['data']['S'].tolist()\n",
    "T = params['data']['T'].tolist()\n",
    "E = params['data']['E'].tolist()\n",
    "A = params['data']['A'].tolist()\n",
    "Y = params['data']['Y'].tolist()\n",
    "D = params['data']['D'].tolist()\n",
    "Q = params['data']['Q'].tolist()\n",
    "R = params['data']['R'].tolist()\n",
    "F = params['data']['F'].tolist()\n",
    "\n",
    "data_info = {}\n",
    "data_info['tracing_array'] = params['tracing_array']\n",
    "data_info['population'] = params['population']\n",
    "data_info['alpha'] = params['alpha']\n",
    "data_info['beta'] = params['beta']\n",
    "data_info['gamma'] = params['gamma']\n",
    "data_info['mu'] = params['mu']\n",
    "data_info['tau'] = params['tau']\n",
    "data_info['tau_lb'] = params['tau_lb']\n",
    "data_info['tau_ub'] = params['tau_ub']\n",
    "data_info['lamda'] = params['lamda']\n",
    "data_info['p_asymp'] = params['p_asymp']\n",
    "data_info['n_contacts'] = params['n_contacts']\n",
    "data_info['delta'] = params['delta']\n",
    "data_info['data'] = {}\n",
    "data_info['data']['S'] = S\n",
    "data_info['data']['T'] = T\n",
    "data_info['data']['E'] = E\n",
    "data_info['data']['A'] = A\n",
    "data_info['data']['Y'] = Y\n",
    "data_info['data']['D'] = D\n",
    "data_info['data']['Q'] = Q\n",
    "data_info['data']['R'] = R\n",
    "data_info['data']['F'] = F\n",
    "data_info['dynamic_tracing'] = params['dynamic_tracing']\n",
    "data_info['eff_ub'] = params['eff_ub']\n",
    "scipy.io.savemat('../Data/covasim_data/'+str(case_name)+'.mat',data_info)"
   ]
  },
  {
   "cell_type": "code",
   "execution_count": null,
   "metadata": {},
   "outputs": [],
   "source": []
  }
 ],
 "metadata": {
  "kernelspec": {
   "display_name": "Python 3 (ipykernel)",
   "language": "python",
   "name": "python3"
  },
  "language_info": {
   "codemirror_mode": {
    "name": "ipython",
    "version": 3
   },
   "file_extension": ".py",
   "mimetype": "text/x-python",
   "name": "python",
   "nbconvert_exporter": "python",
   "pygments_lexer": "ipython3",
   "version": "3.10.11"
  }
 },
 "nbformat": 4,
 "nbformat_minor": 4
}
