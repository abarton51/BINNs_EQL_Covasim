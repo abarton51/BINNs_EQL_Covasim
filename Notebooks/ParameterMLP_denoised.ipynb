{
 "cells": [
  {
   "cell_type": "markdown",
   "metadata": {},
   "source": [
    "### Parameter MLPs with Numerical Differentiation of Denoised Data from Sample Mean of Multiple Simulations\n",
    "This notebook utilizes a modified biologically-informed neural network where instead of using a neural network to denoise data, we circumvent this need due to the nature of our data (simulated) by finding a \"good\" estimate of the data and then approximating the derivatives using a finite differences method. In this application we used central differences. Hence the endpoints of the collected simulate data is discarded."
   ]
  },
  {
   "cell_type": "code",
   "execution_count": 11,
   "metadata": {},
   "outputs": [],
   "source": [
    "import numpy as np\n",
    "import pandas as pd\n",
    "from scipy.signal import savgol_filter\n",
    "\n",
    "import sys\n",
    "import joblib\n",
    "import datetime\n",
    "sys.path.append('../')\n",
    "\n",
    "from Modules.Utils.ModelWrapper import ModelWrapper\n",
    "from Modules.Models.BuildBINNs import MLPComponentsCV\n",
    "from Modules.Utils.Imports import *\n",
    "\n",
    "import Modules.Loaders.DataFormatter as DF\n",
    "from utils import plot_loss_convergence, get_case_name\n",
    "import matplotlib\n",
    "# matplotlib.use('Agg')"
   ]
  },
  {
   "cell_type": "code",
   "execution_count": 12,
   "metadata": {},
   "outputs": [
    {
     "name": "stdout",
     "output_type": "stream",
     "text": [
      "Device set to cpu\n"
     ]
    }
   ],
   "source": [
    "device = torch.device(GetLowestGPU(pick_from=[0,1,2,3]))\n",
    "# helper functions\n",
    "def to_torch(ndarray):\n",
    "    arr = torch.tensor(ndarray, dtype=torch.float)\n",
    "    arr.requires_grad_(True)\n",
    "    arr = arr.to(device)\n",
    "    return arr\n",
    "\n",
    "def to_numpy(x):\n",
    "    return x.detach().cpu().numpy()"
   ]
  },
  {
   "attachments": {},
   "cell_type": "markdown",
   "metadata": {},
   "source": [
    "#### Notes:\n",
    "- The data for this *should* be from multiple simulations. `n_runs` corresponds to the number of simulations ran given a specific set of parameters for Covasim. We load the data into a dictionary, we access the array of results from the simulations, and store the mean.\n",
    "- The shape of `u` and `ut` are $(181, 9)$ since we used the method of central differences to estimate the derivatives for data of shape $(183, 9)$.\n",
    "- `t` are the time points of each of the `u` and `ut` points."
   ]
  },
  {
   "cell_type": "code",
   "execution_count": 13,
   "metadata": {},
   "outputs": [],
   "source": [
    "# instantiate BINN model parameters and path\n",
    "path = '../Data/covasim_data/drums_data/'\n",
    "population = int(200e3) # 200000, 100000\n",
    "test_prob = 0.1\n",
    "trace_prob = 0.3\n",
    "keep_d = True\n",
    "retrain = False\n",
    "dynamic = True\n",
    "masking = 3\n",
    "parallelb = True\n",
    "n_runs = 1024\n",
    "chi_type = 'piecewise'\n",
    "\n",
    "plot = True\n",
    "trim = False # experiment. I would not recommend setting to True for good training\n",
    "\n",
    "case_name = get_case_name(population, test_prob, trace_prob, keep_d, dynamic=dynamic, chi_type=chi_type)"
   ]
  },
  {
   "cell_type": "code",
   "execution_count": 14,
   "metadata": {},
   "outputs": [],
   "source": [
    "if not masking==0:\n",
    "    if masking==1:\n",
    "        case_name = case_name + '_maskingthresh'\n",
    "    elif masking==2:\n",
    "        case_name = case_name + '_maskinguni'\n",
    "    elif masking==3:\n",
    "        case_name = case_name + '_maskingnorm'\n",
    "    \n",
    "params = DF.load_covasim_data(path, population, test_prob, trace_prob, keep_d, case_name + '_' + str(n_runs), plot=False)"
   ]
  },
  {
   "cell_type": "code",
   "execution_count": 15,
   "metadata": {},
   "outputs": [],
   "source": [
    "if parallelb:\n",
    "    data_smooth = params['data']\n",
    "else:\n",
    "    data_smooth = params['data']\n",
    "    data_smooth = np.mean(data_smooth, axis=1)\n",
    "    data_smooth = (data_smooth / params['population'])\n",
    "\n",
    "if trim:\n",
    "    N = len(data_smooth) - 17\n",
    "    u = to_torch(data_smooth[16:N+16,:])\n",
    "else:\n",
    "    N = len(data_smooth) - 2\n",
    "    u = to_torch(data_smooth[1:N+1,:])\n",
    "\n",
    "t_max_real = N\n",
    "t = np.arange(N)[:,None] + 1\n",
    "params.pop('data')\n",
    "\n",
    "tracing_array = params['tracing_array']"
   ]
  },
  {
   "cell_type": "markdown",
   "metadata": {},
   "source": [
    "## Choose numerical differentiation method\n",
    "- Central finite differences: `dmethod=0`\n",
    "- Savitzky-Golar filter: `dmethod=1`"
   ]
  },
  {
   "cell_type": "code",
   "execution_count": 16,
   "metadata": {},
   "outputs": [],
   "source": [
    "dmethod = 'savgol' # 'savgol', 'cfd'"
   ]
  },
  {
   "cell_type": "code",
   "execution_count": 17,
   "metadata": {},
   "outputs": [],
   "source": [
    "# central differences numerical differentiation\n",
    "if dmethod=='cfd':\n",
    "    if trim:\n",
    "        u_front = data_smooth[:N+15,:]\n",
    "        u_back = data_smooth[2:,:]\n",
    "    else:\n",
    "        u_front = data_smooth[:N,:]\n",
    "        u_back = data_smooth[2:,:]\n",
    "        \n",
    "    ut = to_torch((u_back - u_front) / 2.)\n",
    "    \n",
    "elif dmethod=='savgol':\n",
    "    ut = to_torch(savgol_filter(data_smooth, 20, 3, deriv=1, axis=0))[1:N+1,:]"
   ]
  },
  {
   "cell_type": "code",
   "execution_count": 18,
   "metadata": {},
   "outputs": [],
   "source": [
    "# split into train/val and convert to torch\n",
    "split = int(0.8*N)\n",
    "# generate shuffled array of indices from 0 to N-1\n",
    "p = np.random.permutation(N)[:,None]\n",
    "\n",
    "if trim:\n",
    "    u_tensor = torch.cat([u[:,:,None], ut[15:,:,None]], axis=2)\n",
    "else:\n",
    "    u_tensor = torch.cat([u[:,:,None], ut[:,:,None]], axis=2)"
   ]
  },
  {
   "cell_type": "code",
   "execution_count": 19,
   "metadata": {},
   "outputs": [
    {
     "name": "stderr",
     "output_type": "stream",
     "text": [
      "C:\\Users\\Teddy\\AppData\\Local\\Temp\\ipykernel_7216\\2401209155.py:4: UserWarning: To copy construct from a tensor, it is recommended to use sourceTensor.clone().detach() or sourceTensor.clone().detach().requires_grad_(True), rather than torch.tensor(sourceTensor).\n",
      "  arr = torch.tensor(ndarray, dtype=torch.float)\n"
     ]
    }
   ],
   "source": [
    "# assign x_train to be randomly shuffled days from 1 to N of size int(0.8 * N)\n",
    "x_train = to_torch((p[:split] + 1))\n",
    "# assign y_train to be values corresponding to x_train of size int(0.8 * N)\n",
    "y_train = to_torch(u[(p[:split]).flatten()])\n",
    "# assign x_val to be randomly shuffled days from 1 to N of size int(0.2 * N)\n",
    "x_val = to_torch((p[split:] + 1))\n",
    "# assign y_val to be values corresponding to y_val of size int(0.2 * N)\n",
    "y_val = to_torch(u[(p[split:]).flatten()])"
   ]
  },
  {
   "cell_type": "code",
   "execution_count": 20,
   "metadata": {},
   "outputs": [
    {
     "name": "stderr",
     "output_type": "stream",
     "text": [
      "C:\\Users\\Teddy\\AppData\\Local\\Temp\\ipykernel_7216\\1713950350.py:1: MatplotlibDeprecationWarning: The seaborn styles shipped by Matplotlib are deprecated since 3.6, as they no longer correspond to the styles shipped by seaborn. However, they will remain available as 'seaborn-v0_8-<style>'. Alternatively, directly use the seaborn API instead.\n",
      "  plt.style.use('seaborn')\n"
     ]
    }
   ],
   "source": [
    "plt.style.use('seaborn')\n",
    "plt.rcParams['figure.figsize'] = (8, 6)\n",
    "\n",
    "fig_path = '../Notebooks/figs/drums/derivatives/' + dmethod + '/'\n",
    "\n",
    "if plot:\n",
    "    start_idx = 0\n",
    "    if trim:\n",
    "        start_idx = 15\n",
    "    dSdt = ut[start_idx:,0].detach()\n",
    "    dTdt = ut[start_idx:,1].detach()\n",
    "    dEdt = ut[start_idx:,2].detach()\n",
    "    dAdt = ut[start_idx:,3].detach()\n",
    "    dYdt = ut[start_idx:,4].detach()\n",
    "    dDdt = ut[start_idx:,5].detach()\n",
    "    dQdt = ut[start_idx:,6].detach()\n",
    "    dRdt = ut[start_idx:,7].detach()\n",
    "    dFdt = ut[start_idx:,8].detach()\n",
    "    for i in range(9):\n",
    "        if i==0:\n",
    "            plt.title('$dSdt$ versus time (days)')\n",
    "            plt.plot(t, dSdt*population, label='dSdt', color='b')\n",
    "            plt.xlabel('Time (days)')\n",
    "            plt.ylabel('$dSdt$')\n",
    "            plt.legend()\n",
    "            plt.savefig(fig_path + case_name + '_' + str(n_runs) + '_dSdt_' + dmethod + '.png')\n",
    "            #plt.show()\n",
    "            plt.close()\n",
    "        if i==1:\n",
    "            plt.title('$dTdt$ versus time (days)')\n",
    "            plt.plot(t, dTdt*population, label='dTdt', color='b')\n",
    "            plt.xlabel('Time (days)')\n",
    "            plt.ylabel('$dTdt$')\n",
    "            plt.legend()\n",
    "            plt.savefig(fig_path + case_name + '_' + str(n_runs) + '_dTdt_' + dmethod + '.png')\n",
    "            #plt.show()\n",
    "            plt.close()\n",
    "        if i==2:\n",
    "            plt.title('$dEdt$ versus time (days)')\n",
    "            plt.plot(t, dEdt*population, label='dEdt', color='y')\n",
    "            plt.xlabel('Time (days)')\n",
    "            plt.ylabel('$dEdt$')\n",
    "            plt.legend()\n",
    "            plt.savefig(fig_path + case_name + '_' + str(n_runs) + '_dEdt_' + dmethod + '.png')\n",
    "            #plt.show()\n",
    "            plt.close()\n",
    "        if i==3:\n",
    "            plt.title('$dAdt$ versus time (days)')\n",
    "            plt.plot(t, dAdt*population, label='dAdt', color='r')\n",
    "            plt.xlabel('Time (days)')\n",
    "            plt.ylabel('$dAdt$')\n",
    "            plt.legend()\n",
    "            plt.savefig(fig_path + case_name + '_' + str(n_runs) + '_dAdt_' + dmethod + '.png')\n",
    "            #plt.show()\n",
    "            plt.close()\n",
    "        if i==4:\n",
    "            plt.title('$dYdt$ versus time (days)')\n",
    "            plt.plot(t, dYdt*population, label='dYdt', color='r')\n",
    "            plt.xlabel('Time (days)')\n",
    "            plt.ylabel('$dYdt$')\n",
    "            plt.legend()\n",
    "            plt.savefig(fig_path + case_name + '_' + str(n_runs) + '_dYdt_' + dmethod + '.png')\n",
    "            #plt.show()\n",
    "            plt.close()\n",
    "        if i==5:\n",
    "            plt.title('$dDdt$ versus time (days)')\n",
    "            plt.plot(t, dDdt*population, label='dDdt', color='m')\n",
    "            plt.xlabel('Time (days)')\n",
    "            plt.ylabel('$dDdt$')\n",
    "            plt.legend()\n",
    "            plt.savefig(fig_path + case_name + '_' + str(n_runs) + '_dDdt_' + dmethod + '.png')\n",
    "            #plt.show()\n",
    "            plt.close()\n",
    "        if i==6:\n",
    "            plt.title('$dQdt$ versus time (days)')\n",
    "            plt.plot(t, dQdt*population, label='dQdt', color='m')\n",
    "            plt.xlabel('Time (days)')\n",
    "            plt.ylabel('$dQdt$')\n",
    "            plt.legend()\n",
    "            plt.savefig(fig_path + case_name + '_' + str(n_runs) + '_dQdt_' + dmethod + '.png')\n",
    "            #plt.show()\n",
    "            plt.close()\n",
    "        if i==7:\n",
    "            plt.title('$dRdt$ versus time (days)')\n",
    "            plt.plot(t, dRdt*population, label='dRdt', color='g')\n",
    "            plt.xlabel('Time (days)')\n",
    "            plt.ylabel('$dRdt$')\n",
    "            plt.legend()\n",
    "            plt.savefig(fig_path + case_name + '_' + str(n_runs) + '_dRdt_' + dmethod + '.png')\n",
    "            #plt.show()\n",
    "            plt.close()\n",
    "        if i==8:\n",
    "            plt.title('$dFdt$ versus time (days)')\n",
    "            plt.plot(t, dFdt*population, label='dFdt', color='k')\n",
    "            plt.xlabel('Time (days)')\n",
    "            plt.ylabel('$dFdt$')\n",
    "            plt.legend()\n",
    "            plt.savefig(fig_path + case_name + '_' + str(n_runs) + '_dFdt_' + dmethod + '.png')\n",
    "            #plt.show()\n",
    "            plt.close()"
   ]
  },
  {
   "cell_type": "code",
   "execution_count": 53,
   "metadata": {},
   "outputs": [],
   "source": [
    "# generate save path\n",
    "mydir = os.path.join('../models/covasim/denoised', datetime.datetime.now().strftime('%Y-%m-%d_%H-%M-%S'))\n",
    "os.makedirs(mydir)"
   ]
  },
  {
   "cell_type": "code",
   "execution_count": 54,
   "metadata": {},
   "outputs": [
    {
     "data": {
      "text/plain": [
       "MLPComponentsCV(\n",
       "  (eta_func): infect_rate_MLP(\n",
       "    (mlp): BuildMLP(\n",
       "      (activation): ReLU()\n",
       "      (output_activation): Sigmoid()\n",
       "      (MLP): Sequential(\n",
       "        (0): Linear(in_features=3, out_features=256, bias=True)\n",
       "        (1): ReLU()\n",
       "        (2): Dropout(p=0.2, inplace=False)\n",
       "        (3): Linear(in_features=256, out_features=1, bias=True)\n",
       "        (4): Sigmoid()\n",
       "      )\n",
       "    )\n",
       "  )\n",
       "  (beta_func): beta_MLP(\n",
       "    (mlp): BuildMLP(\n",
       "      (activation): ReLU()\n",
       "      (output_activation): Sigmoid()\n",
       "      (MLP): Sequential(\n",
       "        (0): Linear(in_features=2, out_features=256, bias=True)\n",
       "        (1): ReLU()\n",
       "        (2): Dropout(p=0.2, inplace=False)\n",
       "        (3): Linear(in_features=256, out_features=1, bias=True)\n",
       "        (4): Sigmoid()\n",
       "      )\n",
       "    )\n",
       "  )\n",
       "  (tau_func): tau_MLP(\n",
       "    (mlp): BuildMLP(\n",
       "      (activation): ReLU()\n",
       "      (output_activation): Sigmoid()\n",
       "      (MLP): Sequential(\n",
       "        (0): Linear(in_features=2, out_features=256, bias=True)\n",
       "        (1): ReLU()\n",
       "        (2): Dropout(p=0.2, inplace=False)\n",
       "        (3): Linear(in_features=256, out_features=1, bias=True)\n",
       "        (4): Sigmoid()\n",
       "      )\n",
       "    )\n",
       "  )\n",
       ")"
      ]
     },
     "execution_count": 54,
     "metadata": {},
     "output_type": "execute_result"
    }
   ],
   "source": [
    "# initialize model\n",
    "binn = MLPComponentsCV(params, u_tensor, N, tracing_array, keep_d=keep_d, chi_type=chi_type)\n",
    "binn.to(device)"
   ]
  },
  {
   "cell_type": "code",
   "execution_count": 55,
   "metadata": {},
   "outputs": [],
   "source": [
    "parameters = binn.parameters()\n",
    "opt = torch.optim.Adam(parameters, lr=1e-5)\n",
    "os.makedirs(os.path.join(mydir, case_name))\n",
    "model = ModelWrapper(\n",
    "    model=binn,\n",
    "    optimizer=opt,\n",
    "    loss=binn.loss,\n",
    "    augmentation=None,\n",
    "    # scheduler= scheduler,\n",
    "    save_name=os.path.join(mydir, case_name) )\n",
    "model.str_name = 'STEAYDQRF'"
   ]
  },
  {
   "cell_type": "code",
   "execution_count": 56,
   "metadata": {},
   "outputs": [],
   "source": [
    "# save the range information before training\n",
    "ranges = [binn.yita_lb, binn.yita_ub, binn.beta_lb, binn.beta_ub, binn.tau_lb, binn.tau_ub]\n",
    "file_name = '_'.join([str(m) for m in ranges])\n",
    "joblib.dump(None, os.path.join(mydir, file_name)) # model.save_folder\n",
    "# if retrain\n",
    "if retrain:\n",
    "    model.load(model.save_name + '_best_val_model', device=device)\n",
    "    model.model.train()\n",
    "    model.save_name += '_retrain'\n",
    "    \n",
    "epochs = int(30e3)\n",
    "batch_size = 128\n",
    "rel_save_thresh = 0.05"
   ]
  },
  {
   "cell_type": "code",
   "execution_count": 57,
   "metadata": {},
   "outputs": [
    {
     "name": "stdout",
     "output_type": "stream",
     "text": [
      "Epoch 29999 | Train loss = 1.5456e-02 | Val loss = 1.3364e-02 | Elapsed = 2:03:28             \n"
     ]
    }
   ],
   "source": [
    "# train jointly\n",
    "model.fit(\n",
    "    x=x_train,\n",
    "    y=y_train,\n",
    "    batch_size=batch_size,\n",
    "    epochs=epochs,\n",
    "    callbacks=None,\n",
    "    verbose=1,\n",
    "    validation_data=[x_val, y_val],\n",
    "    early_stopping=20000,\n",
    "    rel_save_thresh=rel_save_thresh)"
   ]
  },
  {
   "cell_type": "code",
   "execution_count": 58,
   "metadata": {},
   "outputs": [
    {
     "data": {
      "image/png": "[encoded data removed]",
      "text/plain": [
       "<Figure size 1500x500 with 2 Axes>"
      ]
     },
     "metadata": {},
     "output_type": "display_data"
    }
   ],
   "source": [
    "total_train_losses = model.train_loss_list\n",
    "total_val_losses = model.val_loss_list\n",
    "\n",
    "plot_loss_convergence(total_train_losses, total_val_losses, rel_save_thresh, model.save_folder)"
   ]
  }
 ],
 "metadata": {
  "kernelspec": {
   "display_name": "reu_env",
   "language": "python",
   "name": "python3"
  },
  "language_info": {
   "codemirror_mode": {
    "name": "ipython",
    "version": 3
   },
   "file_extension": ".py",
   "mimetype": "text/x-python",
   "name": "python",
   "nbconvert_exporter": "python",
   "pygments_lexer": "ipython3",
   "version": "3.10.11"
  },
  "orig_nbformat": 4
 },
 "nbformat": 4,
 "nbformat_minor": 2
}
