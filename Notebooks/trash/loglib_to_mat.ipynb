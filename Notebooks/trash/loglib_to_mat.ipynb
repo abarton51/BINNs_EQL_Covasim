{
 "cells": [
  {
   "cell_type": "code",
   "execution_count": null,
   "metadata": {},
   "outputs": [],
   "source": [
    "# pip install --upgrade pandas"
   ]
  },
  {
   "cell_type": "code",
   "execution_count": 2,
   "metadata": {},
   "outputs": [
    {
     "name": "stderr",
     "output_type": "stream",
     "text": [
      "c:\\Users\\Teddy\\anaconda3\\envs\\reu_env\\lib\\site-packages\\tqdm\\auto.py:21: TqdmWarning: IProgress not found. Please update jupyter and ipywidgets. See https://ipywidgets.readthedocs.io/en/stable/user_install.html\n",
      "  from .autonotebook import tqdm as notebook_tqdm\n"
     ]
    }
   ],
   "source": [
    "import numpy as np\n",
    "import pandas as pd\n",
    "# print(pd.show_versions())\n",
    "\n",
    "import sys\n",
    "sys.path.append('../../')\n",
    "sys.path.append('../')\n",
    "\n",
    "from Modules.Utils.Imports import *\n",
    "\n",
    "import Modules.Loaders.DataFormatter as DF\n",
    "from utils import get_case_name\n",
    "# helper functions\n",
    "def to_torch(x):\n",
    "    return torch.from_numpy(x).float().to(device)\n",
    "def to_numpy(x):\n",
    "    return x.detach().cpu().numpy()"
   ]
  },
  {
   "cell_type": "code",
   "execution_count": 4,
   "metadata": {},
   "outputs": [
    {
     "name": "stdout",
     "output_type": "stream",
     "text": [
      "Device set to cpu\n"
     ]
    }
   ],
   "source": [
    "device = torch.device(GetLowestGPU(pick_from=[0]))\n",
    "# instantiate BINN\n",
    "path = '../Data/covasim_data/drums_data/'\n",
    "population = 200000\n",
    "test_prob = 0.1\n",
    "trace_prob = 0.3\n",
    "keep_d = True\n",
    "retrain = False\n",
    "dynamic = True\n",
    "chi_type = 'piecewise'\n",
    "keep_d = True\n",
    "case_name = get_case_name(population, test_prob, trace_prob, keep_d, dynamic=dynamic, chi_type=chi_type)\n",
    "params = DF.load_covasim_data(path, population, test_prob, trace_prob, keep_d, case_name)"
   ]
  },
  {
   "cell_type": "code",
   "execution_count": 5,
   "metadata": {},
   "outputs": [],
   "source": [
    "S = params['data']['S'].tolist()\n",
    "T = params['data']['T'].tolist()\n",
    "E = params['data']['E'].tolist()\n",
    "A = params['data']['A'].tolist()\n",
    "Y = params['data']['Y'].tolist()\n",
    "D = params['data']['D'].tolist()\n",
    "Q = params['data']['Q'].tolist()\n",
    "R = params['data']['R'].tolist()\n",
    "F = params['data']['F'].tolist()\n",
    "\n",
    "data_info = {}\n",
    "data_info['tracing_array'] = params['tracing_array']\n",
    "data_info['population'] = params['population']\n",
    "data_info['alpha'] = params['alpha']\n",
    "data_info['beta'] = params['beta']\n",
    "data_info['gamma'] = params['gamma']\n",
    "data_info['mu'] = params['mu']\n",
    "data_info['tau'] = params['tau']\n",
    "data_info['tau_lb'] = params['tau_lb']\n",
    "data_info['tau_ub'] = params['tau_ub']\n",
    "data_info['lamda'] = params['lamda']\n",
    "data_info['p_asymp'] = params['p_asymp']\n",
    "data_info['n_contacts'] = params['n_contacts']\n",
    "data_info['delta'] = params['delta']\n",
    "data_info['data'] = {}\n",
    "data_info['data']['S'] = S\n",
    "data_info['data']['T'] = T\n",
    "data_info['data']['E'] = E\n",
    "data_info['data']['A'] = A\n",
    "data_info['data']['Y'] = Y\n",
    "data_info['data']['D'] = D\n",
    "data_info['data']['Q'] = Q\n",
    "data_info['data']['R'] = R\n",
    "data_info['data']['F'] = F\n",
    "data_info['dynamic_tracing'] = params['dynamic_tracing']\n",
    "data_info['eff_ub'] = params['eff_ub']\n",
    "scipy.io.savemat('../Data/covasim_data/'+str(case_name)+'.mat',data_info)"
   ]
  }
 ],
 "metadata": {
  "kernelspec": {
   "display_name": "Python 3 (ipykernel)",
   "language": "python",
   "name": "python3"
  },
  "language_info": {
   "codemirror_mode": {
    "name": "ipython",
    "version": 3
   },
   "file_extension": ".py",
   "mimetype": "text/x-python",
   "name": "python",
   "nbconvert_exporter": "python",
   "pygments_lexer": "ipython3",
   "version": "3.10.11"
  }
 },
 "nbformat": 4,
 "nbformat_minor": 4
}
